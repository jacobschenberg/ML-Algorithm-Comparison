{
 "cells": [
  {
   "cell_type": "code",
   "execution_count": 1,
   "id": "hungry-clinic",
   "metadata": {},
   "outputs": [],
   "source": [
    "from sklearn.preprocessing import OneHotEncoder\n",
    "from sklearn.model_selection import train_test_split, GridSearchCV\n",
    "from sklearn.metrics import accuracy_score, confusion_matrix, classification_report\n",
    "import numpy as np\n",
    "import pandas as pd\n",
    "from sklearn import svm\n",
    "import seaborn as sns\n",
    "import matplotlib.pyplot as plt"
   ]
  },
  {
   "cell_type": "markdown",
   "id": "institutional-frank",
   "metadata": {},
   "source": [
    "## Predictive Maintenance Dataset"
   ]
  },
  {
   "cell_type": "code",
   "execution_count": 2,
   "id": "insured-letter",
   "metadata": {},
   "outputs": [
    {
     "data": {
      "text/html": [
       "<div>\n",
       "<style scoped>\n",
       "    .dataframe tbody tr th:only-of-type {\n",
       "        vertical-align: middle;\n",
       "    }\n",
       "\n",
       "    .dataframe tbody tr th {\n",
       "        vertical-align: top;\n",
       "    }\n",
       "\n",
       "    .dataframe thead th {\n",
       "        text-align: right;\n",
       "    }\n",
       "</style>\n",
       "<table border=\"1\" class=\"dataframe\">\n",
       "  <thead>\n",
       "    <tr style=\"text-align: right;\">\n",
       "      <th></th>\n",
       "      <th>H</th>\n",
       "      <th>L</th>\n",
       "      <th>M</th>\n",
       "      <th>Air temperature [K]</th>\n",
       "      <th>Process temperature [K]</th>\n",
       "      <th>Rotational speed [rpm]</th>\n",
       "      <th>Torque [Nm]</th>\n",
       "      <th>Tool wear [min]</th>\n",
       "      <th>Machine failure</th>\n",
       "      <th>TWF</th>\n",
       "      <th>HDF</th>\n",
       "      <th>PWF</th>\n",
       "      <th>OSF</th>\n",
       "      <th>RNF</th>\n",
       "    </tr>\n",
       "  </thead>\n",
       "  <tbody>\n",
       "    <tr>\n",
       "      <th>0</th>\n",
       "      <td>0.0</td>\n",
       "      <td>0.0</td>\n",
       "      <td>1.0</td>\n",
       "      <td>298.1</td>\n",
       "      <td>308.6</td>\n",
       "      <td>1551</td>\n",
       "      <td>42.8</td>\n",
       "      <td>0</td>\n",
       "      <td>0</td>\n",
       "      <td>0</td>\n",
       "      <td>0</td>\n",
       "      <td>0</td>\n",
       "      <td>0</td>\n",
       "      <td>0</td>\n",
       "    </tr>\n",
       "    <tr>\n",
       "      <th>1</th>\n",
       "      <td>0.0</td>\n",
       "      <td>1.0</td>\n",
       "      <td>0.0</td>\n",
       "      <td>298.2</td>\n",
       "      <td>308.7</td>\n",
       "      <td>1408</td>\n",
       "      <td>46.3</td>\n",
       "      <td>3</td>\n",
       "      <td>0</td>\n",
       "      <td>0</td>\n",
       "      <td>0</td>\n",
       "      <td>0</td>\n",
       "      <td>0</td>\n",
       "      <td>0</td>\n",
       "    </tr>\n",
       "    <tr>\n",
       "      <th>2</th>\n",
       "      <td>0.0</td>\n",
       "      <td>1.0</td>\n",
       "      <td>0.0</td>\n",
       "      <td>298.1</td>\n",
       "      <td>308.5</td>\n",
       "      <td>1498</td>\n",
       "      <td>49.4</td>\n",
       "      <td>5</td>\n",
       "      <td>0</td>\n",
       "      <td>0</td>\n",
       "      <td>0</td>\n",
       "      <td>0</td>\n",
       "      <td>0</td>\n",
       "      <td>0</td>\n",
       "    </tr>\n",
       "    <tr>\n",
       "      <th>3</th>\n",
       "      <td>0.0</td>\n",
       "      <td>1.0</td>\n",
       "      <td>0.0</td>\n",
       "      <td>298.2</td>\n",
       "      <td>308.6</td>\n",
       "      <td>1433</td>\n",
       "      <td>39.5</td>\n",
       "      <td>7</td>\n",
       "      <td>0</td>\n",
       "      <td>0</td>\n",
       "      <td>0</td>\n",
       "      <td>0</td>\n",
       "      <td>0</td>\n",
       "      <td>0</td>\n",
       "    </tr>\n",
       "    <tr>\n",
       "      <th>4</th>\n",
       "      <td>0.0</td>\n",
       "      <td>1.0</td>\n",
       "      <td>0.0</td>\n",
       "      <td>298.2</td>\n",
       "      <td>308.7</td>\n",
       "      <td>1408</td>\n",
       "      <td>40.0</td>\n",
       "      <td>9</td>\n",
       "      <td>0</td>\n",
       "      <td>0</td>\n",
       "      <td>0</td>\n",
       "      <td>0</td>\n",
       "      <td>0</td>\n",
       "      <td>0</td>\n",
       "    </tr>\n",
       "    <tr>\n",
       "      <th>...</th>\n",
       "      <td>...</td>\n",
       "      <td>...</td>\n",
       "      <td>...</td>\n",
       "      <td>...</td>\n",
       "      <td>...</td>\n",
       "      <td>...</td>\n",
       "      <td>...</td>\n",
       "      <td>...</td>\n",
       "      <td>...</td>\n",
       "      <td>...</td>\n",
       "      <td>...</td>\n",
       "      <td>...</td>\n",
       "      <td>...</td>\n",
       "      <td>...</td>\n",
       "    </tr>\n",
       "    <tr>\n",
       "      <th>9995</th>\n",
       "      <td>0.0</td>\n",
       "      <td>0.0</td>\n",
       "      <td>1.0</td>\n",
       "      <td>298.8</td>\n",
       "      <td>308.4</td>\n",
       "      <td>1604</td>\n",
       "      <td>29.5</td>\n",
       "      <td>14</td>\n",
       "      <td>0</td>\n",
       "      <td>0</td>\n",
       "      <td>0</td>\n",
       "      <td>0</td>\n",
       "      <td>0</td>\n",
       "      <td>0</td>\n",
       "    </tr>\n",
       "    <tr>\n",
       "      <th>9996</th>\n",
       "      <td>1.0</td>\n",
       "      <td>0.0</td>\n",
       "      <td>0.0</td>\n",
       "      <td>298.9</td>\n",
       "      <td>308.4</td>\n",
       "      <td>1632</td>\n",
       "      <td>31.8</td>\n",
       "      <td>17</td>\n",
       "      <td>0</td>\n",
       "      <td>0</td>\n",
       "      <td>0</td>\n",
       "      <td>0</td>\n",
       "      <td>0</td>\n",
       "      <td>0</td>\n",
       "    </tr>\n",
       "    <tr>\n",
       "      <th>9997</th>\n",
       "      <td>0.0</td>\n",
       "      <td>0.0</td>\n",
       "      <td>1.0</td>\n",
       "      <td>299.0</td>\n",
       "      <td>308.6</td>\n",
       "      <td>1645</td>\n",
       "      <td>33.4</td>\n",
       "      <td>22</td>\n",
       "      <td>0</td>\n",
       "      <td>0</td>\n",
       "      <td>0</td>\n",
       "      <td>0</td>\n",
       "      <td>0</td>\n",
       "      <td>0</td>\n",
       "    </tr>\n",
       "    <tr>\n",
       "      <th>9998</th>\n",
       "      <td>1.0</td>\n",
       "      <td>0.0</td>\n",
       "      <td>0.0</td>\n",
       "      <td>299.0</td>\n",
       "      <td>308.7</td>\n",
       "      <td>1408</td>\n",
       "      <td>48.5</td>\n",
       "      <td>25</td>\n",
       "      <td>0</td>\n",
       "      <td>0</td>\n",
       "      <td>0</td>\n",
       "      <td>0</td>\n",
       "      <td>0</td>\n",
       "      <td>0</td>\n",
       "    </tr>\n",
       "    <tr>\n",
       "      <th>9999</th>\n",
       "      <td>0.0</td>\n",
       "      <td>0.0</td>\n",
       "      <td>1.0</td>\n",
       "      <td>299.0</td>\n",
       "      <td>308.7</td>\n",
       "      <td>1500</td>\n",
       "      <td>40.2</td>\n",
       "      <td>30</td>\n",
       "      <td>0</td>\n",
       "      <td>0</td>\n",
       "      <td>0</td>\n",
       "      <td>0</td>\n",
       "      <td>0</td>\n",
       "      <td>0</td>\n",
       "    </tr>\n",
       "  </tbody>\n",
       "</table>\n",
       "<p>10000 rows × 14 columns</p>\n",
       "</div>"
      ],
      "text/plain": [
       "        H    L    M  Air temperature [K]  Process temperature [K]  \\\n",
       "0     0.0  0.0  1.0                298.1                    308.6   \n",
       "1     0.0  1.0  0.0                298.2                    308.7   \n",
       "2     0.0  1.0  0.0                298.1                    308.5   \n",
       "3     0.0  1.0  0.0                298.2                    308.6   \n",
       "4     0.0  1.0  0.0                298.2                    308.7   \n",
       "...   ...  ...  ...                  ...                      ...   \n",
       "9995  0.0  0.0  1.0                298.8                    308.4   \n",
       "9996  1.0  0.0  0.0                298.9                    308.4   \n",
       "9997  0.0  0.0  1.0                299.0                    308.6   \n",
       "9998  1.0  0.0  0.0                299.0                    308.7   \n",
       "9999  0.0  0.0  1.0                299.0                    308.7   \n",
       "\n",
       "      Rotational speed [rpm]  Torque [Nm]  Tool wear [min]  Machine failure  \\\n",
       "0                       1551         42.8                0                0   \n",
       "1                       1408         46.3                3                0   \n",
       "2                       1498         49.4                5                0   \n",
       "3                       1433         39.5                7                0   \n",
       "4                       1408         40.0                9                0   \n",
       "...                      ...          ...              ...              ...   \n",
       "9995                    1604         29.5               14                0   \n",
       "9996                    1632         31.8               17                0   \n",
       "9997                    1645         33.4               22                0   \n",
       "9998                    1408         48.5               25                0   \n",
       "9999                    1500         40.2               30                0   \n",
       "\n",
       "      TWF  HDF  PWF  OSF  RNF  \n",
       "0       0    0    0    0    0  \n",
       "1       0    0    0    0    0  \n",
       "2       0    0    0    0    0  \n",
       "3       0    0    0    0    0  \n",
       "4       0    0    0    0    0  \n",
       "...   ...  ...  ...  ...  ...  \n",
       "9995    0    0    0    0    0  \n",
       "9996    0    0    0    0    0  \n",
       "9997    0    0    0    0    0  \n",
       "9998    0    0    0    0    0  \n",
       "9999    0    0    0    0    0  \n",
       "\n",
       "[10000 rows x 14 columns]"
      ]
     },
     "execution_count": 2,
     "metadata": {},
     "output_type": "execute_result"
    }
   ],
   "source": [
    "# Predictive maintenance dataset\n",
    "predictive_maintenance = pd.read_csv('https://archive.ics.uci.edu/ml/machine-learning-databases/00601/ai4i2020.csv')\n",
    "\n",
    "# Drops columns with strings\n",
    "predictive_maintenance = predictive_maintenance.drop(columns = ['UDI', 'Product ID'])\n",
    "\n",
    "# One hot encoding categorical features\n",
    "encoder = OneHotEncoder().fit(predictive_maintenance[['Type']])\n",
    "encoder.categories_\n",
    "\n",
    "transformed = encoder.transform(predictive_maintenance[['Type']] ).toarray() \n",
    "transformed\n",
    "\n",
    "for index, category in enumerate( np.concatenate(encoder.categories_) ):\n",
    "    predictive_maintenance[category] = transformed[:,index] \n",
    "\n",
    "predictive_maintenance = predictive_maintenance.drop(columns = ['Type'])\n",
    "\n",
    "cols = predictive_maintenance.columns.tolist()\n",
    "cols = cols[-3:] + cols[:-3]\n",
    "predictive_maintenance = predictive_maintenance[cols]\n",
    "\n",
    "predictive_maintenance"
   ]
  },
  {
   "cell_type": "code",
   "execution_count": 3,
   "id": "becoming-penalty",
   "metadata": {},
   "outputs": [],
   "source": [
    "# Stores value of Machine Failure in Y and everything else in X\n",
    "X_p = predictive_maintenance.drop(['Machine failure'], axis=1)\n",
    "Y_p = predictive_maintenance['Machine failure']\n",
    "\n",
    "# Gets 5000 random samples\n",
    "X_train, X_test, Y_train, Y_test = train_test_split(X_p, Y_p, train_size = 5000, random_state = 1)"
   ]
  },
  {
   "cell_type": "code",
   "execution_count": null,
   "id": "functional-advertiser",
   "metadata": {},
   "outputs": [],
   "source": [
    "classifier = svm.SVC(kernel= 'rbf')\n",
    "parameters = {'C': [1, 10, 100, 1000], 'gamma': [1e-6, 1e-5, 1e-4, 1e-3, 1e-2]}\n",
    "search_results =  GridSearchCV(classifier, parameters)\n",
    "\n",
    "best_model = search_results.fit(X_train,Y_train)"
   ]
  },
  {
   "cell_type": "code",
   "execution_count": 5,
   "id": "manufactured-anaheim",
   "metadata": {},
   "outputs": [
    {
     "data": {
      "text/plain": [
       "99.5"
      ]
     },
     "execution_count": 5,
     "metadata": {},
     "output_type": "execute_result"
    }
   ],
   "source": [
    "# Predicts the output\n",
    "Y_pred = search_results.predict(X_test)\n",
    "\n",
    "# Displays the accuracy of the model\n",
    "accuracy = (accuracy_score(Y_test, Y_pred))*100\n",
    "accuracy"
   ]
  },
  {
   "cell_type": "code",
   "execution_count": 6,
   "id": "polyphonic-alpha",
   "metadata": {},
   "outputs": [
    {
     "name": "stdout",
     "output_type": "stream",
     "text": [
      "[[4824    6]\n",
      " [  19  151]]\n",
      "              precision    recall  f1-score   support\n",
      "\n",
      "           0       1.00      1.00      1.00      4830\n",
      "           1       0.96      0.89      0.92       170\n",
      "\n",
      "    accuracy                           0.99      5000\n",
      "   macro avg       0.98      0.94      0.96      5000\n",
      "weighted avg       0.99      0.99      0.99      5000\n",
      "\n"
     ]
    }
   ],
   "source": [
    "# Evaluating the algorithm\n",
    "print(confusion_matrix(Y_test, Y_pred))\n",
    "print(classification_report(Y_test, Y_pred))"
   ]
  },
  {
   "cell_type": "code",
   "execution_count": 7,
   "id": "molecular-plane",
   "metadata": {},
   "outputs": [
    {
     "data": {
      "text/plain": [
       "{'mean_fit_time': array([0.0722775 , 0.07678294, 0.10190635, 0.14366698, 0.6832468 ,\n",
       "        0.09666481, 0.10209742, 0.08561082, 0.13927946, 0.70053458,\n",
       "        0.21373138, 0.12478409, 0.11512113, 0.1708765 , 0.63513722,\n",
       "        0.48440609, 0.24482946, 0.28182397, 0.19859138, 0.63474989]),\n",
       " 'std_fit_time': array([0.00961846, 0.00519339, 0.0106192 , 0.00829659, 0.03924709,\n",
       "        0.0064502 , 0.011179  , 0.00523201, 0.00617318, 0.02593152,\n",
       "        0.08452132, 0.02520504, 0.01131429, 0.00619862, 0.08772689,\n",
       "        0.32777776, 0.03187578, 0.02937342, 0.03017877, 0.0765281 ]),\n",
       " 'mean_score_time': array([0.01733932, 0.01672044, 0.02329831, 0.0382823 , 0.12471266,\n",
       "        0.01583467, 0.01714196, 0.016993  , 0.03235126, 0.12063498,\n",
       "        0.0161984 , 0.01659398, 0.01674891, 0.02940016, 0.12035503,\n",
       "        0.01850061, 0.01590571, 0.01308446, 0.02531438, 0.12100348]),\n",
       " 'std_score_time': array([0.0015678 , 0.00054426, 0.00470065, 0.00350098, 0.00585272,\n",
       "        0.0005511 , 0.00118116, 0.00053639, 0.00149718, 0.00161493,\n",
       "        0.00054576, 0.00092757, 0.00050247, 0.00132397, 0.00457478,\n",
       "        0.00318223, 0.00180355, 0.00070818, 0.00295255, 0.00391362]),\n",
       " 'param_C': masked_array(data=[1, 1, 1, 1, 1, 10, 10, 10, 10, 10, 100, 100, 100, 100,\n",
       "                    100, 1000, 1000, 1000, 1000, 1000],\n",
       "              mask=[False, False, False, False, False, False, False, False,\n",
       "                    False, False, False, False, False, False, False, False,\n",
       "                    False, False, False, False],\n",
       "        fill_value='?',\n",
       "             dtype=object),\n",
       " 'param_gamma': masked_array(data=[1e-06, 1e-05, 0.0001, 0.001, 0.01, 1e-06, 1e-05,\n",
       "                    0.0001, 0.001, 0.01, 1e-06, 1e-05, 0.0001, 0.001, 0.01,\n",
       "                    1e-06, 1e-05, 0.0001, 0.001, 0.01],\n",
       "              mask=[False, False, False, False, False, False, False, False,\n",
       "                    False, False, False, False, False, False, False, False,\n",
       "                    False, False, False, False],\n",
       "        fill_value='?',\n",
       "             dtype=object),\n",
       " 'params': [{'C': 1, 'gamma': 1e-06},\n",
       "  {'C': 1, 'gamma': 1e-05},\n",
       "  {'C': 1, 'gamma': 0.0001},\n",
       "  {'C': 1, 'gamma': 0.001},\n",
       "  {'C': 1, 'gamma': 0.01},\n",
       "  {'C': 10, 'gamma': 1e-06},\n",
       "  {'C': 10, 'gamma': 1e-05},\n",
       "  {'C': 10, 'gamma': 0.0001},\n",
       "  {'C': 10, 'gamma': 0.001},\n",
       "  {'C': 10, 'gamma': 0.01},\n",
       "  {'C': 100, 'gamma': 1e-06},\n",
       "  {'C': 100, 'gamma': 1e-05},\n",
       "  {'C': 100, 'gamma': 0.0001},\n",
       "  {'C': 100, 'gamma': 0.001},\n",
       "  {'C': 100, 'gamma': 0.01},\n",
       "  {'C': 1000, 'gamma': 1e-06},\n",
       "  {'C': 1000, 'gamma': 1e-05},\n",
       "  {'C': 1000, 'gamma': 0.0001},\n",
       "  {'C': 1000, 'gamma': 0.001},\n",
       "  {'C': 1000, 'gamma': 0.01}],\n",
       " 'split0_test_score': array([0.967, 0.968, 0.968, 0.967, 0.966, 0.968, 0.967, 0.968, 0.967,\n",
       "        0.956, 0.967, 0.968, 0.971, 0.964, 0.951, 0.968, 0.977, 0.989,\n",
       "        0.963, 0.951]),\n",
       " 'split1_test_score': array([0.966, 0.97 , 0.97 , 0.968, 0.967, 0.97 , 0.97 , 0.971, 0.968,\n",
       "        0.952, 0.97 , 0.971, 0.972, 0.969, 0.951, 0.97 , 0.974, 0.992,\n",
       "        0.973, 0.951]),\n",
       " 'split2_test_score': array([0.966, 0.968, 0.967, 0.969, 0.966, 0.967, 0.968, 0.969, 0.97 ,\n",
       "        0.953, 0.968, 0.967, 0.974, 0.972, 0.952, 0.968, 0.974, 0.992,\n",
       "        0.976, 0.952]),\n",
       " 'split3_test_score': array([0.966, 0.968, 0.968, 0.972, 0.966, 0.968, 0.968, 0.972, 0.977,\n",
       "        0.966, 0.968, 0.968, 0.979, 0.977, 0.963, 0.968, 0.978, 0.996,\n",
       "        0.973, 0.963]),\n",
       " 'split4_test_score': array([0.965, 0.964, 0.966, 0.966, 0.966, 0.964, 0.964, 0.966, 0.962,\n",
       "        0.964, 0.965, 0.965, 0.967, 0.968, 0.958, 0.964, 0.972, 0.983,\n",
       "        0.969, 0.958]),\n",
       " 'mean_test_score': array([0.966 , 0.9676, 0.9678, 0.9684, 0.9662, 0.9674, 0.9674, 0.9692,\n",
       "        0.9688, 0.9582, 0.9676, 0.9678, 0.9726, 0.97  , 0.955 , 0.9676,\n",
       "        0.975 , 0.9904, 0.9708, 0.955 ]),\n",
       " 'std_test_score': array([0.00063246, 0.00195959, 0.00132665, 0.00205913, 0.0004    ,\n",
       "        0.00195959, 0.00195959, 0.00213542, 0.00487442, 0.00574108,\n",
       "        0.00162481, 0.00193907, 0.00392938, 0.0043359 , 0.00477493,\n",
       "        0.00195959, 0.00219089, 0.00431741, 0.00448999, 0.00477493]),\n",
       " 'rank_test_score': array([17, 12, 10,  8, 16, 14, 14,  6,  7, 18, 11,  9,  3,  5, 19, 12,  2,\n",
       "         1,  4, 19], dtype=int32)}"
      ]
     },
     "execution_count": 7,
     "metadata": {},
     "output_type": "execute_result"
    }
   ],
   "source": [
    "best_model.cv_results_"
   ]
  },
  {
   "cell_type": "code",
   "execution_count": 8,
   "id": "classical-gravity",
   "metadata": {},
   "outputs": [
    {
     "data": {
      "image/png": "[encoded data removed]",
      "text/plain": [
       "<Figure size 432x288 with 2 Axes>"
      ]
     },
     "metadata": {
      "needs_background": "light"
     },
     "output_type": "display_data"
    }
   ],
   "source": [
    "results = pd.DataFrame( search_results.cv_results_['params'] )\n",
    "\n",
    "results['score'] = 1 - search_results.cv_results_['mean_test_score']\n",
    "\n",
    "results = results.pivot('C','gamma','score')\n",
    "\n",
    "sns.heatmap(results,annot=True, fmt='.3f') \n",
    "plt.title('Training error w.r.t $C$ and $\\gamma$')\n",
    "plt.show()"
   ]
  },
  {
   "cell_type": "code",
   "execution_count": 9,
   "id": "loving-bowling",
   "metadata": {},
   "outputs": [
    {
     "name": "stdout",
     "output_type": "stream",
     "text": [
      "Test set error for optimum classifier(C=1000,gamma=0.0001): 0.005\n"
     ]
    }
   ],
   "source": [
    "# extract the best estimator and its params\n",
    "opt_classifier = search_results.best_estimator_\n",
    "opt_C = search_results.best_params_['C']\n",
    "opt_gamma = search_results.best_params_['gamma']\n",
    "\n",
    "# test set evaluation\n",
    "opt_classifier.fit(X_train,Y_train)\n",
    "\n",
    "# turns accuracy into misclassification error\n",
    "opt_test_score = 1 - opt_classifier.score(X_test,Y_test) \n",
    "print(f'Test set error for optimum classifier(C={opt_C},gamma={opt_gamma}): {opt_test_score:.3f}') \n"
   ]
  },
  {
   "cell_type": "code",
   "execution_count": 10,
   "id": "ideal-country",
   "metadata": {},
   "outputs": [],
   "source": [
    "# Gets another 50000 random samples\n",
    "X_train, X_test, Y_train, Y_test = train_test_split(X_p, Y_p, train_size = 5000, random_state = 2)"
   ]
  },
  {
   "cell_type": "code",
   "execution_count": 11,
   "id": "legislative-classics",
   "metadata": {},
   "outputs": [],
   "source": [
    "classifier = svm.SVC(kernel= 'rbf')\n",
    "parameters = {'C': [1, 10, 100, 1000], 'gamma': [1e-6, 1e-5, 1e-4, 1e-3, 1e-2]}\n",
    "search_results =  GridSearchCV(classifier, parameters)\n",
    "\n",
    "best_model = search_results.fit(X_train,Y_train)"
   ]
  },
  {
   "cell_type": "code",
   "execution_count": 12,
   "id": "directed-banner",
   "metadata": {},
   "outputs": [
    {
     "data": {
      "text/plain": [
       "99.14"
      ]
     },
     "execution_count": 12,
     "metadata": {},
     "output_type": "execute_result"
    }
   ],
   "source": [
    "# Predicts the output\n",
    "X_pred = search_results.predict(X_test)\n",
    "\n",
    "# Displays the accuracy of the model\n",
    "accuracy = (accuracy_score(Y_test, X_pred))*100\n",
    "accuracy"
   ]
  },
  {
   "cell_type": "code",
   "execution_count": 13,
   "id": "attempted-training",
   "metadata": {},
   "outputs": [
    {
     "name": "stdout",
     "output_type": "stream",
     "text": [
      "[[4684  152]\n",
      " [ 159    5]]\n",
      "              precision    recall  f1-score   support\n",
      "\n",
      "           0       0.97      0.97      0.97      4836\n",
      "           1       0.03      0.03      0.03       164\n",
      "\n",
      "    accuracy                           0.94      5000\n",
      "   macro avg       0.50      0.50      0.50      5000\n",
      "weighted avg       0.94      0.94      0.94      5000\n",
      "\n"
     ]
    }
   ],
   "source": [
    "# Evaluating the algorithm\n",
    "print(confusion_matrix(Y_test, Y_pred))\n",
    "print(classification_report(Y_test, Y_pred))"
   ]
  },
  {
   "cell_type": "code",
   "execution_count": 14,
   "id": "consistent-award",
   "metadata": {},
   "outputs": [
    {
     "data": {
      "text/plain": [
       "{'mean_fit_time': array([0.06220174, 0.07201004, 0.09236641, 0.15777497, 0.7169569 ,\n",
       "        0.0898777 , 0.08730912, 0.088694  , 0.16134391, 0.69384508,\n",
       "        0.15181193, 0.10338101, 0.11953144, 0.18511806, 0.68113537,\n",
       "        0.19626508, 0.2187397 , 0.34827628, 0.14340625, 0.62848759]),\n",
       " 'std_fit_time': array([0.00368062, 0.0074699 , 0.01329877, 0.00307947, 0.0627836 ,\n",
       "        0.00651998, 0.00435668, 0.00307627, 0.01118721, 0.11699405,\n",
       "        0.02510404, 0.0036652 , 0.00665975, 0.00804999, 0.10097598,\n",
       "        0.02599951, 0.04563391, 0.04872494, 0.00771532, 0.07374973]),\n",
       " 'mean_score_time': array([0.01584487, 0.01641779, 0.02022672, 0.0368454 , 0.1317728 ,\n",
       "        0.01632881, 0.01691313, 0.01725049, 0.03323016, 0.123384  ,\n",
       "        0.01748157, 0.01583724, 0.01660523, 0.02979913, 0.13068852,\n",
       "        0.01729498, 0.0159266 , 0.01342859, 0.01800532, 0.11962008]),\n",
       " 'std_score_time': array([0.00038857, 0.00146744, 0.00133613, 0.00050694, 0.00587508,\n",
       "        0.00039669, 0.00207153, 0.00031785, 0.00224883, 0.00723009,\n",
       "        0.00098435, 0.0007693 , 0.00040932, 0.00047157, 0.00710928,\n",
       "        0.00348517, 0.00240665, 0.00038981, 0.00081452, 0.00673786]),\n",
       " 'param_C': masked_array(data=[1, 1, 1, 1, 1, 10, 10, 10, 10, 10, 100, 100, 100, 100,\n",
       "                    100, 1000, 1000, 1000, 1000, 1000],\n",
       "              mask=[False, False, False, False, False, False, False, False,\n",
       "                    False, False, False, False, False, False, False, False,\n",
       "                    False, False, False, False],\n",
       "        fill_value='?',\n",
       "             dtype=object),\n",
       " 'param_gamma': masked_array(data=[1e-06, 1e-05, 0.0001, 0.001, 0.01, 1e-06, 1e-05,\n",
       "                    0.0001, 0.001, 0.01, 1e-06, 1e-05, 0.0001, 0.001, 0.01,\n",
       "                    1e-06, 1e-05, 0.0001, 0.001, 0.01],\n",
       "              mask=[False, False, False, False, False, False, False, False,\n",
       "                    False, False, False, False, False, False, False, False,\n",
       "                    False, False, False, False],\n",
       "        fill_value='?',\n",
       "             dtype=object),\n",
       " 'params': [{'C': 1, 'gamma': 1e-06},\n",
       "  {'C': 1, 'gamma': 1e-05},\n",
       "  {'C': 1, 'gamma': 0.0001},\n",
       "  {'C': 1, 'gamma': 0.001},\n",
       "  {'C': 1, 'gamma': 0.01},\n",
       "  {'C': 10, 'gamma': 1e-06},\n",
       "  {'C': 10, 'gamma': 1e-05},\n",
       "  {'C': 10, 'gamma': 0.0001},\n",
       "  {'C': 10, 'gamma': 0.001},\n",
       "  {'C': 10, 'gamma': 0.01},\n",
       "  {'C': 100, 'gamma': 1e-06},\n",
       "  {'C': 100, 'gamma': 1e-05},\n",
       "  {'C': 100, 'gamma': 0.0001},\n",
       "  {'C': 100, 'gamma': 0.001},\n",
       "  {'C': 100, 'gamma': 0.01},\n",
       "  {'C': 1000, 'gamma': 1e-06},\n",
       "  {'C': 1000, 'gamma': 1e-05},\n",
       "  {'C': 1000, 'gamma': 0.0001},\n",
       "  {'C': 1000, 'gamma': 0.001},\n",
       "  {'C': 1000, 'gamma': 0.01}],\n",
       " 'split0_test_score': array([0.967, 0.967, 0.97 , 0.971, 0.964, 0.967, 0.967, 0.975, 0.977,\n",
       "        0.957, 0.967, 0.971, 0.976, 0.977, 0.958, 0.967, 0.979, 0.992,\n",
       "        0.976, 0.958]),\n",
       " 'split1_test_score': array([0.964, 0.964, 0.966, 0.966, 0.966, 0.964, 0.964, 0.967, 0.967,\n",
       "        0.963, 0.964, 0.966, 0.97 , 0.967, 0.96 , 0.964, 0.973, 0.992,\n",
       "        0.974, 0.96 ]),\n",
       " 'split2_test_score': array([0.969, 0.969, 0.968, 0.964, 0.964, 0.969, 0.969, 0.969, 0.965,\n",
       "        0.954, 0.969, 0.969, 0.973, 0.967, 0.954, 0.969, 0.977, 0.994,\n",
       "        0.969, 0.954]),\n",
       " 'split3_test_score': array([0.969, 0.969, 0.972, 0.972, 0.966, 0.969, 0.969, 0.976, 0.975,\n",
       "        0.961, 0.969, 0.975, 0.978, 0.976, 0.958, 0.969, 0.982, 0.993,\n",
       "        0.978, 0.958]),\n",
       " 'split4_test_score': array([0.969, 0.969, 0.972, 0.966, 0.962, 0.969, 0.969, 0.974, 0.963,\n",
       "        0.951, 0.969, 0.974, 0.974, 0.967, 0.947, 0.969, 0.978, 0.991,\n",
       "        0.963, 0.947]),\n",
       " 'mean_test_score': array([0.9676, 0.9676, 0.9696, 0.9678, 0.9644, 0.9676, 0.9676, 0.9722,\n",
       "        0.9694, 0.9572, 0.9676, 0.971 , 0.9742, 0.9708, 0.9554, 0.9676,\n",
       "        0.9778, 0.9924, 0.972 , 0.9554]),\n",
       " 'std_test_score': array([0.00195959, 0.00195959, 0.00233238, 0.0031241 , 0.00149666,\n",
       "        0.00195959, 0.00195959, 0.00354401, 0.00557136, 0.0044    ,\n",
       "        0.00195959, 0.00328634, 0.00271293, 0.00466476, 0.00463033,\n",
       "        0.00195959, 0.00292575, 0.0010198 , 0.0054037 , 0.00463033]),\n",
       " 'rank_test_score': array([11, 11,  8, 10, 17, 11, 11,  4,  9, 18, 11,  6,  3,  7, 19, 11,  2,\n",
       "         1,  5, 19], dtype=int32)}"
      ]
     },
     "execution_count": 14,
     "metadata": {},
     "output_type": "execute_result"
    }
   ],
   "source": [
    "best_model.cv_results_"
   ]
  },
  {
   "cell_type": "code",
   "execution_count": 15,
   "id": "temporal-dividend",
   "metadata": {},
   "outputs": [
    {
     "data": {
      "image/png": "[encoded data removed]",
      "text/plain": [
       "<Figure size 432x288 with 2 Axes>"
      ]
     },
     "metadata": {
      "needs_background": "light"
     },
     "output_type": "display_data"
    }
   ],
   "source": [
    "results = pd.DataFrame( search_results.cv_results_['params'] )\n",
    "\n",
    "results['score'] = 1 - search_results.cv_results_['mean_test_score']\n",
    "\n",
    "results = results.pivot('C','gamma','score')\n",
    "\n",
    "sns.heatmap(results,annot=True, fmt='.3f') \n",
    "plt.title('Training error w.r.t $C$ and $\\gamma$')\n",
    "plt.show()"
   ]
  },
  {
   "cell_type": "code",
   "execution_count": 16,
   "id": "sixth-edgar",
   "metadata": {},
   "outputs": [
    {
     "name": "stdout",
     "output_type": "stream",
     "text": [
      "Test set error for optimum classifier(C=1000,gamma=0.0001): 0.009\n"
     ]
    }
   ],
   "source": [
    "# extract the best estimator and its params\n",
    "opt_classifier = search_results.best_estimator_\n",
    "opt_C = search_results.best_params_['C']\n",
    "opt_gamma = search_results.best_params_['gamma']\n",
    "\n",
    "# just a copy/paste of test set evaluation from before\n",
    "opt_classifier.fit(X_train,Y_train)\n",
    "opt_test_score = 1 - opt_classifier.score(X_test,Y_test) # again turn accuracy into misclassification error\n",
    "print(f'Test set error for optimum classifier(C={opt_C},gamma={opt_gamma}): {opt_test_score:.3f}') "
   ]
  },
  {
   "cell_type": "code",
   "execution_count": 17,
   "id": "worst-injury",
   "metadata": {},
   "outputs": [],
   "source": [
    "X_train, X_test, Y_train, Y_test = train_test_split(X_p, Y_p, train_size = 5000, random_state = 3)"
   ]
  },
  {
   "cell_type": "code",
   "execution_count": 18,
   "id": "incident-architect",
   "metadata": {},
   "outputs": [],
   "source": [
    "classifier = svm.SVC(kernel= 'rbf')\n",
    "parameters = {'C': [1, 10, 100, 1000], 'gamma': [1e-6, 1e-5, 1e-4, 1e-3, 1e-2]}\n",
    "search_results =  GridSearchCV(classifier, parameters)\n",
    "\n",
    "best_model = search_results.fit(X_train,Y_train)"
   ]
  },
  {
   "cell_type": "code",
   "execution_count": 19,
   "id": "regulation-medicine",
   "metadata": {},
   "outputs": [
    {
     "data": {
      "text/plain": [
       "99.44"
      ]
     },
     "execution_count": 19,
     "metadata": {},
     "output_type": "execute_result"
    }
   ],
   "source": [
    "# Predicts the output\n",
    "X_pred = search_results.predict(X_test)\n",
    "\n",
    "# Displays the accuracy of the model\n",
    "accuracy = (accuracy_score(Y_test, X_pred))*100\n",
    "accuracy"
   ]
  },
  {
   "cell_type": "code",
   "execution_count": 20,
   "id": "assigned-identity",
   "metadata": {},
   "outputs": [
    {
     "name": "stdout",
     "output_type": "stream",
     "text": [
      "[[4682  155]\n",
      " [ 161    2]]\n",
      "              precision    recall  f1-score   support\n",
      "\n",
      "           0       0.97      0.97      0.97      4837\n",
      "           1       0.01      0.01      0.01       163\n",
      "\n",
      "    accuracy                           0.94      5000\n",
      "   macro avg       0.49      0.49      0.49      5000\n",
      "weighted avg       0.94      0.94      0.94      5000\n",
      "\n"
     ]
    }
   ],
   "source": [
    "# Evaluating the algorithm\n",
    "print(confusion_matrix(Y_test, Y_pred))\n",
    "print(classification_report(Y_test, Y_pred))"
   ]
  },
  {
   "cell_type": "code",
   "execution_count": 21,
   "id": "extraordinary-evaluation",
   "metadata": {},
   "outputs": [
    {
     "data": {
      "text/plain": [
       "{'mean_fit_time': array([0.06215534, 0.07348247, 0.09225869, 0.140099  , 0.65411463,\n",
       "        0.10312452, 0.12249012, 0.09157252, 0.15625801, 0.69591355,\n",
       "        0.16294789, 0.12067833, 0.11045752, 0.17605886, 0.70787382,\n",
       "        0.33580441, 0.22561007, 0.32709041, 0.15727458, 0.6910934 ]),\n",
       " 'std_fit_time': array([0.00507032, 0.00496708, 0.00623232, 0.00891206, 0.00916128,\n",
       "        0.01226371, 0.00980269, 0.00636755, 0.00207436, 0.06861626,\n",
       "        0.02928787, 0.01370038, 0.00453286, 0.00932049, 0.08669549,\n",
       "        0.09794845, 0.04116143, 0.04129567, 0.03535868, 0.06117772]),\n",
       " 'mean_score_time': array([0.01643653, 0.01699724, 0.01907625, 0.03460155, 0.12363105,\n",
       "        0.01796274, 0.01752882, 0.0180613 , 0.03405333, 0.11829863,\n",
       "        0.01572323, 0.01823773, 0.01704512, 0.02784204, 0.11871271,\n",
       "        0.01624131, 0.01639442, 0.01362824, 0.02031951, 0.1174058 ]),\n",
       " 'std_score_time': array([0.00047347, 0.00089471, 0.00024511, 0.00110237, 0.00384769,\n",
       "        0.00156268, 0.00036906, 0.00036118, 0.00062704, 0.00259334,\n",
       "        0.00073857, 0.00233696, 0.00089225, 0.00056375, 0.00189891,\n",
       "        0.00110769, 0.00157438, 0.00066027, 0.00351222, 0.00558766]),\n",
       " 'param_C': masked_array(data=[1, 1, 1, 1, 1, 10, 10, 10, 10, 10, 100, 100, 100, 100,\n",
       "                    100, 1000, 1000, 1000, 1000, 1000],\n",
       "              mask=[False, False, False, False, False, False, False, False,\n",
       "                    False, False, False, False, False, False, False, False,\n",
       "                    False, False, False, False],\n",
       "        fill_value='?',\n",
       "             dtype=object),\n",
       " 'param_gamma': masked_array(data=[1e-06, 1e-05, 0.0001, 0.001, 0.01, 1e-06, 1e-05,\n",
       "                    0.0001, 0.001, 0.01, 1e-06, 1e-05, 0.0001, 0.001, 0.01,\n",
       "                    1e-06, 1e-05, 0.0001, 0.001, 0.01],\n",
       "              mask=[False, False, False, False, False, False, False, False,\n",
       "                    False, False, False, False, False, False, False, False,\n",
       "                    False, False, False, False],\n",
       "        fill_value='?',\n",
       "             dtype=object),\n",
       " 'params': [{'C': 1, 'gamma': 1e-06},\n",
       "  {'C': 1, 'gamma': 1e-05},\n",
       "  {'C': 1, 'gamma': 0.0001},\n",
       "  {'C': 1, 'gamma': 0.001},\n",
       "  {'C': 1, 'gamma': 0.01},\n",
       "  {'C': 10, 'gamma': 1e-06},\n",
       "  {'C': 10, 'gamma': 1e-05},\n",
       "  {'C': 10, 'gamma': 0.0001},\n",
       "  {'C': 10, 'gamma': 0.001},\n",
       "  {'C': 10, 'gamma': 0.01},\n",
       "  {'C': 100, 'gamma': 1e-06},\n",
       "  {'C': 100, 'gamma': 1e-05},\n",
       "  {'C': 100, 'gamma': 0.0001},\n",
       "  {'C': 100, 'gamma': 0.001},\n",
       "  {'C': 100, 'gamma': 0.01},\n",
       "  {'C': 1000, 'gamma': 1e-06},\n",
       "  {'C': 1000, 'gamma': 1e-05},\n",
       "  {'C': 1000, 'gamma': 0.0001},\n",
       "  {'C': 1000, 'gamma': 0.001},\n",
       "  {'C': 1000, 'gamma': 0.01}],\n",
       " 'split0_test_score': array([0.965, 0.966, 0.966, 0.965, 0.967, 0.966, 0.966, 0.967, 0.962,\n",
       "        0.955, 0.966, 0.965, 0.974, 0.969, 0.954, 0.966, 0.981, 0.988,\n",
       "        0.974, 0.954]),\n",
       " 'split1_test_score': array([0.965, 0.968, 0.967, 0.965, 0.963, 0.967, 0.968, 0.966, 0.966,\n",
       "        0.956, 0.968, 0.967, 0.974, 0.965, 0.957, 0.968, 0.981, 0.991,\n",
       "        0.964, 0.957]),\n",
       " 'split2_test_score': array([0.965, 0.967, 0.967, 0.965, 0.965, 0.967, 0.967, 0.968, 0.968,\n",
       "        0.962, 0.967, 0.967, 0.978, 0.975, 0.961, 0.967, 0.976, 0.993,\n",
       "        0.976, 0.961]),\n",
       " 'split3_test_score': array([0.965, 0.968, 0.967, 0.966, 0.966, 0.968, 0.968, 0.967, 0.962,\n",
       "        0.96 , 0.968, 0.968, 0.979, 0.973, 0.96 , 0.968, 0.979, 0.998,\n",
       "        0.978, 0.96 ]),\n",
       " 'split4_test_score': array([0.964, 0.965, 0.965, 0.967, 0.963, 0.965, 0.965, 0.968, 0.967,\n",
       "        0.953, 0.965, 0.965, 0.975, 0.972, 0.953, 0.965, 0.977, 0.989,\n",
       "        0.971, 0.953]),\n",
       " 'mean_test_score': array([0.9648, 0.9668, 0.9664, 0.9656, 0.9648, 0.9666, 0.9668, 0.9672,\n",
       "        0.965 , 0.9572, 0.9668, 0.9664, 0.976 , 0.9708, 0.957 , 0.9668,\n",
       "        0.9788, 0.9918, 0.9726, 0.957 ]),\n",
       " 'std_test_score': array([0.0004    , 0.00116619, 0.0008    , 0.0008    , 0.0016    ,\n",
       "        0.0010198 , 0.00116619, 0.00074833, 0.00252982, 0.00331059,\n",
       "        0.00116619, 0.0012    , 0.00209762, 0.00348712, 0.00316228,\n",
       "        0.00116619, 0.00203961, 0.00354401, 0.00488262, 0.00316228]),\n",
       " 'rank_test_score': array([16,  7, 12, 14, 16, 11,  7,  6, 15, 18,  7, 12,  3,  5, 19,  7,  2,\n",
       "         1,  4, 19], dtype=int32)}"
      ]
     },
     "execution_count": 21,
     "metadata": {},
     "output_type": "execute_result"
    }
   ],
   "source": [
    "best_model.cv_results_"
   ]
  },
  {
   "cell_type": "code",
   "execution_count": 22,
   "id": "central-vehicle",
   "metadata": {},
   "outputs": [
    {
     "data": {
      "image/png": "[encoded data removed]",
      "text/plain": [
       "<Figure size 432x288 with 2 Axes>"
      ]
     },
     "metadata": {
      "needs_background": "light"
     },
     "output_type": "display_data"
    }
   ],
   "source": [
    "results = pd.DataFrame( search_results.cv_results_['params'] )\n",
    "\n",
    "results['score'] = 1 - search_results.cv_results_['mean_test_score']\n",
    "\n",
    "results = results.pivot('C','gamma','score')\n",
    "\n",
    "sns.heatmap(results,annot=True, fmt='.3f') \n",
    "plt.title('Training error w.r.t $C$ and $\\gamma$')\n",
    "plt.show()"
   ]
  },
  {
   "cell_type": "code",
   "execution_count": 23,
   "id": "listed-humanity",
   "metadata": {},
   "outputs": [
    {
     "name": "stdout",
     "output_type": "stream",
     "text": [
      "Test set error for optimum classifier(C=1000,gamma=0.0001): 0.006\n"
     ]
    }
   ],
   "source": [
    "# extract the best estimator and its params\n",
    "opt_classifier = search_results.best_estimator_\n",
    "opt_C = search_results.best_params_['C']\n",
    "opt_gamma = search_results.best_params_['gamma']\n",
    "\n",
    "# just a copy/paste of test set evaluation from before\n",
    "opt_classifier.fit(X_train,Y_train)\n",
    "opt_test_score = 1 - opt_classifier.score(X_test,Y_test) # again turn accuracy into misclassification error\n",
    "print(f'Test set error for optimum classifier(C={opt_C},gamma={opt_gamma}): {opt_test_score:.3f}')"
   ]
  },
  {
   "cell_type": "code",
   "execution_count": 24,
   "id": "careful-mauritius",
   "metadata": {},
   "outputs": [],
   "source": [
    "# Gets another random 5000 samples\n",
    "X_train, X_test, Y_train, Y_test = train_test_split(X_p, Y_p, train_size = 5000, random_state = 4)"
   ]
  },
  {
   "cell_type": "code",
   "execution_count": 25,
   "id": "valid-wrist",
   "metadata": {},
   "outputs": [],
   "source": [
    "classifier = svm.SVC(kernel= 'rbf')\n",
    "parameters = {'C': [1, 10, 100, 1000], 'gamma': [1e-6, 1e-5, 1e-4, 1e-3, 1e-2]}\n",
    "search_results =  GridSearchCV(classifier, parameters)\n",
    "\n",
    "best_model = search_results.fit(X_train,Y_train)"
   ]
  },
  {
   "cell_type": "code",
   "execution_count": 26,
   "id": "vocal-baker",
   "metadata": {},
   "outputs": [
    {
     "data": {
      "text/plain": [
       "99.38"
      ]
     },
     "execution_count": 26,
     "metadata": {},
     "output_type": "execute_result"
    }
   ],
   "source": [
    "# Predicts the output\n",
    "X_pred = search_results.predict(X_test)\n",
    "\n",
    "# Displays the accuracy of the model\n",
    "accuracy = (accuracy_score(Y_test, X_pred))*100\n",
    "accuracy"
   ]
  },
  {
   "cell_type": "code",
   "execution_count": 27,
   "id": "authentic-guard",
   "metadata": {},
   "outputs": [
    {
     "name": "stdout",
     "output_type": "stream",
     "text": [
      "[[4677  153]\n",
      " [ 166    4]]\n",
      "              precision    recall  f1-score   support\n",
      "\n",
      "           0       0.97      0.97      0.97      4830\n",
      "           1       0.03      0.02      0.02       170\n",
      "\n",
      "    accuracy                           0.94      5000\n",
      "   macro avg       0.50      0.50      0.50      5000\n",
      "weighted avg       0.93      0.94      0.93      5000\n",
      "\n"
     ]
    }
   ],
   "source": [
    "# Evaluating the algorithm\n",
    "print(confusion_matrix(Y_test, Y_pred))\n",
    "print(classification_report(Y_test, Y_pred))"
   ]
  },
  {
   "cell_type": "code",
   "execution_count": 28,
   "id": "headed-grammar",
   "metadata": {},
   "outputs": [
    {
     "data": {
      "text/plain": [
       "{'mean_fit_time': array([0.06164885, 0.07175055, 0.08835497, 0.16287389, 0.65889244,\n",
       "        0.07912607, 0.08167777, 0.08570333, 0.14560513, 0.66501603,\n",
       "        0.1171432 , 0.09376688, 0.10471182, 0.17276683, 0.65868773,\n",
       "        0.18864965, 0.23254757, 0.28548412, 0.13338842, 0.64957242]),\n",
       " 'std_fit_time': array([0.00326932, 0.00324774, 0.002846  , 0.01083085, 0.01476368,\n",
       "        0.00652746, 0.00560528, 0.00358592, 0.00471696, 0.02441891,\n",
       "        0.01449702, 0.00847462, 0.00526484, 0.00414897, 0.01359287,\n",
       "        0.03129969, 0.02527895, 0.03051733, 0.00852328, 0.01595031]),\n",
       " 'mean_score_time': array([0.01659241, 0.01667433, 0.0201293 , 0.03876948, 0.13139405,\n",
       "        0.01590581, 0.01676779, 0.01776853, 0.03405991, 0.12354326,\n",
       "        0.0156044 , 0.01537251, 0.01593227, 0.02924199, 0.1159997 ,\n",
       "        0.01520143, 0.01535125, 0.01444168, 0.01741509, 0.11478481]),\n",
       " 'std_score_time': array([0.00079662, 0.00057539, 0.00056909, 0.00107623, 0.00420294,\n",
       "        0.00021182, 0.00122392, 0.00063266, 0.00153612, 0.00572615,\n",
       "        0.00033591, 0.0001909 , 0.00059258, 0.00114708, 0.00239289,\n",
       "        0.00066041, 0.00181364, 0.00290422, 0.00030117, 0.0020547 ]),\n",
       " 'param_C': masked_array(data=[1, 1, 1, 1, 1, 10, 10, 10, 10, 10, 100, 100, 100, 100,\n",
       "                    100, 1000, 1000, 1000, 1000, 1000],\n",
       "              mask=[False, False, False, False, False, False, False, False,\n",
       "                    False, False, False, False, False, False, False, False,\n",
       "                    False, False, False, False],\n",
       "        fill_value='?',\n",
       "             dtype=object),\n",
       " 'param_gamma': masked_array(data=[1e-06, 1e-05, 0.0001, 0.001, 0.01, 1e-06, 1e-05,\n",
       "                    0.0001, 0.001, 0.01, 1e-06, 1e-05, 0.0001, 0.001, 0.01,\n",
       "                    1e-06, 1e-05, 0.0001, 0.001, 0.01],\n",
       "              mask=[False, False, False, False, False, False, False, False,\n",
       "                    False, False, False, False, False, False, False, False,\n",
       "                    False, False, False, False],\n",
       "        fill_value='?',\n",
       "             dtype=object),\n",
       " 'params': [{'C': 1, 'gamma': 1e-06},\n",
       "  {'C': 1, 'gamma': 1e-05},\n",
       "  {'C': 1, 'gamma': 0.0001},\n",
       "  {'C': 1, 'gamma': 0.001},\n",
       "  {'C': 1, 'gamma': 0.01},\n",
       "  {'C': 10, 'gamma': 1e-06},\n",
       "  {'C': 10, 'gamma': 1e-05},\n",
       "  {'C': 10, 'gamma': 0.0001},\n",
       "  {'C': 10, 'gamma': 0.001},\n",
       "  {'C': 10, 'gamma': 0.01},\n",
       "  {'C': 100, 'gamma': 1e-06},\n",
       "  {'C': 100, 'gamma': 1e-05},\n",
       "  {'C': 100, 'gamma': 0.0001},\n",
       "  {'C': 100, 'gamma': 0.001},\n",
       "  {'C': 100, 'gamma': 0.01},\n",
       "  {'C': 1000, 'gamma': 1e-06},\n",
       "  {'C': 1000, 'gamma': 1e-05},\n",
       "  {'C': 1000, 'gamma': 0.0001},\n",
       "  {'C': 1000, 'gamma': 0.001},\n",
       "  {'C': 1000, 'gamma': 0.01}],\n",
       " 'split0_test_score': array([0.968, 0.968, 0.969, 0.97 , 0.966, 0.968, 0.968, 0.97 , 0.966,\n",
       "        0.953, 0.969, 0.971, 0.974, 0.968, 0.953, 0.968, 0.976, 0.99 ,\n",
       "        0.967, 0.953]),\n",
       " 'split1_test_score': array([0.968, 0.967, 0.967, 0.972, 0.965, 0.967, 0.967, 0.974, 0.969,\n",
       "        0.959, 0.967, 0.97 , 0.976, 0.971, 0.958, 0.967, 0.978, 0.993,\n",
       "        0.975, 0.958]),\n",
       " 'split2_test_score': array([0.967, 0.967, 0.968, 0.971, 0.966, 0.967, 0.967, 0.974, 0.973,\n",
       "        0.955, 0.967, 0.97 , 0.979, 0.978, 0.955, 0.967, 0.979, 0.996,\n",
       "        0.973, 0.955]),\n",
       " 'split3_test_score': array([0.968, 0.97 , 0.97 , 0.969, 0.966, 0.97 , 0.97 , 0.974, 0.971,\n",
       "        0.961, 0.97 , 0.971, 0.977, 0.968, 0.96 , 0.97 , 0.979, 0.989,\n",
       "        0.973, 0.96 ]),\n",
       " 'split4_test_score': array([0.967, 0.967, 0.968, 0.969, 0.967, 0.967, 0.967, 0.972, 0.973,\n",
       "        0.962, 0.967, 0.969, 0.982, 0.979, 0.961, 0.967, 0.98 , 0.996,\n",
       "        0.98 , 0.961]),\n",
       " 'mean_test_score': array([0.9676, 0.9678, 0.9684, 0.9702, 0.966 , 0.9678, 0.9678, 0.9728,\n",
       "        0.9704, 0.958 , 0.968 , 0.9702, 0.9776, 0.9728, 0.9574, 0.9678,\n",
       "        0.9784, 0.9928, 0.9736, 0.9574]),\n",
       " 'std_test_score': array([0.0004899 , 0.00116619, 0.0010198 , 0.00116619, 0.00063246,\n",
       "        0.00116619, 0.00116619, 0.0016    , 0.0026533 , 0.0034641 ,\n",
       "        0.00126491, 0.00074833, 0.00272764, 0.00479166, 0.00300666,\n",
       "        0.00116619, 0.00135647, 0.00292575, 0.00417612, 0.00300666]),\n",
       " 'rank_test_score': array([16, 12, 10,  8, 17, 12, 12,  5,  7, 18, 11,  8,  3,  6, 19, 12,  2,\n",
       "         1,  4, 19], dtype=int32)}"
      ]
     },
     "execution_count": 28,
     "metadata": {},
     "output_type": "execute_result"
    }
   ],
   "source": [
    "best_model.cv_results_"
   ]
  },
  {
   "cell_type": "code",
   "execution_count": 29,
   "id": "unlimited-virginia",
   "metadata": {},
   "outputs": [
    {
     "data": {
      "image/png": "[encoded data removed]",
      "text/plain": [
       "<Figure size 432x288 with 2 Axes>"
      ]
     },
     "metadata": {
      "needs_background": "light"
     },
     "output_type": "display_data"
    }
   ],
   "source": [
    "results = pd.DataFrame( search_results.cv_results_['params'] )\n",
    "\n",
    "results['score'] = 1 - search_results.cv_results_['mean_test_score']\n",
    "\n",
    "results = results.pivot('C','gamma','score')\n",
    "\n",
    "sns.heatmap(results,annot=True, fmt='.3f') \n",
    "plt.title('Training error w.r.t $C$ and $\\gamma$')\n",
    "plt.show()"
   ]
  },
  {
   "cell_type": "code",
   "execution_count": 30,
   "id": "official-shade",
   "metadata": {},
   "outputs": [
    {
     "name": "stdout",
     "output_type": "stream",
     "text": [
      "Test set error for optimum classifier(C=1000,gamma=0.0001): 0.006\n"
     ]
    }
   ],
   "source": [
    "# extract the best estimator and its params\n",
    "opt_classifier = search_results.best_estimator_\n",
    "opt_C = search_results.best_params_['C']\n",
    "opt_gamma = search_results.best_params_['gamma']\n",
    "\n",
    "# just a copy/paste of test set evaluation from before\n",
    "opt_classifier.fit(X_train,Y_train)\n",
    "opt_test_score = 1 - opt_classifier.score(X_test,Y_test) # again turn accuracy into misclassification error\n",
    "print(f'Test set error for optimum classifier(C={opt_C},gamma={opt_gamma}): {opt_test_score:.3f}')"
   ]
  },
  {
   "cell_type": "code",
   "execution_count": 31,
   "id": "minute-thursday",
   "metadata": {},
   "outputs": [],
   "source": [
    "# Gets another random 5000 samples\n",
    "X_train, X_test, Y_train, Y_test = train_test_split(X_p, Y_p, train_size = 5000, random_state = 5)"
   ]
  },
  {
   "cell_type": "code",
   "execution_count": 32,
   "id": "searching-street",
   "metadata": {},
   "outputs": [],
   "source": [
    "classifier = svm.SVC(kernel= 'rbf')\n",
    "parameters = {'C': [1, 10, 100, 1000], 'gamma': [1e-6, 1e-5, 1e-4, 1e-3, 1e-2]}\n",
    "search_results =  GridSearchCV(classifier, parameters)\n",
    "\n",
    "best_model = search_results.fit(X_train,Y_train)"
   ]
  },
  {
   "cell_type": "code",
   "execution_count": 33,
   "id": "general-contract",
   "metadata": {},
   "outputs": [
    {
     "data": {
      "text/plain": [
       "99.36"
      ]
     },
     "execution_count": 33,
     "metadata": {},
     "output_type": "execute_result"
    }
   ],
   "source": [
    "# Predicts the output\n",
    "X_pred = search_results.predict(X_test)\n",
    "\n",
    "# Displays the accuracy of the model\n",
    "accuracy = (accuracy_score(Y_test, X_pred))*100\n",
    "accuracy"
   ]
  },
  {
   "cell_type": "code",
   "execution_count": 34,
   "id": "placed-funds",
   "metadata": {},
   "outputs": [
    {
     "name": "stdout",
     "output_type": "stream",
     "text": [
      "[[4664  151]\n",
      " [ 179    6]]\n",
      "              precision    recall  f1-score   support\n",
      "\n",
      "           0       0.96      0.97      0.97      4815\n",
      "           1       0.04      0.03      0.04       185\n",
      "\n",
      "    accuracy                           0.93      5000\n",
      "   macro avg       0.50      0.50      0.50      5000\n",
      "weighted avg       0.93      0.93      0.93      5000\n",
      "\n"
     ]
    }
   ],
   "source": [
    "# Evaluating the algorithm\n",
    "print(confusion_matrix(Y_test, Y_pred))\n",
    "print(classification_report(Y_test, Y_pred))"
   ]
  },
  {
   "cell_type": "code",
   "execution_count": 35,
   "id": "recent-brooklyn",
   "metadata": {},
   "outputs": [
    {
     "data": {
      "text/plain": [
       "{'mean_fit_time': array([0.05189137, 0.06591334, 0.07602348, 0.14329543, 0.64482532,\n",
       "        0.08532672, 0.07886877, 0.08203278, 0.15291123, 0.68081293,\n",
       "        0.15575986, 0.08756528, 0.11101556, 0.18329539, 0.67066412,\n",
       "        0.35661368, 0.19296017, 0.28222928, 0.15581484, 0.66909556]),\n",
       " 'std_fit_time': array([0.00314675, 0.00415605, 0.00456107, 0.01045751, 0.02070159,\n",
       "        0.00461486, 0.00507874, 0.00343723, 0.01054924, 0.02234172,\n",
       "        0.01435483, 0.00698464, 0.0087171 , 0.01019766, 0.0156631 ,\n",
       "        0.08716113, 0.0252229 , 0.02816903, 0.03763533, 0.01021203]),\n",
       " 'mean_score_time': array([0.01360145, 0.01451221, 0.01775603, 0.03591685, 0.12597737,\n",
       "        0.0156354 , 0.01451249, 0.01598167, 0.03413606, 0.11790266,\n",
       "        0.01567855, 0.01368251, 0.01608491, 0.03052063, 0.11829824,\n",
       "        0.01404529, 0.01416478, 0.01419697, 0.02152233, 0.11471519]),\n",
       " 'std_score_time': array([0.00022939, 0.00079164, 0.00122468, 0.00247367, 0.00618235,\n",
       "        0.0005766 , 0.0003587 , 0.00042218, 0.00160538, 0.00154996,\n",
       "        0.0011916 , 0.00026341, 0.00057527, 0.00169363, 0.00490461,\n",
       "        0.00027161, 0.00053738, 0.00223189, 0.00571437, 0.00434449]),\n",
       " 'param_C': masked_array(data=[1, 1, 1, 1, 1, 10, 10, 10, 10, 10, 100, 100, 100, 100,\n",
       "                    100, 1000, 1000, 1000, 1000, 1000],\n",
       "              mask=[False, False, False, False, False, False, False, False,\n",
       "                    False, False, False, False, False, False, False, False,\n",
       "                    False, False, False, False],\n",
       "        fill_value='?',\n",
       "             dtype=object),\n",
       " 'param_gamma': masked_array(data=[1e-06, 1e-05, 0.0001, 0.001, 0.01, 1e-06, 1e-05,\n",
       "                    0.0001, 0.001, 0.01, 1e-06, 1e-05, 0.0001, 0.001, 0.01,\n",
       "                    1e-06, 1e-05, 0.0001, 0.001, 0.01],\n",
       "              mask=[False, False, False, False, False, False, False, False,\n",
       "                    False, False, False, False, False, False, False, False,\n",
       "                    False, False, False, False],\n",
       "        fill_value='?',\n",
       "             dtype=object),\n",
       " 'params': [{'C': 1, 'gamma': 1e-06},\n",
       "  {'C': 1, 'gamma': 1e-05},\n",
       "  {'C': 1, 'gamma': 0.0001},\n",
       "  {'C': 1, 'gamma': 0.001},\n",
       "  {'C': 1, 'gamma': 0.01},\n",
       "  {'C': 10, 'gamma': 1e-06},\n",
       "  {'C': 10, 'gamma': 1e-05},\n",
       "  {'C': 10, 'gamma': 0.0001},\n",
       "  {'C': 10, 'gamma': 0.001},\n",
       "  {'C': 10, 'gamma': 0.01},\n",
       "  {'C': 100, 'gamma': 1e-06},\n",
       "  {'C': 100, 'gamma': 1e-05},\n",
       "  {'C': 100, 'gamma': 0.0001},\n",
       "  {'C': 100, 'gamma': 0.001},\n",
       "  {'C': 100, 'gamma': 0.01},\n",
       "  {'C': 1000, 'gamma': 1e-06},\n",
       "  {'C': 1000, 'gamma': 1e-05},\n",
       "  {'C': 1000, 'gamma': 0.0001},\n",
       "  {'C': 1000, 'gamma': 0.001},\n",
       "  {'C': 1000, 'gamma': 0.01}],\n",
       " 'split0_test_score': array([0.971, 0.972, 0.972, 0.971, 0.971, 0.972, 0.972, 0.971, 0.973,\n",
       "        0.966, 0.972, 0.972, 0.972, 0.976, 0.966, 0.971, 0.974, 0.985,\n",
       "        0.974, 0.966]),\n",
       " 'split1_test_score': array([0.969, 0.972, 0.972, 0.971, 0.969, 0.972, 0.972, 0.974, 0.972,\n",
       "        0.958, 0.972, 0.973, 0.975, 0.97 , 0.954, 0.971, 0.978, 0.993,\n",
       "        0.969, 0.954]),\n",
       " 'split2_test_score': array([0.969, 0.97 , 0.971, 0.971, 0.969, 0.97 , 0.97 , 0.971, 0.972,\n",
       "        0.962, 0.97 , 0.971, 0.975, 0.98 , 0.961, 0.97 , 0.976, 0.994,\n",
       "        0.979, 0.961]),\n",
       " 'split3_test_score': array([0.969, 0.971, 0.973, 0.969, 0.968, 0.971, 0.971, 0.973, 0.97 ,\n",
       "        0.956, 0.971, 0.973, 0.976, 0.971, 0.954, 0.971, 0.975, 0.99 ,\n",
       "        0.97 , 0.954]),\n",
       " 'split4_test_score': array([0.969, 0.97 , 0.97 , 0.968, 0.97 , 0.97 , 0.97 , 0.972, 0.97 ,\n",
       "        0.969, 0.97 , 0.971, 0.978, 0.974, 0.966, 0.97 , 0.975, 0.993,\n",
       "        0.972, 0.966]),\n",
       " 'mean_test_score': array([0.9694, 0.971 , 0.9716, 0.97  , 0.9694, 0.971 , 0.971 , 0.9722,\n",
       "        0.9714, 0.9622, 0.971 , 0.972 , 0.9752, 0.9742, 0.9602, 0.9706,\n",
       "        0.9756, 0.991 , 0.9728, 0.9602]),\n",
       " 'std_test_score': array([0.0008    , 0.00089443, 0.0010198 , 0.00126491, 0.0010198 ,\n",
       "        0.00089443, 0.00089443, 0.00116619, 0.0012    , 0.00483322,\n",
       "        0.00089443, 0.00089443, 0.00193907, 0.0036    , 0.00538145,\n",
       "        0.0004899 , 0.00135647, 0.00328634, 0.00354401, 0.00538145]),\n",
       " 'rank_test_score': array([16, 10,  8, 15, 16, 10, 10,  6,  9, 18, 10,  7,  3,  4, 19, 14,  2,\n",
       "         1,  5, 19], dtype=int32)}"
      ]
     },
     "execution_count": 35,
     "metadata": {},
     "output_type": "execute_result"
    }
   ],
   "source": [
    "best_model.cv_results_"
   ]
  },
  {
   "cell_type": "code",
   "execution_count": 36,
   "id": "rough-easter",
   "metadata": {},
   "outputs": [
    {
     "data": {
      "image/png": "[encoded data removed]",
      "text/plain": [
       "<Figure size 432x288 with 2 Axes>"
      ]
     },
     "metadata": {
      "needs_background": "light"
     },
     "output_type": "display_data"
    }
   ],
   "source": [
    "results = pd.DataFrame( search_results.cv_results_['params'] )\n",
    "\n",
    "results['score'] = 1 - search_results.cv_results_['mean_test_score']\n",
    "\n",
    "results = results.pivot('C','gamma','score')\n",
    "\n",
    "sns.heatmap(results,annot=True, fmt='.3f') \n",
    "plt.title('Training error w.r.t $C$ and $\\gamma$')\n",
    "plt.show()"
   ]
  },
  {
   "cell_type": "code",
   "execution_count": 37,
   "id": "designing-posting",
   "metadata": {},
   "outputs": [
    {
     "name": "stdout",
     "output_type": "stream",
     "text": [
      "Test set error for optimum classifier(C=1000,gamma=0.0001): 0.006\n"
     ]
    }
   ],
   "source": [
    "# extract the best estimator and its params\n",
    "opt_classifier = search_results.best_estimator_\n",
    "opt_C = search_results.best_params_['C']\n",
    "opt_gamma = search_results.best_params_['gamma']\n",
    "\n",
    "# just a copy/paste of test set evaluation from before\n",
    "opt_classifier.fit(X_train,Y_train)\n",
    "opt_test_score = 1 - opt_classifier.score(X_test,Y_test) # again turn accuracy into misclassification error\n",
    "print(f'Test set error for optimum classifier(C={opt_C},gamma={opt_gamma}): {opt_test_score:.3f}')"
   ]
  },
  {
   "cell_type": "markdown",
   "id": "essential-oxide",
   "metadata": {},
   "source": [
    "## Nursery Dataset"
   ]
  },
  {
   "cell_type": "code",
   "execution_count": 38,
   "id": "interpreted-trick",
   "metadata": {},
   "outputs": [
    {
     "data": {
      "text/html": [
       "<div>\n",
       "<style scoped>\n",
       "    .dataframe tbody tr th:only-of-type {\n",
       "        vertical-align: middle;\n",
       "    }\n",
       "\n",
       "    .dataframe tbody tr th {\n",
       "        vertical-align: top;\n",
       "    }\n",
       "\n",
       "    .dataframe thead th {\n",
       "        text-align: right;\n",
       "    }\n",
       "</style>\n",
       "<table border=\"1\" class=\"dataframe\">\n",
       "  <thead>\n",
       "    <tr style=\"text-align: right;\">\n",
       "      <th></th>\n",
       "      <th>usual</th>\n",
       "      <th>proper</th>\n",
       "      <th>complete</th>\n",
       "      <th>1</th>\n",
       "      <th>convenient</th>\n",
       "      <th>nonprob</th>\n",
       "      <th>recommended</th>\n",
       "      <th>recommend</th>\n",
       "      <th>great_pret</th>\n",
       "      <th>pretentious</th>\n",
       "      <th>...</th>\n",
       "      <th>3</th>\n",
       "      <th>more</th>\n",
       "      <th>less_conv</th>\n",
       "      <th>inconv</th>\n",
       "      <th>problematic</th>\n",
       "      <th>slightly_prob</th>\n",
       "      <th>not_recom</th>\n",
       "      <th>priority</th>\n",
       "      <th>spec_prior</th>\n",
       "      <th>very_recom</th>\n",
       "    </tr>\n",
       "  </thead>\n",
       "  <tbody>\n",
       "    <tr>\n",
       "      <th>0</th>\n",
       "      <td>1.0</td>\n",
       "      <td>1.0</td>\n",
       "      <td>1.0</td>\n",
       "      <td>1.0</td>\n",
       "      <td>1.0</td>\n",
       "      <td>1.0</td>\n",
       "      <td>0.0</td>\n",
       "      <td>0.0</td>\n",
       "      <td>0.0</td>\n",
       "      <td>0.0</td>\n",
       "      <td>...</td>\n",
       "      <td>0.0</td>\n",
       "      <td>0.0</td>\n",
       "      <td>0.0</td>\n",
       "      <td>0.0</td>\n",
       "      <td>0.0</td>\n",
       "      <td>0.0</td>\n",
       "      <td>0.0</td>\n",
       "      <td>1.0</td>\n",
       "      <td>0.0</td>\n",
       "      <td>0.0</td>\n",
       "    </tr>\n",
       "    <tr>\n",
       "      <th>1</th>\n",
       "      <td>1.0</td>\n",
       "      <td>1.0</td>\n",
       "      <td>1.0</td>\n",
       "      <td>1.0</td>\n",
       "      <td>1.0</td>\n",
       "      <td>1.0</td>\n",
       "      <td>0.0</td>\n",
       "      <td>0.0</td>\n",
       "      <td>0.0</td>\n",
       "      <td>0.0</td>\n",
       "      <td>...</td>\n",
       "      <td>0.0</td>\n",
       "      <td>0.0</td>\n",
       "      <td>0.0</td>\n",
       "      <td>0.0</td>\n",
       "      <td>0.0</td>\n",
       "      <td>0.0</td>\n",
       "      <td>1.0</td>\n",
       "      <td>0.0</td>\n",
       "      <td>0.0</td>\n",
       "      <td>0.0</td>\n",
       "    </tr>\n",
       "    <tr>\n",
       "      <th>2</th>\n",
       "      <td>1.0</td>\n",
       "      <td>1.0</td>\n",
       "      <td>1.0</td>\n",
       "      <td>1.0</td>\n",
       "      <td>1.0</td>\n",
       "      <td>0.0</td>\n",
       "      <td>1.0</td>\n",
       "      <td>1.0</td>\n",
       "      <td>0.0</td>\n",
       "      <td>0.0</td>\n",
       "      <td>...</td>\n",
       "      <td>0.0</td>\n",
       "      <td>0.0</td>\n",
       "      <td>0.0</td>\n",
       "      <td>0.0</td>\n",
       "      <td>0.0</td>\n",
       "      <td>1.0</td>\n",
       "      <td>0.0</td>\n",
       "      <td>0.0</td>\n",
       "      <td>0.0</td>\n",
       "      <td>0.0</td>\n",
       "    </tr>\n",
       "    <tr>\n",
       "      <th>3</th>\n",
       "      <td>1.0</td>\n",
       "      <td>1.0</td>\n",
       "      <td>1.0</td>\n",
       "      <td>1.0</td>\n",
       "      <td>1.0</td>\n",
       "      <td>0.0</td>\n",
       "      <td>0.0</td>\n",
       "      <td>0.0</td>\n",
       "      <td>0.0</td>\n",
       "      <td>0.0</td>\n",
       "      <td>...</td>\n",
       "      <td>0.0</td>\n",
       "      <td>0.0</td>\n",
       "      <td>0.0</td>\n",
       "      <td>0.0</td>\n",
       "      <td>0.0</td>\n",
       "      <td>1.0</td>\n",
       "      <td>0.0</td>\n",
       "      <td>1.0</td>\n",
       "      <td>0.0</td>\n",
       "      <td>0.0</td>\n",
       "    </tr>\n",
       "    <tr>\n",
       "      <th>4</th>\n",
       "      <td>1.0</td>\n",
       "      <td>1.0</td>\n",
       "      <td>1.0</td>\n",
       "      <td>1.0</td>\n",
       "      <td>1.0</td>\n",
       "      <td>0.0</td>\n",
       "      <td>0.0</td>\n",
       "      <td>0.0</td>\n",
       "      <td>0.0</td>\n",
       "      <td>0.0</td>\n",
       "      <td>...</td>\n",
       "      <td>0.0</td>\n",
       "      <td>0.0</td>\n",
       "      <td>0.0</td>\n",
       "      <td>0.0</td>\n",
       "      <td>0.0</td>\n",
       "      <td>1.0</td>\n",
       "      <td>1.0</td>\n",
       "      <td>0.0</td>\n",
       "      <td>0.0</td>\n",
       "      <td>0.0</td>\n",
       "    </tr>\n",
       "    <tr>\n",
       "      <th>...</th>\n",
       "      <td>...</td>\n",
       "      <td>...</td>\n",
       "      <td>...</td>\n",
       "      <td>...</td>\n",
       "      <td>...</td>\n",
       "      <td>...</td>\n",
       "      <td>...</td>\n",
       "      <td>...</td>\n",
       "      <td>...</td>\n",
       "      <td>...</td>\n",
       "      <td>...</td>\n",
       "      <td>...</td>\n",
       "      <td>...</td>\n",
       "      <td>...</td>\n",
       "      <td>...</td>\n",
       "      <td>...</td>\n",
       "      <td>...</td>\n",
       "      <td>...</td>\n",
       "      <td>...</td>\n",
       "      <td>...</td>\n",
       "      <td>...</td>\n",
       "    </tr>\n",
       "    <tr>\n",
       "      <th>12954</th>\n",
       "      <td>0.0</td>\n",
       "      <td>0.0</td>\n",
       "      <td>0.0</td>\n",
       "      <td>0.0</td>\n",
       "      <td>0.0</td>\n",
       "      <td>0.0</td>\n",
       "      <td>0.0</td>\n",
       "      <td>0.0</td>\n",
       "      <td>1.0</td>\n",
       "      <td>0.0</td>\n",
       "      <td>...</td>\n",
       "      <td>0.0</td>\n",
       "      <td>1.0</td>\n",
       "      <td>0.0</td>\n",
       "      <td>1.0</td>\n",
       "      <td>0.0</td>\n",
       "      <td>1.0</td>\n",
       "      <td>0.0</td>\n",
       "      <td>0.0</td>\n",
       "      <td>1.0</td>\n",
       "      <td>0.0</td>\n",
       "    </tr>\n",
       "    <tr>\n",
       "      <th>12955</th>\n",
       "      <td>0.0</td>\n",
       "      <td>0.0</td>\n",
       "      <td>0.0</td>\n",
       "      <td>0.0</td>\n",
       "      <td>0.0</td>\n",
       "      <td>0.0</td>\n",
       "      <td>0.0</td>\n",
       "      <td>0.0</td>\n",
       "      <td>1.0</td>\n",
       "      <td>0.0</td>\n",
       "      <td>...</td>\n",
       "      <td>0.0</td>\n",
       "      <td>1.0</td>\n",
       "      <td>0.0</td>\n",
       "      <td>1.0</td>\n",
       "      <td>0.0</td>\n",
       "      <td>1.0</td>\n",
       "      <td>1.0</td>\n",
       "      <td>0.0</td>\n",
       "      <td>0.0</td>\n",
       "      <td>0.0</td>\n",
       "    </tr>\n",
       "    <tr>\n",
       "      <th>12956</th>\n",
       "      <td>0.0</td>\n",
       "      <td>0.0</td>\n",
       "      <td>0.0</td>\n",
       "      <td>0.0</td>\n",
       "      <td>0.0</td>\n",
       "      <td>0.0</td>\n",
       "      <td>1.0</td>\n",
       "      <td>0.0</td>\n",
       "      <td>1.0</td>\n",
       "      <td>0.0</td>\n",
       "      <td>...</td>\n",
       "      <td>0.0</td>\n",
       "      <td>1.0</td>\n",
       "      <td>0.0</td>\n",
       "      <td>1.0</td>\n",
       "      <td>1.0</td>\n",
       "      <td>0.0</td>\n",
       "      <td>0.0</td>\n",
       "      <td>0.0</td>\n",
       "      <td>1.0</td>\n",
       "      <td>0.0</td>\n",
       "    </tr>\n",
       "    <tr>\n",
       "      <th>12957</th>\n",
       "      <td>0.0</td>\n",
       "      <td>0.0</td>\n",
       "      <td>0.0</td>\n",
       "      <td>0.0</td>\n",
       "      <td>0.0</td>\n",
       "      <td>0.0</td>\n",
       "      <td>0.0</td>\n",
       "      <td>0.0</td>\n",
       "      <td>1.0</td>\n",
       "      <td>0.0</td>\n",
       "      <td>...</td>\n",
       "      <td>0.0</td>\n",
       "      <td>1.0</td>\n",
       "      <td>0.0</td>\n",
       "      <td>1.0</td>\n",
       "      <td>1.0</td>\n",
       "      <td>0.0</td>\n",
       "      <td>0.0</td>\n",
       "      <td>0.0</td>\n",
       "      <td>1.0</td>\n",
       "      <td>0.0</td>\n",
       "    </tr>\n",
       "    <tr>\n",
       "      <th>12958</th>\n",
       "      <td>0.0</td>\n",
       "      <td>0.0</td>\n",
       "      <td>0.0</td>\n",
       "      <td>0.0</td>\n",
       "      <td>0.0</td>\n",
       "      <td>0.0</td>\n",
       "      <td>0.0</td>\n",
       "      <td>0.0</td>\n",
       "      <td>1.0</td>\n",
       "      <td>0.0</td>\n",
       "      <td>...</td>\n",
       "      <td>0.0</td>\n",
       "      <td>1.0</td>\n",
       "      <td>0.0</td>\n",
       "      <td>1.0</td>\n",
       "      <td>1.0</td>\n",
       "      <td>0.0</td>\n",
       "      <td>1.0</td>\n",
       "      <td>0.0</td>\n",
       "      <td>0.0</td>\n",
       "      <td>0.0</td>\n",
       "    </tr>\n",
       "  </tbody>\n",
       "</table>\n",
       "<p>12959 rows × 28 columns</p>\n",
       "</div>"
      ],
      "text/plain": [
       "       usual  proper  complete    1  convenient  nonprob  recommended  \\\n",
       "0        1.0     1.0       1.0  1.0         1.0      1.0          0.0   \n",
       "1        1.0     1.0       1.0  1.0         1.0      1.0          0.0   \n",
       "2        1.0     1.0       1.0  1.0         1.0      0.0          1.0   \n",
       "3        1.0     1.0       1.0  1.0         1.0      0.0          0.0   \n",
       "4        1.0     1.0       1.0  1.0         1.0      0.0          0.0   \n",
       "...      ...     ...       ...  ...         ...      ...          ...   \n",
       "12954    0.0     0.0       0.0  0.0         0.0      0.0          0.0   \n",
       "12955    0.0     0.0       0.0  0.0         0.0      0.0          0.0   \n",
       "12956    0.0     0.0       0.0  0.0         0.0      0.0          1.0   \n",
       "12957    0.0     0.0       0.0  0.0         0.0      0.0          0.0   \n",
       "12958    0.0     0.0       0.0  0.0         0.0      0.0          0.0   \n",
       "\n",
       "       recommend  great_pret  pretentious  ...    3  more  less_conv  inconv  \\\n",
       "0            0.0         0.0          0.0  ...  0.0   0.0        0.0     0.0   \n",
       "1            0.0         0.0          0.0  ...  0.0   0.0        0.0     0.0   \n",
       "2            1.0         0.0          0.0  ...  0.0   0.0        0.0     0.0   \n",
       "3            0.0         0.0          0.0  ...  0.0   0.0        0.0     0.0   \n",
       "4            0.0         0.0          0.0  ...  0.0   0.0        0.0     0.0   \n",
       "...          ...         ...          ...  ...  ...   ...        ...     ...   \n",
       "12954        0.0         1.0          0.0  ...  0.0   1.0        0.0     1.0   \n",
       "12955        0.0         1.0          0.0  ...  0.0   1.0        0.0     1.0   \n",
       "12956        0.0         1.0          0.0  ...  0.0   1.0        0.0     1.0   \n",
       "12957        0.0         1.0          0.0  ...  0.0   1.0        0.0     1.0   \n",
       "12958        0.0         1.0          0.0  ...  0.0   1.0        0.0     1.0   \n",
       "\n",
       "       problematic  slightly_prob  not_recom  priority  spec_prior  very_recom  \n",
       "0              0.0            0.0        0.0       1.0         0.0         0.0  \n",
       "1              0.0            0.0        1.0       0.0         0.0         0.0  \n",
       "2              0.0            1.0        0.0       0.0         0.0         0.0  \n",
       "3              0.0            1.0        0.0       1.0         0.0         0.0  \n",
       "4              0.0            1.0        1.0       0.0         0.0         0.0  \n",
       "...            ...            ...        ...       ...         ...         ...  \n",
       "12954          0.0            1.0        0.0       0.0         1.0         0.0  \n",
       "12955          0.0            1.0        1.0       0.0         0.0         0.0  \n",
       "12956          1.0            0.0        0.0       0.0         1.0         0.0  \n",
       "12957          1.0            0.0        0.0       0.0         1.0         0.0  \n",
       "12958          1.0            0.0        1.0       0.0         0.0         0.0  \n",
       "\n",
       "[12959 rows x 28 columns]"
      ]
     },
     "execution_count": 38,
     "metadata": {},
     "output_type": "execute_result"
    }
   ],
   "source": [
    "# Nursery dataset\n",
    "nursery = pd.read_csv('https://archive.ics.uci.edu/ml/machine-learning-databases/nursery/nursery.data')\n",
    "\n",
    "# One hot encoding categorical features\n",
    "encoder = OneHotEncoder().fit(nursery[['usual', 'proper', 'complete', '1', 'convenient', 'convenient.1', 'nonprob', 'recommended', 'recommend']])\n",
    "encoder.categories_\n",
    "\n",
    "transformed = encoder.transform(nursery[['usual', 'proper', 'complete', '1', 'convenient', 'convenient.1', 'nonprob', 'recommended', 'recommend']] ).toarray() \n",
    "transformed\n",
    "\n",
    "for index, category in enumerate( np.concatenate(encoder.categories_) ):\n",
    "    nursery[category] = transformed[:,index]\n",
    "\n",
    "# Drops columns with string\n",
    "nursery = nursery.drop(columns = ['convenient.1'])\n",
    "\n",
    "nursery"
   ]
  },
  {
   "cell_type": "code",
   "execution_count": 39,
   "id": "healthy-intervention",
   "metadata": {},
   "outputs": [],
   "source": [
    "X_n = nursery.drop(['recommended'], axis=1) \n",
    "Y_n = nursery['recommended']\n",
    "\n",
    "# Gets another random 5000 samples\n",
    "X_train, X_test, Y_train, Y_test = train_test_split(X_n, Y_n, train_size = 5000, random_state = 1)"
   ]
  },
  {
   "cell_type": "code",
   "execution_count": 40,
   "id": "injured-reputation",
   "metadata": {},
   "outputs": [],
   "source": [
    "classifier = svm.SVC(kernel= 'rbf')\n",
    "parameters = {'C': [1, 10, 100, 1000], 'gamma': [1e-6, 1e-5, 1e-4, 1e-3, 1e-2]}\n",
    "search_results =  GridSearchCV(classifier, parameters)\n",
    "\n",
    "best_model = search_results.fit(X_train,Y_train)"
   ]
  },
  {
   "cell_type": "code",
   "execution_count": 43,
   "id": "intellectual-jackson",
   "metadata": {},
   "outputs": [
    {
     "data": {
      "text/plain": [
       "75.42404824726724"
      ]
     },
     "execution_count": 43,
     "metadata": {},
     "output_type": "execute_result"
    }
   ],
   "source": [
    "# Predicts the output\n",
    "Y_pred = search_results.predict(X_test)\n",
    "\n",
    "# Displays the accuracy of the model\n",
    "accuracy = (accuracy_score(Y_test, Y_pred))*100\n",
    "accuracy"
   ]
  },
  {
   "cell_type": "code",
   "execution_count": 44,
   "id": "exceptional-parish",
   "metadata": {},
   "outputs": [
    {
     "name": "stdout",
     "output_type": "stream",
     "text": [
      "[[4574  756]\n",
      " [1200 1429]]\n",
      "              precision    recall  f1-score   support\n",
      "\n",
      "         0.0       0.79      0.86      0.82      5330\n",
      "         1.0       0.65      0.54      0.59      2629\n",
      "\n",
      "    accuracy                           0.75      7959\n",
      "   macro avg       0.72      0.70      0.71      7959\n",
      "weighted avg       0.75      0.75      0.75      7959\n",
      "\n"
     ]
    }
   ],
   "source": [
    "# Evaluating the algorithm\n",
    "print(confusion_matrix(Y_test, Y_pred))\n",
    "print(classification_report(Y_test, Y_pred))"
   ]
  },
  {
   "cell_type": "code",
   "execution_count": 45,
   "id": "blond-layer",
   "metadata": {},
   "outputs": [
    {
     "data": {
      "text/plain": [
       "{'mean_fit_time': array([0.56907392, 0.58513598, 0.56002727, 0.55515685, 0.58859758,\n",
       "        0.56567221, 0.56734118, 0.56911974, 0.66828647, 0.51072426,\n",
       "        0.58330102, 0.55432148, 0.57886729, 0.50929332, 0.5506784 ,\n",
       "        0.63379946, 0.7123487 , 0.50204425, 0.56676159, 1.09146142]),\n",
       " 'std_fit_time': array([0.01243157, 0.02693649, 0.01917255, 0.0150967 , 0.02893144,\n",
       "        0.02284177, 0.034116  , 0.01461163, 0.03799732, 0.02592765,\n",
       "        0.02018102, 0.01860652, 0.05602244, 0.03370341, 0.02171414,\n",
       "        0.02789071, 0.03315251, 0.01362837, 0.02494609, 0.02721753]),\n",
       " 'mean_score_time': array([0.15615644, 0.15821009, 0.15646815, 0.15518889, 0.13854499,\n",
       "        0.15838156, 0.15667691, 0.15902886, 0.14303889, 0.12995768,\n",
       "        0.16518192, 0.15256801, 0.14701309, 0.12447233, 0.11540661,\n",
       "        0.16162562, 0.13926163, 0.1282496 , 0.12061753, 0.11071768]),\n",
       " 'std_score_time': array([0.00419213, 0.00386171, 0.0029703 , 0.00253942, 0.00233289,\n",
       "        0.00537388, 0.00493648, 0.0046356 , 0.00655287, 0.0035174 ,\n",
       "        0.00466018, 0.00247143, 0.00349828, 0.00280991, 0.00285127,\n",
       "        0.00541239, 0.00377602, 0.00325347, 0.00349717, 0.00147866]),\n",
       " 'param_C': masked_array(data=[1, 1, 1, 1, 1, 10, 10, 10, 10, 10, 100, 100, 100, 100,\n",
       "                    100, 1000, 1000, 1000, 1000, 1000],\n",
       "              mask=[False, False, False, False, False, False, False, False,\n",
       "                    False, False, False, False, False, False, False, False,\n",
       "                    False, False, False, False],\n",
       "        fill_value='?',\n",
       "             dtype=object),\n",
       " 'param_gamma': masked_array(data=[1e-06, 1e-05, 0.0001, 0.001, 0.01, 1e-06, 1e-05,\n",
       "                    0.0001, 0.001, 0.01, 1e-06, 1e-05, 0.0001, 0.001, 0.01,\n",
       "                    1e-06, 1e-05, 0.0001, 0.001, 0.01],\n",
       "              mask=[False, False, False, False, False, False, False, False,\n",
       "                    False, False, False, False, False, False, False, False,\n",
       "                    False, False, False, False],\n",
       "        fill_value='?',\n",
       "             dtype=object),\n",
       " 'params': [{'C': 1, 'gamma': 1e-06},\n",
       "  {'C': 1, 'gamma': 1e-05},\n",
       "  {'C': 1, 'gamma': 0.0001},\n",
       "  {'C': 1, 'gamma': 0.001},\n",
       "  {'C': 1, 'gamma': 0.01},\n",
       "  {'C': 10, 'gamma': 1e-06},\n",
       "  {'C': 10, 'gamma': 1e-05},\n",
       "  {'C': 10, 'gamma': 0.0001},\n",
       "  {'C': 10, 'gamma': 0.001},\n",
       "  {'C': 10, 'gamma': 0.01},\n",
       "  {'C': 100, 'gamma': 1e-06},\n",
       "  {'C': 100, 'gamma': 1e-05},\n",
       "  {'C': 100, 'gamma': 0.0001},\n",
       "  {'C': 100, 'gamma': 0.001},\n",
       "  {'C': 100, 'gamma': 0.01},\n",
       "  {'C': 1000, 'gamma': 1e-06},\n",
       "  {'C': 1000, 'gamma': 1e-05},\n",
       "  {'C': 1000, 'gamma': 0.0001},\n",
       "  {'C': 1000, 'gamma': 0.001},\n",
       "  {'C': 1000, 'gamma': 0.01}],\n",
       " 'split0_test_score': array([0.662, 0.662, 0.662, 0.662, 0.706, 0.662, 0.662, 0.662, 0.706,\n",
       "        0.726, 0.662, 0.662, 0.706, 0.72 , 0.745, 0.662, 0.706, 0.72 ,\n",
       "        0.747, 0.743]),\n",
       " 'split1_test_score': array([0.662, 0.662, 0.662, 0.662, 0.745, 0.662, 0.662, 0.662, 0.745,\n",
       "        0.773, 0.662, 0.662, 0.745, 0.776, 0.754, 0.662, 0.745, 0.782,\n",
       "        0.768, 0.75 ]),\n",
       " 'split2_test_score': array([0.662, 0.662, 0.662, 0.662, 0.748, 0.662, 0.662, 0.662, 0.748,\n",
       "        0.758, 0.662, 0.662, 0.748, 0.767, 0.755, 0.662, 0.748, 0.766,\n",
       "        0.753, 0.731]),\n",
       " 'split3_test_score': array([0.662, 0.662, 0.662, 0.662, 0.718, 0.662, 0.662, 0.662, 0.718,\n",
       "        0.737, 0.662, 0.662, 0.718, 0.741, 0.736, 0.662, 0.718, 0.739,\n",
       "        0.741, 0.723]),\n",
       " 'split4_test_score': array([0.662, 0.662, 0.662, 0.662, 0.737, 0.662, 0.662, 0.662, 0.737,\n",
       "        0.735, 0.662, 0.662, 0.737, 0.725, 0.734, 0.662, 0.737, 0.723,\n",
       "        0.734, 0.731]),\n",
       " 'mean_test_score': array([0.662 , 0.662 , 0.662 , 0.662 , 0.7308, 0.662 , 0.662 , 0.662 ,\n",
       "        0.7308, 0.7458, 0.662 , 0.662 , 0.7308, 0.7458, 0.7448, 0.662 ,\n",
       "        0.7308, 0.746 , 0.7486, 0.7356]),\n",
       " 'std_test_score': array([0.        , 0.        , 0.        , 0.        , 0.01621604,\n",
       "        0.        , 0.        , 0.        , 0.01621604, 0.0171744 ,\n",
       "        0.        , 0.        , 0.01621604, 0.02228363, 0.00874986,\n",
       "        0.        , 0.01621604, 0.02428992, 0.01156892, 0.00962497]),\n",
       " 'rank_test_score': array([11, 11, 11, 11,  7, 11, 11, 11,  7,  3, 11, 11,  7,  3,  5, 11,  7,\n",
       "         2,  1,  6], dtype=int32)}"
      ]
     },
     "execution_count": 45,
     "metadata": {},
     "output_type": "execute_result"
    }
   ],
   "source": [
    "best_model.cv_results_"
   ]
  },
  {
   "cell_type": "code",
   "execution_count": 46,
   "id": "lonely-bunny",
   "metadata": {},
   "outputs": [
    {
     "data": {
      "image/png": "[encoded data removed]",
      "text/plain": [
       "<Figure size 432x288 with 2 Axes>"
      ]
     },
     "metadata": {
      "needs_background": "light"
     },
     "output_type": "display_data"
    }
   ],
   "source": [
    "results = pd.DataFrame( search_results.cv_results_['params'] )\n",
    "\n",
    "results['score'] = 1 - search_results.cv_results_['mean_test_score']\n",
    "\n",
    "results = results.pivot('C','gamma','score')\n",
    "\n",
    "sns.heatmap(results,annot=True, fmt='.3f') \n",
    "plt.title('Training error w.r.t $C$ and $\\gamma$')\n",
    "plt.show()"
   ]
  },
  {
   "cell_type": "code",
   "execution_count": 47,
   "id": "specialized-malpractice",
   "metadata": {},
   "outputs": [
    {
     "name": "stdout",
     "output_type": "stream",
     "text": [
      "Test set error for optimum classifier(C=1000,gamma=0.001): 0.246\n"
     ]
    }
   ],
   "source": [
    "# extract the best estimator and its params\n",
    "opt_classifier = search_results.best_estimator_\n",
    "opt_C = search_results.best_params_['C']\n",
    "opt_gamma = search_results.best_params_['gamma']\n",
    "\n",
    "# just a copy/paste of test set evaluation from before\n",
    "opt_classifier.fit(X_train,Y_train)\n",
    "opt_test_score = 1 - opt_classifier.score(X_test,Y_test) # again turn accuracy into misclassification error\n",
    "print(f'Test set error for optimum classifier(C={opt_C},gamma={opt_gamma}): {opt_test_score:.3f}') "
   ]
  },
  {
   "cell_type": "code",
   "execution_count": 48,
   "id": "talented-intranet",
   "metadata": {},
   "outputs": [],
   "source": [
    "# Gets another random 5000 samples\n",
    "X_train, X_test, Y_train, Y_test = train_test_split(X_n, Y_n, train_size = 5000, random_state = 2)"
   ]
  },
  {
   "cell_type": "code",
   "execution_count": 49,
   "id": "recreational-italic",
   "metadata": {},
   "outputs": [],
   "source": [
    "classifier = svm.SVC(kernel= 'rbf')\n",
    "parameters = {'C': [1, 10, 100, 1000], 'gamma': [1e-6, 1e-5, 1e-4, 1e-3, 1e-2]}\n",
    "search_results =  GridSearchCV(classifier, parameters)\n",
    "\n",
    "best_model = search_results.fit(X_train,Y_train)"
   ]
  },
  {
   "cell_type": "code",
   "execution_count": 50,
   "id": "entire-patient",
   "metadata": {},
   "outputs": [
    {
     "data": {
      "text/plain": [
       "75.41148385475563"
      ]
     },
     "execution_count": 50,
     "metadata": {},
     "output_type": "execute_result"
    }
   ],
   "source": [
    "# Predicts the output\n",
    "Y_pred = search_results.predict(X_test)\n",
    "\n",
    "# Displays the accuracy of the model\n",
    "accuracy = (accuracy_score(Y_test, Y_pred))*100\n",
    "accuracy"
   ]
  },
  {
   "cell_type": "code",
   "execution_count": 51,
   "id": "collective-romance",
   "metadata": {},
   "outputs": [
    {
     "name": "stdout",
     "output_type": "stream",
     "text": [
      "[[4362  950]\n",
      " [1007 1640]]\n",
      "              precision    recall  f1-score   support\n",
      "\n",
      "         0.0       0.81      0.82      0.82      5312\n",
      "         1.0       0.63      0.62      0.63      2647\n",
      "\n",
      "    accuracy                           0.75      7959\n",
      "   macro avg       0.72      0.72      0.72      7959\n",
      "weighted avg       0.75      0.75      0.75      7959\n",
      "\n"
     ]
    }
   ],
   "source": [
    "# Evaluating the algorithm\n",
    "print(confusion_matrix(Y_test, Y_pred))\n",
    "print(classification_report(Y_test, Y_pred))"
   ]
  },
  {
   "cell_type": "code",
   "execution_count": 52,
   "id": "initial-channel",
   "metadata": {},
   "outputs": [
    {
     "data": {
      "text/plain": [
       "{'mean_fit_time': array([2.0276669 , 1.83191457, 2.66263366, 2.24413075, 2.15696483,\n",
       "        2.18060064, 2.17645135, 1.94132028, 2.13750682, 2.08674431,\n",
       "        2.20107512, 3.25984674, 2.31015549, 2.11741104, 1.58208332,\n",
       "        2.71027126, 2.40104671, 1.91021714, 2.09159923, 4.21151681]),\n",
       " 'std_fit_time': array([1.15344122, 1.00965402, 1.01451515, 1.4791135 , 1.24649668,\n",
       "        1.32624845, 1.43140486, 1.11813801, 1.72002899, 1.30083631,\n",
       "        1.34351801, 1.73941983, 1.37941166, 1.32961825, 1.25982754,\n",
       "        1.05770104, 0.85049984, 1.13195466, 1.20610106, 1.21355153]),\n",
       " 'mean_score_time': array([0.59238243, 0.72952876, 0.16505103, 0.60429568, 0.60700893,\n",
       "        0.52047725, 0.16258516, 0.68173957, 1.13151445, 0.6356657 ,\n",
       "        0.15689592, 0.17597966, 0.67440472, 0.13382821, 0.60370903,\n",
       "        0.16400504, 0.7518014 , 0.13107586, 0.12291903, 0.1247026 ]),\n",
       " 'std_score_time': array([0.83322087, 1.11622481, 0.00819984, 0.87196269, 0.92776941,\n",
       "        0.69002642, 0.00771554, 1.04255692, 1.26576623, 0.9953964 ,\n",
       "        0.00474541, 0.02557375, 1.03377846, 0.00884683, 0.94003909,\n",
       "        0.00605686, 1.21195597, 0.00508287, 0.0012969 , 0.02142305]),\n",
       " 'param_C': masked_array(data=[1, 1, 1, 1, 1, 10, 10, 10, 10, 10, 100, 100, 100, 100,\n",
       "                    100, 1000, 1000, 1000, 1000, 1000],\n",
       "              mask=[False, False, False, False, False, False, False, False,\n",
       "                    False, False, False, False, False, False, False, False,\n",
       "                    False, False, False, False],\n",
       "        fill_value='?',\n",
       "             dtype=object),\n",
       " 'param_gamma': masked_array(data=[1e-06, 1e-05, 0.0001, 0.001, 0.01, 1e-06, 1e-05,\n",
       "                    0.0001, 0.001, 0.01, 1e-06, 1e-05, 0.0001, 0.001, 0.01,\n",
       "                    1e-06, 1e-05, 0.0001, 0.001, 0.01],\n",
       "              mask=[False, False, False, False, False, False, False, False,\n",
       "                    False, False, False, False, False, False, False, False,\n",
       "                    False, False, False, False],\n",
       "        fill_value='?',\n",
       "             dtype=object),\n",
       " 'params': [{'C': 1, 'gamma': 1e-06},\n",
       "  {'C': 1, 'gamma': 1e-05},\n",
       "  {'C': 1, 'gamma': 0.0001},\n",
       "  {'C': 1, 'gamma': 0.001},\n",
       "  {'C': 1, 'gamma': 0.01},\n",
       "  {'C': 10, 'gamma': 1e-06},\n",
       "  {'C': 10, 'gamma': 1e-05},\n",
       "  {'C': 10, 'gamma': 0.0001},\n",
       "  {'C': 10, 'gamma': 0.001},\n",
       "  {'C': 10, 'gamma': 0.01},\n",
       "  {'C': 100, 'gamma': 1e-06},\n",
       "  {'C': 100, 'gamma': 1e-05},\n",
       "  {'C': 100, 'gamma': 0.0001},\n",
       "  {'C': 100, 'gamma': 0.001},\n",
       "  {'C': 100, 'gamma': 0.01},\n",
       "  {'C': 1000, 'gamma': 1e-06},\n",
       "  {'C': 1000, 'gamma': 1e-05},\n",
       "  {'C': 1000, 'gamma': 0.0001},\n",
       "  {'C': 1000, 'gamma': 0.001},\n",
       "  {'C': 1000, 'gamma': 0.01}],\n",
       " 'split0_test_score': array([0.666, 0.666, 0.666, 0.666, 0.745, 0.666, 0.666, 0.666, 0.745,\n",
       "        0.757, 0.666, 0.666, 0.745, 0.769, 0.744, 0.666, 0.745, 0.769,\n",
       "        0.756, 0.734]),\n",
       " 'split1_test_score': array([0.666, 0.666, 0.666, 0.666, 0.729, 0.666, 0.666, 0.666, 0.729,\n",
       "        0.74 , 0.666, 0.666, 0.729, 0.741, 0.734, 0.666, 0.729, 0.741,\n",
       "        0.748, 0.736]),\n",
       " 'split2_test_score': array([0.666, 0.666, 0.666, 0.666, 0.742, 0.666, 0.666, 0.666, 0.742,\n",
       "        0.766, 0.666, 0.666, 0.742, 0.761, 0.753, 0.666, 0.742, 0.765,\n",
       "        0.762, 0.724]),\n",
       " 'split3_test_score': array([0.665, 0.665, 0.665, 0.665, 0.732, 0.665, 0.665, 0.665, 0.732,\n",
       "        0.746, 0.665, 0.665, 0.732, 0.746, 0.749, 0.665, 0.732, 0.748,\n",
       "        0.746, 0.728]),\n",
       " 'split4_test_score': array([0.665, 0.665, 0.665, 0.665, 0.728, 0.665, 0.665, 0.665, 0.728,\n",
       "        0.743, 0.665, 0.665, 0.728, 0.742, 0.757, 0.665, 0.728, 0.742,\n",
       "        0.75 , 0.738]),\n",
       " 'mean_test_score': array([0.6656, 0.6656, 0.6656, 0.6656, 0.7352, 0.6656, 0.6656, 0.6656,\n",
       "        0.7352, 0.7504, 0.6656, 0.6656, 0.7352, 0.7518, 0.7474, 0.6656,\n",
       "        0.7352, 0.753 , 0.7524, 0.732 ]),\n",
       " 'std_test_score': array([0.0004899 , 0.0004899 , 0.0004899 , 0.0004899 , 0.0069685 ,\n",
       "        0.0004899 , 0.0004899 , 0.0004899 , 0.0069685 , 0.0096871 ,\n",
       "        0.0004899 , 0.0004899 , 0.0069685 , 0.01119643, 0.00796492,\n",
       "        0.0004899 , 0.0069685 , 0.01174734, 0.0058515 , 0.00521536]),\n",
       " 'rank_test_score': array([11, 11, 11, 11,  6, 11, 11, 11,  6,  4, 11, 11,  6,  3,  5, 11,  6,\n",
       "         1,  2, 10], dtype=int32)}"
      ]
     },
     "execution_count": 52,
     "metadata": {},
     "output_type": "execute_result"
    }
   ],
   "source": [
    "best_model.cv_results_"
   ]
  },
  {
   "cell_type": "code",
   "execution_count": 53,
   "id": "downtown-proof",
   "metadata": {},
   "outputs": [
    {
     "data": {
      "image/png": "[encoded data removed]",
      "text/plain": [
       "<Figure size 432x288 with 2 Axes>"
      ]
     },
     "metadata": {
      "needs_background": "light"
     },
     "output_type": "display_data"
    }
   ],
   "source": [
    "results = pd.DataFrame( search_results.cv_results_['params'] )\n",
    "\n",
    "results['score'] = 1 - search_results.cv_results_['mean_test_score']\n",
    "\n",
    "results = results.pivot('C','gamma','score')\n",
    "\n",
    "sns.heatmap(results,annot=True, fmt='.3f') \n",
    "plt.title('Training error w.r.t $C$ and $\\gamma$')\n",
    "plt.show()"
   ]
  },
  {
   "cell_type": "code",
   "execution_count": 54,
   "id": "secondary-fight",
   "metadata": {},
   "outputs": [
    {
     "name": "stdout",
     "output_type": "stream",
     "text": [
      "Test set error for optimum classifier(C=1000,gamma=0.0001): 0.246\n"
     ]
    }
   ],
   "source": [
    "# extract the best estimator and its params\n",
    "opt_classifier = search_results.best_estimator_\n",
    "opt_C = search_results.best_params_['C']\n",
    "opt_gamma = search_results.best_params_['gamma']\n",
    "\n",
    "# just a copy/paste of test set evaluation from before\n",
    "opt_classifier.fit(X_train,Y_train)\n",
    "opt_test_score = 1 - opt_classifier.score(X_test,Y_test) # again turn accuracy into misclassification error\n",
    "print(f'Test set error for optimum classifier(C={opt_C},gamma={opt_gamma}): {opt_test_score:.3f}') "
   ]
  },
  {
   "cell_type": "code",
   "execution_count": 55,
   "id": "finnish-taiwan",
   "metadata": {},
   "outputs": [],
   "source": [
    "# Gets another random 5000 samples\n",
    "X_train, X_test, Y_train, Y_test = train_test_split(X_n, Y_n, train_size = 5000, random_state = 3)"
   ]
  },
  {
   "cell_type": "code",
   "execution_count": 56,
   "id": "advisory-geneva",
   "metadata": {},
   "outputs": [],
   "source": [
    "classifier = svm.SVC(kernel= 'rbf')\n",
    "parameters = {'C': [1, 10, 100, 1000], 'gamma': [1e-6, 1e-5, 1e-4, 1e-3, 1e-2]}\n",
    "search_results =  GridSearchCV(classifier, parameters)\n",
    "\n",
    "best_model = search_results.fit(X_train,Y_train)"
   ]
  },
  {
   "cell_type": "code",
   "execution_count": 57,
   "id": "buried-marsh",
   "metadata": {},
   "outputs": [
    {
     "data": {
      "text/plain": [
       "75.8009800226159"
      ]
     },
     "execution_count": 57,
     "metadata": {},
     "output_type": "execute_result"
    }
   ],
   "source": [
    "# Predicts the output\n",
    "Y_pred = search_results.predict(X_test)\n",
    "\n",
    "# Displays the accuracy of the model\n",
    "accuracy = (accuracy_score(Y_test, Y_pred))*100\n",
    "accuracy"
   ]
  },
  {
   "cell_type": "code",
   "execution_count": 58,
   "id": "powerful-condition",
   "metadata": {},
   "outputs": [
    {
     "name": "stdout",
     "output_type": "stream",
     "text": [
      "[[4521  790]\n",
      " [1136 1512]]\n",
      "              precision    recall  f1-score   support\n",
      "\n",
      "         0.0       0.80      0.85      0.82      5311\n",
      "         1.0       0.66      0.57      0.61      2648\n",
      "\n",
      "    accuracy                           0.76      7959\n",
      "   macro avg       0.73      0.71      0.72      7959\n",
      "weighted avg       0.75      0.76      0.75      7959\n",
      "\n"
     ]
    }
   ],
   "source": [
    "# Evaluating the algorithm\n",
    "print(confusion_matrix(Y_test, Y_pred))\n",
    "print(classification_report(Y_test, Y_pred))"
   ]
  },
  {
   "cell_type": "code",
   "execution_count": 59,
   "id": "going-shipping",
   "metadata": {},
   "outputs": [
    {
     "data": {
      "text/plain": [
       "{'mean_fit_time': array([1.80050459, 2.38945012, 2.35253854, 1.12587457, 2.09811578,\n",
       "        1.53528919, 1.65949717, 1.84920454, 2.66666794, 1.85530019,\n",
       "        1.06442027, 1.69671369, 1.89988217, 1.49832916, 2.05295329,\n",
       "        1.53554854, 1.59616036, 1.64144473, 2.7039854 , 3.48924818]),\n",
       " 'std_fit_time': array([1.5250942 , 1.52117206, 0.84101574, 1.03145241, 1.85834605,\n",
       "        1.16190372, 1.28527844, 1.05968922, 1.03624351, 1.082526  ,\n",
       "        0.93485191, 1.42570609, 1.72238543, 1.17464185, 1.17330721,\n",
       "        1.10653846, 1.12263737, 1.30513203, 1.10904912, 0.33577594]),\n",
       " 'mean_score_time': array([0.55280905, 0.16848149, 0.16358185, 1.19114599, 1.12636175,\n",
       "        0.56178818, 0.69495893, 0.19661431, 0.14794183, 0.13637829,\n",
       "        1.1295249 , 1.11730318, 0.61358738, 0.55737009, 0.13013229,\n",
       "        0.70550132, 1.06019292, 0.13359871, 0.12545557, 0.11332192]),\n",
       " 'std_score_time': array([0.77817101, 0.00686877, 0.00189346, 1.25713121, 1.20229837,\n",
       "        0.79955914, 1.06597579, 0.04509244, 0.00339821, 0.00621268,\n",
       "        1.18481955, 1.15904416, 0.92564625, 0.84741441, 0.0223612 ,\n",
       "        1.0656319 , 1.12151568, 0.00191692, 0.00635996, 0.00254717]),\n",
       " 'param_C': masked_array(data=[1, 1, 1, 1, 1, 10, 10, 10, 10, 10, 100, 100, 100, 100,\n",
       "                    100, 1000, 1000, 1000, 1000, 1000],\n",
       "              mask=[False, False, False, False, False, False, False, False,\n",
       "                    False, False, False, False, False, False, False, False,\n",
       "                    False, False, False, False],\n",
       "        fill_value='?',\n",
       "             dtype=object),\n",
       " 'param_gamma': masked_array(data=[1e-06, 1e-05, 0.0001, 0.001, 0.01, 1e-06, 1e-05,\n",
       "                    0.0001, 0.001, 0.01, 1e-06, 1e-05, 0.0001, 0.001, 0.01,\n",
       "                    1e-06, 1e-05, 0.0001, 0.001, 0.01],\n",
       "              mask=[False, False, False, False, False, False, False, False,\n",
       "                    False, False, False, False, False, False, False, False,\n",
       "                    False, False, False, False],\n",
       "        fill_value='?',\n",
       "             dtype=object),\n",
       " 'params': [{'C': 1, 'gamma': 1e-06},\n",
       "  {'C': 1, 'gamma': 1e-05},\n",
       "  {'C': 1, 'gamma': 0.0001},\n",
       "  {'C': 1, 'gamma': 0.001},\n",
       "  {'C': 1, 'gamma': 0.01},\n",
       "  {'C': 10, 'gamma': 1e-06},\n",
       "  {'C': 10, 'gamma': 1e-05},\n",
       "  {'C': 10, 'gamma': 0.0001},\n",
       "  {'C': 10, 'gamma': 0.001},\n",
       "  {'C': 10, 'gamma': 0.01},\n",
       "  {'C': 100, 'gamma': 1e-06},\n",
       "  {'C': 100, 'gamma': 1e-05},\n",
       "  {'C': 100, 'gamma': 0.0001},\n",
       "  {'C': 100, 'gamma': 0.001},\n",
       "  {'C': 100, 'gamma': 0.01},\n",
       "  {'C': 1000, 'gamma': 1e-06},\n",
       "  {'C': 1000, 'gamma': 1e-05},\n",
       "  {'C': 1000, 'gamma': 0.0001},\n",
       "  {'C': 1000, 'gamma': 0.001},\n",
       "  {'C': 1000, 'gamma': 0.01}],\n",
       " 'split0_test_score': array([0.665, 0.665, 0.665, 0.665, 0.742, 0.665, 0.665, 0.665, 0.742,\n",
       "        0.73 , 0.665, 0.665, 0.742, 0.718, 0.727, 0.665, 0.742, 0.718,\n",
       "        0.731, 0.723]),\n",
       " 'split1_test_score': array([0.666, 0.666, 0.666, 0.666, 0.706, 0.666, 0.666, 0.666, 0.706,\n",
       "        0.764, 0.666, 0.666, 0.706, 0.768, 0.759, 0.666, 0.706, 0.766,\n",
       "        0.771, 0.747]),\n",
       " 'split2_test_score': array([0.666, 0.666, 0.666, 0.666, 0.719, 0.666, 0.666, 0.666, 0.719,\n",
       "        0.755, 0.666, 0.666, 0.719, 0.752, 0.74 , 0.666, 0.719, 0.743,\n",
       "        0.745, 0.739]),\n",
       " 'split3_test_score': array([0.666, 0.666, 0.666, 0.666, 0.731, 0.666, 0.666, 0.666, 0.731,\n",
       "        0.739, 0.666, 0.666, 0.731, 0.748, 0.728, 0.666, 0.731, 0.749,\n",
       "        0.748, 0.721]),\n",
       " 'split4_test_score': array([0.666, 0.666, 0.666, 0.666, 0.717, 0.666, 0.666, 0.666, 0.717,\n",
       "        0.749, 0.666, 0.666, 0.717, 0.743, 0.736, 0.666, 0.717, 0.746,\n",
       "        0.743, 0.737]),\n",
       " 'mean_test_score': array([0.6658, 0.6658, 0.6658, 0.6658, 0.723 , 0.6658, 0.6658, 0.6658,\n",
       "        0.723 , 0.7474, 0.6658, 0.6658, 0.723 , 0.7458, 0.738 , 0.6658,\n",
       "        0.723 , 0.7444, 0.7476, 0.7334]),\n",
       " 'std_test_score': array([0.0004    , 0.0004    , 0.0004    , 0.0004    , 0.0123774 ,\n",
       "        0.0004    , 0.0004    , 0.0004    , 0.0123774 , 0.01190966,\n",
       "        0.0004    , 0.0004    , 0.0123774 , 0.01622837, 0.01157584,\n",
       "        0.0004    , 0.0123774 , 0.01542206, 0.01304761, 0.00991161]),\n",
       " 'rank_test_score': array([11, 11, 11, 11,  7, 11, 11, 11,  7,  2, 11, 11,  7,  3,  5, 11,  7,\n",
       "         4,  1,  6], dtype=int32)}"
      ]
     },
     "execution_count": 59,
     "metadata": {},
     "output_type": "execute_result"
    }
   ],
   "source": [
    "best_model.cv_results_"
   ]
  },
  {
   "cell_type": "code",
   "execution_count": 60,
   "id": "described-tiffany",
   "metadata": {},
   "outputs": [
    {
     "data": {
      "image/png": "[encoded data removed]",
      "text/plain": [
       "<Figure size 432x288 with 2 Axes>"
      ]
     },
     "metadata": {
      "needs_background": "light"
     },
     "output_type": "display_data"
    }
   ],
   "source": [
    "results = pd.DataFrame( search_results.cv_results_['params'] )\n",
    "\n",
    "results['score'] = 1 - search_results.cv_results_['mean_test_score']\n",
    "\n",
    "results = results.pivot('C','gamma','score')\n",
    "\n",
    "sns.heatmap(results,annot=True, fmt='.3f') \n",
    "plt.title('Training error w.r.t $C$ and $\\gamma$')\n",
    "plt.show()"
   ]
  },
  {
   "cell_type": "code",
   "execution_count": 61,
   "id": "coated-locking",
   "metadata": {},
   "outputs": [
    {
     "name": "stdout",
     "output_type": "stream",
     "text": [
      "Test set error for optimum classifier(C=1000,gamma=0.001): 0.242\n"
     ]
    }
   ],
   "source": [
    "# extract the best estimator and its params\n",
    "opt_classifier = search_results.best_estimator_\n",
    "opt_C = search_results.best_params_['C']\n",
    "opt_gamma = search_results.best_params_['gamma']\n",
    "\n",
    "# just a copy/paste of test set evaluation from before\n",
    "opt_classifier.fit(X_train,Y_train)\n",
    "opt_test_score = 1 - opt_classifier.score(X_test,Y_test) # again turn accuracy into misclassification error\n",
    "print(f'Test set error for optimum classifier(C={opt_C},gamma={opt_gamma}): {opt_test_score:.3f}') "
   ]
  },
  {
   "cell_type": "code",
   "execution_count": 62,
   "id": "hungry-image",
   "metadata": {},
   "outputs": [],
   "source": [
    "# Gets another random 5000 samples\n",
    "X_train, X_test, Y_train, Y_test = train_test_split(X_n, Y_n, train_size = 5000, random_state = 4)"
   ]
  },
  {
   "cell_type": "code",
   "execution_count": 63,
   "id": "received-preliminary",
   "metadata": {},
   "outputs": [],
   "source": [
    "classifier = svm.SVC(kernel= 'rbf')\n",
    "parameters = {'C': [1, 10, 100, 1000], 'gamma': [1e-6, 1e-5, 1e-4, 1e-3, 1e-2]}\n",
    "search_results =  GridSearchCV(classifier, parameters)\n",
    "\n",
    "best_model = search_results.fit(X_train,Y_train)"
   ]
  },
  {
   "cell_type": "code",
   "execution_count": 64,
   "id": "approved-relative",
   "metadata": {},
   "outputs": [
    {
     "data": {
      "text/plain": [
       "75.6753360974997"
      ]
     },
     "execution_count": 64,
     "metadata": {},
     "output_type": "execute_result"
    }
   ],
   "source": [
    "# Predicts the output\n",
    "Y_pred = search_results.predict(X_test)\n",
    "\n",
    "# Displays the accuracy of the model\n",
    "accuracy = (accuracy_score(Y_test, Y_pred))*100\n",
    "accuracy"
   ]
  },
  {
   "cell_type": "code",
   "execution_count": 65,
   "id": "worse-location",
   "metadata": {},
   "outputs": [
    {
     "name": "stdout",
     "output_type": "stream",
     "text": [
      "[[4351  920]\n",
      " [1016 1672]]\n",
      "              precision    recall  f1-score   support\n",
      "\n",
      "         0.0       0.81      0.83      0.82      5271\n",
      "         1.0       0.65      0.62      0.63      2688\n",
      "\n",
      "    accuracy                           0.76      7959\n",
      "   macro avg       0.73      0.72      0.73      7959\n",
      "weighted avg       0.75      0.76      0.76      7959\n",
      "\n"
     ]
    }
   ],
   "source": [
    "# Evaluating the algorithm\n",
    "print(confusion_matrix(Y_test, Y_pred))\n",
    "print(classification_report(Y_test, Y_pred))"
   ]
  },
  {
   "cell_type": "code",
   "execution_count": 66,
   "id": "grand-cooperative",
   "metadata": {},
   "outputs": [
    {
     "data": {
      "text/plain": [
       "{'mean_fit_time': array([1.3628264 , 2.04546123, 2.0344667 , 2.12709332, 1.75795026,\n",
       "        2.60753818, 1.63294816, 1.34875956, 1.68316092, 1.55119405,\n",
       "        2.04074202, 1.6131289 , 2.06403069, 1.58009763, 1.9359652 ,\n",
       "        2.22420092, 2.40792818, 1.6251502 , 1.57586946, 3.01841168]),\n",
       " 'std_fit_time': array([0.96896165, 1.19014881, 1.19140575, 1.2563164 , 1.3873929 ,\n",
       "        1.04638712, 1.24536917, 0.96137765, 1.12331919, 1.24008926,\n",
       "        1.20799028, 1.27630225, 1.19032582, 1.27490394, 1.07765473,\n",
       "        1.29653039, 1.16970657, 1.3413166 , 1.14780685, 1.03180963]),\n",
       " 'mean_score_time': array([0.76196184, 0.16591587, 0.67675886, 0.16447392, 0.67680774,\n",
       "        0.16576676, 0.90131497, 0.75908418, 0.65510721, 0.69510465,\n",
       "        0.15823817, 0.6315897 , 0.15911365, 0.58253832, 0.12785335,\n",
       "        0.1605732 , 0.53455606, 0.6363698 , 0.67622561, 0.54872975]),\n",
       " 'std_score_time': array([1.18654667, 0.0092477 , 0.97186821, 0.00757846, 1.05828173,\n",
       "        0.00862008, 1.47661409, 1.18888079, 0.96355304, 1.1221462 ,\n",
       "        0.00441783, 0.93618106, 0.00534408, 0.900966  , 0.01488683,\n",
       "        0.00398607, 0.77830644, 0.99758389, 1.09160913, 0.82978784]),\n",
       " 'param_C': masked_array(data=[1, 1, 1, 1, 1, 10, 10, 10, 10, 10, 100, 100, 100, 100,\n",
       "                    100, 1000, 1000, 1000, 1000, 1000],\n",
       "              mask=[False, False, False, False, False, False, False, False,\n",
       "                    False, False, False, False, False, False, False, False,\n",
       "                    False, False, False, False],\n",
       "        fill_value='?',\n",
       "             dtype=object),\n",
       " 'param_gamma': masked_array(data=[1e-06, 1e-05, 0.0001, 0.001, 0.01, 1e-06, 1e-05,\n",
       "                    0.0001, 0.001, 0.01, 1e-06, 1e-05, 0.0001, 0.001, 0.01,\n",
       "                    1e-06, 1e-05, 0.0001, 0.001, 0.01],\n",
       "              mask=[False, False, False, False, False, False, False, False,\n",
       "                    False, False, False, False, False, False, False, False,\n",
       "                    False, False, False, False],\n",
       "        fill_value='?',\n",
       "             dtype=object),\n",
       " 'params': [{'C': 1, 'gamma': 1e-06},\n",
       "  {'C': 1, 'gamma': 1e-05},\n",
       "  {'C': 1, 'gamma': 0.0001},\n",
       "  {'C': 1, 'gamma': 0.001},\n",
       "  {'C': 1, 'gamma': 0.01},\n",
       "  {'C': 10, 'gamma': 1e-06},\n",
       "  {'C': 10, 'gamma': 1e-05},\n",
       "  {'C': 10, 'gamma': 0.0001},\n",
       "  {'C': 10, 'gamma': 0.001},\n",
       "  {'C': 10, 'gamma': 0.01},\n",
       "  {'C': 100, 'gamma': 1e-06},\n",
       "  {'C': 100, 'gamma': 1e-05},\n",
       "  {'C': 100, 'gamma': 0.0001},\n",
       "  {'C': 100, 'gamma': 0.001},\n",
       "  {'C': 100, 'gamma': 0.01},\n",
       "  {'C': 1000, 'gamma': 1e-06},\n",
       "  {'C': 1000, 'gamma': 1e-05},\n",
       "  {'C': 1000, 'gamma': 0.0001},\n",
       "  {'C': 1000, 'gamma': 0.001},\n",
       "  {'C': 1000, 'gamma': 0.01}],\n",
       " 'split0_test_score': array([0.674, 0.674, 0.674, 0.674, 0.733, 0.674, 0.674, 0.674, 0.733,\n",
       "        0.76 , 0.674, 0.674, 0.733, 0.764, 0.753, 0.674, 0.733, 0.766,\n",
       "        0.755, 0.745]),\n",
       " 'split1_test_score': array([0.674, 0.674, 0.674, 0.674, 0.748, 0.674, 0.674, 0.674, 0.748,\n",
       "        0.749, 0.674, 0.674, 0.748, 0.771, 0.752, 0.674, 0.748, 0.771,\n",
       "        0.749, 0.739]),\n",
       " 'split2_test_score': array([0.674, 0.674, 0.674, 0.674, 0.717, 0.674, 0.674, 0.674, 0.717,\n",
       "        0.741, 0.674, 0.674, 0.717, 0.744, 0.736, 0.674, 0.717, 0.745,\n",
       "        0.733, 0.725]),\n",
       " 'split3_test_score': array([0.674, 0.674, 0.674, 0.674, 0.738, 0.674, 0.674, 0.674, 0.738,\n",
       "        0.747, 0.674, 0.674, 0.738, 0.752, 0.753, 0.674, 0.738, 0.75 ,\n",
       "        0.756, 0.733]),\n",
       " 'split4_test_score': array([0.673, 0.673, 0.673, 0.673, 0.734, 0.673, 0.673, 0.673, 0.734,\n",
       "        0.759, 0.673, 0.673, 0.734, 0.763, 0.758, 0.673, 0.734, 0.759,\n",
       "        0.773, 0.745]),\n",
       " 'mean_test_score': array([0.6738, 0.6738, 0.6738, 0.6738, 0.734 , 0.6738, 0.6738, 0.6738,\n",
       "        0.734 , 0.7512, 0.6738, 0.6738, 0.734 , 0.7588, 0.7504, 0.6738,\n",
       "        0.734 , 0.7582, 0.7532, 0.7374]),\n",
       " 'std_test_score': array([0.0004    , 0.0004    , 0.0004    , 0.0004    , 0.01001998,\n",
       "        0.0004    , 0.0004    , 0.0004    , 0.01001998, 0.00727736,\n",
       "        0.0004    , 0.0004    , 0.01001998, 0.00957914, 0.00749933,\n",
       "        0.0004    , 0.01001998, 0.0096623 , 0.01287478, 0.00763151]),\n",
       " 'rank_test_score': array([11, 11, 11, 11,  7, 11, 11, 11,  7,  4, 11, 11,  7,  1,  5, 11,  7,\n",
       "         2,  3,  6], dtype=int32)}"
      ]
     },
     "execution_count": 66,
     "metadata": {},
     "output_type": "execute_result"
    }
   ],
   "source": [
    "best_model.cv_results_"
   ]
  },
  {
   "cell_type": "code",
   "execution_count": 67,
   "id": "western-bahamas",
   "metadata": {},
   "outputs": [
    {
     "data": {
      "image/png": "[encoded data removed]",
      "text/plain": [
       "<Figure size 432x288 with 2 Axes>"
      ]
     },
     "metadata": {
      "needs_background": "light"
     },
     "output_type": "display_data"
    }
   ],
   "source": [
    "results = pd.DataFrame( search_results.cv_results_['params'] )\n",
    "\n",
    "results['score'] = 1 - search_results.cv_results_['mean_test_score']\n",
    "\n",
    "results = results.pivot('C','gamma','score')\n",
    "\n",
    "sns.heatmap(results,annot=True, fmt='.3f') \n",
    "plt.title('Training error w.r.t $C$ and $\\gamma$')\n",
    "plt.show()"
   ]
  },
  {
   "cell_type": "code",
   "execution_count": 68,
   "id": "fleet-belle",
   "metadata": {},
   "outputs": [
    {
     "name": "stdout",
     "output_type": "stream",
     "text": [
      "Test set error for optimum classifier(C=100,gamma=0.001): 0.243\n"
     ]
    }
   ],
   "source": [
    "# extract the best estimator and its params\n",
    "opt_classifier = search_results.best_estimator_\n",
    "opt_C = search_results.best_params_['C']\n",
    "opt_gamma = search_results.best_params_['gamma']\n",
    "\n",
    "# just a copy/paste of test set evaluation from before\n",
    "opt_classifier.fit(X_train,Y_train)\n",
    "opt_test_score = 1 - opt_classifier.score(X_test,Y_test) # again turn accuracy into misclassification error\n",
    "print(f'Test set error for optimum classifier(C={opt_C},gamma={opt_gamma}): {opt_test_score:.3f}') "
   ]
  },
  {
   "cell_type": "code",
   "execution_count": 69,
   "id": "loved-utilization",
   "metadata": {},
   "outputs": [],
   "source": [
    "# Gets another random 5000 samples\n",
    "X_train, X_test, Y_train, Y_test = train_test_split(X_n, Y_n, train_size = 5000, random_state = 5)"
   ]
  },
  {
   "cell_type": "code",
   "execution_count": 70,
   "id": "recreational-activation",
   "metadata": {},
   "outputs": [],
   "source": [
    "classifier = svm.SVC(kernel= 'rbf')\n",
    "parameters = {'C': [1, 10, 100, 1000], 'gamma': [1e-6, 1e-5, 1e-4, 1e-3, 1e-2]}\n",
    "search_results =  GridSearchCV(classifier, parameters)\n",
    "\n",
    "best_model = search_results.fit(X_train,Y_train)"
   ]
  },
  {
   "cell_type": "code",
   "execution_count": 71,
   "id": "regulated-personality",
   "metadata": {},
   "outputs": [
    {
     "data": {
      "text/plain": [
       "75.6250785274532"
      ]
     },
     "execution_count": 71,
     "metadata": {},
     "output_type": "execute_result"
    }
   ],
   "source": [
    "# Predicts the output\n",
    "Y_pred = search_results.predict(X_test)\n",
    "\n",
    "# Displays the accuracy of the model\n",
    "accuracy = (accuracy_score(Y_test, Y_pred))*100\n",
    "accuracy"
   ]
  },
  {
   "cell_type": "code",
   "execution_count": 72,
   "id": "agreed-essex",
   "metadata": {},
   "outputs": [
    {
     "name": "stdout",
     "output_type": "stream",
     "text": [
      "[[4584  749]\n",
      " [1191 1435]]\n",
      "              precision    recall  f1-score   support\n",
      "\n",
      "         0.0       0.79      0.86      0.83      5333\n",
      "         1.0       0.66      0.55      0.60      2626\n",
      "\n",
      "    accuracy                           0.76      7959\n",
      "   macro avg       0.73      0.70      0.71      7959\n",
      "weighted avg       0.75      0.76      0.75      7959\n",
      "\n"
     ]
    }
   ],
   "source": [
    "# Evaluating the algorithm\n",
    "print(confusion_matrix(Y_test, Y_pred))\n",
    "print(classification_report(Y_test, Y_pred))"
   ]
  },
  {
   "cell_type": "code",
   "execution_count": 73,
   "id": "popular-choice",
   "metadata": {},
   "outputs": [
    {
     "data": {
      "text/plain": [
       "{'mean_fit_time': array([1.90637369, 1.74823422, 1.47101498, 1.77253003, 1.59796371,\n",
       "        1.72182007, 1.66782141, 1.0763319 , 1.8632678 , 0.54193764,\n",
       "        1.52973008, 1.86288214, 1.69065061, 1.73322392, 1.63562303,\n",
       "        1.71097941, 2.53732176, 1.51831298, 1.85176854, 3.78905396]),\n",
       " 'std_fit_time': array([1.14312854, 1.45829614, 1.11881204, 1.51871517, 1.22058741,\n",
       "        1.28095465, 1.30822331, 0.98154596, 1.36579198, 0.052581  ,\n",
       "        1.15523935, 1.03588724, 1.27813925, 1.41437763, 1.25708368,\n",
       "        1.32335956, 0.93992842, 1.19205146, 0.9870331 , 0.36335956]),\n",
       " 'mean_score_time': array([0.15978947, 0.5719573 , 0.62186942, 0.16658192, 0.63497496,\n",
       "        0.65553398, 0.72265682, 1.03829722, 1.09744129, 1.11293397,\n",
       "        0.6622757 , 0.17371969, 0.58666658, 0.14469543, 0.60574527,\n",
       "        0.57411313, 0.14812241, 0.13271213, 0.12807832, 0.12126536]),\n",
       " 'std_score_time': array([0.00560459, 0.8285348 , 0.91292791, 0.00439765, 0.98244799,\n",
       "        0.94060049, 1.11504735, 1.07469212, 1.16341116, 1.20007502,\n",
       "        1.00363964, 0.01106577, 0.87041983, 0.00931328, 0.96318526,\n",
       "        0.80493031, 0.00686776, 0.00722255, 0.00887416, 0.01050534]),\n",
       " 'param_C': masked_array(data=[1, 1, 1, 1, 1, 10, 10, 10, 10, 10, 100, 100, 100, 100,\n",
       "                    100, 1000, 1000, 1000, 1000, 1000],\n",
       "              mask=[False, False, False, False, False, False, False, False,\n",
       "                    False, False, False, False, False, False, False, False,\n",
       "                    False, False, False, False],\n",
       "        fill_value='?',\n",
       "             dtype=object),\n",
       " 'param_gamma': masked_array(data=[1e-06, 1e-05, 0.0001, 0.001, 0.01, 1e-06, 1e-05,\n",
       "                    0.0001, 0.001, 0.01, 1e-06, 1e-05, 0.0001, 0.001, 0.01,\n",
       "                    1e-06, 1e-05, 0.0001, 0.001, 0.01],\n",
       "              mask=[False, False, False, False, False, False, False, False,\n",
       "                    False, False, False, False, False, False, False, False,\n",
       "                    False, False, False, False],\n",
       "        fill_value='?',\n",
       "             dtype=object),\n",
       " 'params': [{'C': 1, 'gamma': 1e-06},\n",
       "  {'C': 1, 'gamma': 1e-05},\n",
       "  {'C': 1, 'gamma': 0.0001},\n",
       "  {'C': 1, 'gamma': 0.001},\n",
       "  {'C': 1, 'gamma': 0.01},\n",
       "  {'C': 10, 'gamma': 1e-06},\n",
       "  {'C': 10, 'gamma': 1e-05},\n",
       "  {'C': 10, 'gamma': 0.0001},\n",
       "  {'C': 10, 'gamma': 0.001},\n",
       "  {'C': 10, 'gamma': 0.01},\n",
       "  {'C': 100, 'gamma': 1e-06},\n",
       "  {'C': 100, 'gamma': 1e-05},\n",
       "  {'C': 100, 'gamma': 0.0001},\n",
       "  {'C': 100, 'gamma': 0.001},\n",
       "  {'C': 100, 'gamma': 0.01},\n",
       "  {'C': 1000, 'gamma': 1e-06},\n",
       "  {'C': 1000, 'gamma': 1e-05},\n",
       "  {'C': 1000, 'gamma': 0.0001},\n",
       "  {'C': 1000, 'gamma': 0.001},\n",
       "  {'C': 1000, 'gamma': 0.01}],\n",
       " 'split0_test_score': array([0.662, 0.662, 0.662, 0.662, 0.727, 0.662, 0.662, 0.662, 0.727,\n",
       "        0.738, 0.662, 0.662, 0.727, 0.721, 0.737, 0.662, 0.727, 0.721,\n",
       "        0.734, 0.725]),\n",
       " 'split1_test_score': array([0.662, 0.662, 0.662, 0.662, 0.724, 0.662, 0.662, 0.662, 0.724,\n",
       "        0.742, 0.662, 0.662, 0.724, 0.739, 0.735, 0.662, 0.724, 0.737,\n",
       "        0.741, 0.72 ]),\n",
       " 'split2_test_score': array([0.661, 0.661, 0.661, 0.661, 0.736, 0.661, 0.661, 0.661, 0.736,\n",
       "        0.751, 0.661, 0.661, 0.736, 0.753, 0.756, 0.661, 0.736, 0.751,\n",
       "        0.758, 0.755]),\n",
       " 'split3_test_score': array([0.661, 0.661, 0.661, 0.661, 0.747, 0.661, 0.661, 0.661, 0.747,\n",
       "        0.764, 0.661, 0.661, 0.747, 0.756, 0.755, 0.661, 0.747, 0.759,\n",
       "        0.764, 0.753]),\n",
       " 'split4_test_score': array([0.661, 0.661, 0.661, 0.661, 0.737, 0.661, 0.661, 0.661, 0.737,\n",
       "        0.755, 0.661, 0.661, 0.737, 0.744, 0.773, 0.661, 0.737, 0.742,\n",
       "        0.77 , 0.752]),\n",
       " 'mean_test_score': array([0.6614, 0.6614, 0.6614, 0.6614, 0.7342, 0.6614, 0.6614, 0.6614,\n",
       "        0.7342, 0.75  , 0.6614, 0.6614, 0.7342, 0.7426, 0.7512, 0.6614,\n",
       "        0.7342, 0.742 , 0.7534, 0.741 ]),\n",
       " 'std_test_score': array([0.0004899 , 0.0004899 , 0.0004899 , 0.0004899 , 0.00813388,\n",
       "        0.0004899 , 0.0004899 , 0.0004899 , 0.00813388, 0.00927362,\n",
       "        0.0004899 , 0.0004899 , 0.00813388, 0.01240323, 0.01397712,\n",
       "        0.0004899 , 0.00813388, 0.01293058, 0.01370547, 0.01521841]),\n",
       " 'rank_test_score': array([11, 11, 11, 11,  7, 11, 11, 11,  7,  3, 11, 11,  7,  4,  2, 11,  7,\n",
       "         5,  1,  6], dtype=int32)}"
      ]
     },
     "execution_count": 73,
     "metadata": {},
     "output_type": "execute_result"
    }
   ],
   "source": [
    "best_model.cv_results_"
   ]
  },
  {
   "cell_type": "code",
   "execution_count": 74,
   "id": "abandoned-arizona",
   "metadata": {},
   "outputs": [
    {
     "data": {
      "image/png": "[encoded data removed]",
      "text/plain": [
       "<Figure size 432x288 with 2 Axes>"
      ]
     },
     "metadata": {
      "needs_background": "light"
     },
     "output_type": "display_data"
    }
   ],
   "source": [
    "results = pd.DataFrame( search_results.cv_results_['params'] )\n",
    "\n",
    "results['score'] = 1 - search_results.cv_results_['mean_test_score']\n",
    "\n",
    "results = results.pivot('C','gamma','score')\n",
    "\n",
    "sns.heatmap(results,annot=True, fmt='.3f') \n",
    "plt.title('Training error w.r.t $C$ and $\\gamma$')\n",
    "plt.show()"
   ]
  },
  {
   "cell_type": "code",
   "execution_count": 75,
   "id": "infrared-guess",
   "metadata": {},
   "outputs": [
    {
     "name": "stdout",
     "output_type": "stream",
     "text": [
      "Test set error for optimum classifier(C=1000,gamma=0.001): 0.244\n"
     ]
    }
   ],
   "source": [
    "# extract the best estimator and its params\n",
    "opt_classifier = search_results.best_estimator_\n",
    "opt_C = search_results.best_params_['C']\n",
    "opt_gamma = search_results.best_params_['gamma']\n",
    "\n",
    "# just a copy/paste of test set evaluation from before\n",
    "opt_classifier.fit(X_train,Y_train)\n",
    "opt_test_score = 1 - opt_classifier.score(X_test,Y_test) # again turn accuracy into misclassification error\n",
    "print(f'Test set error for optimum classifier(C={opt_C},gamma={opt_gamma}): {opt_test_score:.3f}') "
   ]
  },
  {
   "cell_type": "markdown",
   "id": "accessible-danish",
   "metadata": {},
   "source": [
    "## Electrical Grid Dataset"
   ]
  },
  {
   "cell_type": "code",
   "execution_count": 76,
   "id": "retained-sigma",
   "metadata": {},
   "outputs": [
    {
     "data": {
      "text/html": [
       "<div>\n",
       "<style scoped>\n",
       "    .dataframe tbody tr th:only-of-type {\n",
       "        vertical-align: middle;\n",
       "    }\n",
       "\n",
       "    .dataframe tbody tr th {\n",
       "        vertical-align: top;\n",
       "    }\n",
       "\n",
       "    .dataframe thead th {\n",
       "        text-align: right;\n",
       "    }\n",
       "</style>\n",
       "<table border=\"1\" class=\"dataframe\">\n",
       "  <thead>\n",
       "    <tr style=\"text-align: right;\">\n",
       "      <th></th>\n",
       "      <th>stable</th>\n",
       "      <th>unstable</th>\n",
       "      <th>tau1</th>\n",
       "      <th>tau2</th>\n",
       "      <th>tau3</th>\n",
       "      <th>tau4</th>\n",
       "      <th>p1</th>\n",
       "      <th>p2</th>\n",
       "      <th>p3</th>\n",
       "      <th>p4</th>\n",
       "      <th>g1</th>\n",
       "      <th>g2</th>\n",
       "      <th>g3</th>\n",
       "      <th>g4</th>\n",
       "      <th>stab</th>\n",
       "    </tr>\n",
       "  </thead>\n",
       "  <tbody>\n",
       "    <tr>\n",
       "      <th>0</th>\n",
       "      <td>0.0</td>\n",
       "      <td>1.0</td>\n",
       "      <td>2.959060</td>\n",
       "      <td>3.079885</td>\n",
       "      <td>8.381025</td>\n",
       "      <td>9.780754</td>\n",
       "      <td>3.763085</td>\n",
       "      <td>-0.782604</td>\n",
       "      <td>-1.257395</td>\n",
       "      <td>-1.723086</td>\n",
       "      <td>0.650456</td>\n",
       "      <td>0.859578</td>\n",
       "      <td>0.887445</td>\n",
       "      <td>0.958034</td>\n",
       "      <td>0.055347</td>\n",
       "    </tr>\n",
       "    <tr>\n",
       "      <th>1</th>\n",
       "      <td>1.0</td>\n",
       "      <td>0.0</td>\n",
       "      <td>9.304097</td>\n",
       "      <td>4.902524</td>\n",
       "      <td>3.047541</td>\n",
       "      <td>1.369357</td>\n",
       "      <td>5.067812</td>\n",
       "      <td>-1.940058</td>\n",
       "      <td>-1.872742</td>\n",
       "      <td>-1.255012</td>\n",
       "      <td>0.413441</td>\n",
       "      <td>0.862414</td>\n",
       "      <td>0.562139</td>\n",
       "      <td>0.781760</td>\n",
       "      <td>-0.005957</td>\n",
       "    </tr>\n",
       "    <tr>\n",
       "      <th>2</th>\n",
       "      <td>0.0</td>\n",
       "      <td>1.0</td>\n",
       "      <td>8.971707</td>\n",
       "      <td>8.848428</td>\n",
       "      <td>3.046479</td>\n",
       "      <td>1.214518</td>\n",
       "      <td>3.405158</td>\n",
       "      <td>-1.207456</td>\n",
       "      <td>-1.277210</td>\n",
       "      <td>-0.920492</td>\n",
       "      <td>0.163041</td>\n",
       "      <td>0.766689</td>\n",
       "      <td>0.839444</td>\n",
       "      <td>0.109853</td>\n",
       "      <td>0.003471</td>\n",
       "    </tr>\n",
       "    <tr>\n",
       "      <th>3</th>\n",
       "      <td>0.0</td>\n",
       "      <td>1.0</td>\n",
       "      <td>0.716415</td>\n",
       "      <td>7.669600</td>\n",
       "      <td>4.486641</td>\n",
       "      <td>2.340563</td>\n",
       "      <td>3.963791</td>\n",
       "      <td>-1.027473</td>\n",
       "      <td>-1.938944</td>\n",
       "      <td>-0.997374</td>\n",
       "      <td>0.446209</td>\n",
       "      <td>0.976744</td>\n",
       "      <td>0.929381</td>\n",
       "      <td>0.362718</td>\n",
       "      <td>0.028871</td>\n",
       "    </tr>\n",
       "    <tr>\n",
       "      <th>4</th>\n",
       "      <td>0.0</td>\n",
       "      <td>1.0</td>\n",
       "      <td>3.134112</td>\n",
       "      <td>7.608772</td>\n",
       "      <td>4.943759</td>\n",
       "      <td>9.857573</td>\n",
       "      <td>3.525811</td>\n",
       "      <td>-1.125531</td>\n",
       "      <td>-1.845975</td>\n",
       "      <td>-0.554305</td>\n",
       "      <td>0.797110</td>\n",
       "      <td>0.455450</td>\n",
       "      <td>0.656947</td>\n",
       "      <td>0.820923</td>\n",
       "      <td>0.049860</td>\n",
       "    </tr>\n",
       "    <tr>\n",
       "      <th>...</th>\n",
       "      <td>...</td>\n",
       "      <td>...</td>\n",
       "      <td>...</td>\n",
       "      <td>...</td>\n",
       "      <td>...</td>\n",
       "      <td>...</td>\n",
       "      <td>...</td>\n",
       "      <td>...</td>\n",
       "      <td>...</td>\n",
       "      <td>...</td>\n",
       "      <td>...</td>\n",
       "      <td>...</td>\n",
       "      <td>...</td>\n",
       "      <td>...</td>\n",
       "      <td>...</td>\n",
       "    </tr>\n",
       "    <tr>\n",
       "      <th>9995</th>\n",
       "      <td>0.0</td>\n",
       "      <td>1.0</td>\n",
       "      <td>2.930406</td>\n",
       "      <td>9.487627</td>\n",
       "      <td>2.376523</td>\n",
       "      <td>6.187797</td>\n",
       "      <td>3.343416</td>\n",
       "      <td>-0.658054</td>\n",
       "      <td>-1.449106</td>\n",
       "      <td>-1.236256</td>\n",
       "      <td>0.601709</td>\n",
       "      <td>0.779642</td>\n",
       "      <td>0.813512</td>\n",
       "      <td>0.608385</td>\n",
       "      <td>0.023892</td>\n",
       "    </tr>\n",
       "    <tr>\n",
       "      <th>9996</th>\n",
       "      <td>1.0</td>\n",
       "      <td>0.0</td>\n",
       "      <td>3.392299</td>\n",
       "      <td>1.274827</td>\n",
       "      <td>2.954947</td>\n",
       "      <td>6.894759</td>\n",
       "      <td>4.349512</td>\n",
       "      <td>-1.663661</td>\n",
       "      <td>-0.952437</td>\n",
       "      <td>-1.733414</td>\n",
       "      <td>0.502079</td>\n",
       "      <td>0.567242</td>\n",
       "      <td>0.285880</td>\n",
       "      <td>0.366120</td>\n",
       "      <td>-0.025803</td>\n",
       "    </tr>\n",
       "    <tr>\n",
       "      <th>9997</th>\n",
       "      <td>1.0</td>\n",
       "      <td>0.0</td>\n",
       "      <td>2.364034</td>\n",
       "      <td>2.842030</td>\n",
       "      <td>8.776391</td>\n",
       "      <td>1.008906</td>\n",
       "      <td>4.299976</td>\n",
       "      <td>-1.380719</td>\n",
       "      <td>-0.943884</td>\n",
       "      <td>-1.975373</td>\n",
       "      <td>0.487838</td>\n",
       "      <td>0.986505</td>\n",
       "      <td>0.149286</td>\n",
       "      <td>0.145984</td>\n",
       "      <td>-0.031810</td>\n",
       "    </tr>\n",
       "    <tr>\n",
       "      <th>9998</th>\n",
       "      <td>0.0</td>\n",
       "      <td>1.0</td>\n",
       "      <td>9.631511</td>\n",
       "      <td>3.994398</td>\n",
       "      <td>2.757071</td>\n",
       "      <td>7.821347</td>\n",
       "      <td>2.514755</td>\n",
       "      <td>-0.966330</td>\n",
       "      <td>-0.649915</td>\n",
       "      <td>-0.898510</td>\n",
       "      <td>0.365246</td>\n",
       "      <td>0.587558</td>\n",
       "      <td>0.889118</td>\n",
       "      <td>0.818391</td>\n",
       "      <td>0.037789</td>\n",
       "    </tr>\n",
       "    <tr>\n",
       "      <th>9999</th>\n",
       "      <td>0.0</td>\n",
       "      <td>1.0</td>\n",
       "      <td>6.530527</td>\n",
       "      <td>6.781790</td>\n",
       "      <td>4.349695</td>\n",
       "      <td>8.673138</td>\n",
       "      <td>3.492807</td>\n",
       "      <td>-1.390285</td>\n",
       "      <td>-1.532193</td>\n",
       "      <td>-0.570329</td>\n",
       "      <td>0.073056</td>\n",
       "      <td>0.505441</td>\n",
       "      <td>0.378761</td>\n",
       "      <td>0.942631</td>\n",
       "      <td>0.045263</td>\n",
       "    </tr>\n",
       "  </tbody>\n",
       "</table>\n",
       "<p>10000 rows × 15 columns</p>\n",
       "</div>"
      ],
      "text/plain": [
       "      stable  unstable      tau1      tau2      tau3      tau4        p1  \\\n",
       "0        0.0       1.0  2.959060  3.079885  8.381025  9.780754  3.763085   \n",
       "1        1.0       0.0  9.304097  4.902524  3.047541  1.369357  5.067812   \n",
       "2        0.0       1.0  8.971707  8.848428  3.046479  1.214518  3.405158   \n",
       "3        0.0       1.0  0.716415  7.669600  4.486641  2.340563  3.963791   \n",
       "4        0.0       1.0  3.134112  7.608772  4.943759  9.857573  3.525811   \n",
       "...      ...       ...       ...       ...       ...       ...       ...   \n",
       "9995     0.0       1.0  2.930406  9.487627  2.376523  6.187797  3.343416   \n",
       "9996     1.0       0.0  3.392299  1.274827  2.954947  6.894759  4.349512   \n",
       "9997     1.0       0.0  2.364034  2.842030  8.776391  1.008906  4.299976   \n",
       "9998     0.0       1.0  9.631511  3.994398  2.757071  7.821347  2.514755   \n",
       "9999     0.0       1.0  6.530527  6.781790  4.349695  8.673138  3.492807   \n",
       "\n",
       "            p2        p3        p4        g1        g2        g3        g4  \\\n",
       "0    -0.782604 -1.257395 -1.723086  0.650456  0.859578  0.887445  0.958034   \n",
       "1    -1.940058 -1.872742 -1.255012  0.413441  0.862414  0.562139  0.781760   \n",
       "2    -1.207456 -1.277210 -0.920492  0.163041  0.766689  0.839444  0.109853   \n",
       "3    -1.027473 -1.938944 -0.997374  0.446209  0.976744  0.929381  0.362718   \n",
       "4    -1.125531 -1.845975 -0.554305  0.797110  0.455450  0.656947  0.820923   \n",
       "...        ...       ...       ...       ...       ...       ...       ...   \n",
       "9995 -0.658054 -1.449106 -1.236256  0.601709  0.779642  0.813512  0.608385   \n",
       "9996 -1.663661 -0.952437 -1.733414  0.502079  0.567242  0.285880  0.366120   \n",
       "9997 -1.380719 -0.943884 -1.975373  0.487838  0.986505  0.149286  0.145984   \n",
       "9998 -0.966330 -0.649915 -0.898510  0.365246  0.587558  0.889118  0.818391   \n",
       "9999 -1.390285 -1.532193 -0.570329  0.073056  0.505441  0.378761  0.942631   \n",
       "\n",
       "          stab  \n",
       "0     0.055347  \n",
       "1    -0.005957  \n",
       "2     0.003471  \n",
       "3     0.028871  \n",
       "4     0.049860  \n",
       "...        ...  \n",
       "9995  0.023892  \n",
       "9996 -0.025803  \n",
       "9997 -0.031810  \n",
       "9998  0.037789  \n",
       "9999  0.045263  \n",
       "\n",
       "[10000 rows x 15 columns]"
      ]
     },
     "execution_count": 76,
     "metadata": {},
     "output_type": "execute_result"
    }
   ],
   "source": [
    "electrical_grid = pd.read_csv('https://archive.ics.uci.edu/ml/machine-learning-databases/00471/Data_for_UCI_named.csv')\n",
    "\n",
    "encoder = OneHotEncoder().fit(electrical_grid[['stabf']])\n",
    "encoder.categories_\n",
    "\n",
    "transformed = encoder.transform(electrical_grid[['stabf']] ).toarray() \n",
    "transformed\n",
    "\n",
    "for index, category in enumerate( np.concatenate(encoder.categories_) ):\n",
    "    electrical_grid[category] = transformed[:,index]\n",
    "    \n",
    "cols = electrical_grid.columns.tolist()\n",
    "cols = cols[-2:] + cols[:-2]\n",
    "electrical_grid = electrical_grid[cols]\n",
    "\n",
    "electrical_grid = electrical_grid.drop(columns = ['stabf'])\n",
    "    \n",
    "electrical_grid"
   ]
  },
  {
   "cell_type": "code",
   "execution_count": 77,
   "id": "advised-florida",
   "metadata": {},
   "outputs": [],
   "source": [
    "# Stores all columns except Stable in X and Stable in Y\n",
    "X_e = electrical_grid.drop(['stable'], axis=1)\n",
    "Y_e = electrical_grid['stable']\n",
    "\n",
    "# Gets 5000 random samples\n",
    "X_train, X_test, Y_train, Y_test = train_test_split(X_e, Y_e, train_size = 5000, random_state = 1)"
   ]
  },
  {
   "cell_type": "code",
   "execution_count": 78,
   "id": "revolutionary-physics",
   "metadata": {},
   "outputs": [],
   "source": [
    "classifier = svm.SVC(kernel= 'rbf')\n",
    "parameters = {'C': [1, 10, 100, 1000], 'gamma': [1e-6, 1e-5, 1e-4, 1e-3, 1e-2]}\n",
    "search_results =  GridSearchCV(classifier, parameters)\n",
    "\n",
    "best_model = search_results.fit(X_train,Y_train)"
   ]
  },
  {
   "cell_type": "code",
   "execution_count": 79,
   "id": "preceding-infrared",
   "metadata": {},
   "outputs": [
    {
     "data": {
      "text/plain": [
       "100.0"
      ]
     },
     "execution_count": 79,
     "metadata": {},
     "output_type": "execute_result"
    }
   ],
   "source": [
    "# Predicts the output\n",
    "Y_pred = search_results.predict(X_test)\n",
    "\n",
    "# Displays the accuracy of the model\n",
    "accuracy = (accuracy_score(Y_test, Y_pred))*100\n",
    "accuracy"
   ]
  },
  {
   "cell_type": "code",
   "execution_count": 80,
   "id": "alternative-protocol",
   "metadata": {},
   "outputs": [
    {
     "name": "stdout",
     "output_type": "stream",
     "text": [
      "[[3181    0]\n",
      " [   0 1819]]\n",
      "              precision    recall  f1-score   support\n",
      "\n",
      "         0.0       1.00      1.00      1.00      3181\n",
      "         1.0       1.00      1.00      1.00      1819\n",
      "\n",
      "    accuracy                           1.00      5000\n",
      "   macro avg       1.00      1.00      1.00      5000\n",
      "weighted avg       1.00      1.00      1.00      5000\n",
      "\n"
     ]
    }
   ],
   "source": [
    "# Evaluating the algorithm\n",
    "print(confusion_matrix(Y_test, Y_pred))\n",
    "print(classification_report(Y_test, Y_pred))"
   ]
  },
  {
   "cell_type": "code",
   "execution_count": 81,
   "id": "allied-throat",
   "metadata": {},
   "outputs": [
    {
     "data": {
      "text/plain": [
       "{'mean_fit_time': array([1.57194052, 1.53050332, 1.5758862 , 1.46907458, 1.03768387,\n",
       "        2.1541862 , 1.5659791 , 1.43068295, 0.14524622, 0.62847357,\n",
       "        1.7186625 , 1.70846095, 0.71992431, 0.0883595 , 0.06082091,\n",
       "        1.74793153, 1.71386523, 0.85733275, 0.08851056, 0.31164212]),\n",
       " 'std_fit_time': array([1.15603345, 1.13204718, 1.15749558, 1.26202891, 1.14231377,\n",
       "        1.25635597, 1.1221462 , 1.1833002 , 0.01005438, 1.11922413,\n",
       "        1.35495232, 1.5374889 , 0.86494528, 0.00839402, 0.0021343 ,\n",
       "        1.64328705, 1.682603  , 1.23456615, 0.00781729, 0.32807792]),\n",
       " 'mean_score_time': array([0.68375645, 0.17286358, 0.62034373, 0.12040987, 0.02828603,\n",
       "        0.16305594, 0.63044147, 0.10765324, 0.01587057, 0.00912848,\n",
       "        0.15368662, 0.56155944, 0.01804299, 0.00588183, 0.00819836,\n",
       "        0.10625958, 0.02191973, 0.00651793, 0.00551777, 0.20658789]),\n",
       " 'std_score_time': array([1.05721002e+00, 2.29905607e-02, 9.12821870e-01, 2.53315342e-02,\n",
       "        1.44780356e-03, 6.68030295e-03, 9.15426445e-01, 8.27857774e-03,\n",
       "        1.42672966e-03, 1.10584122e-03, 3.74860159e-03, 8.49443766e-01,\n",
       "        4.83529393e-04, 4.37028901e-04, 3.76640828e-04, 3.59304088e-03,\n",
       "        9.87936755e-04, 4.14268027e-04, 2.45488505e-04, 3.96619294e-01]),\n",
       " 'param_C': masked_array(data=[1, 1, 1, 1, 1, 10, 10, 10, 10, 10, 100, 100, 100, 100,\n",
       "                    100, 1000, 1000, 1000, 1000, 1000],\n",
       "              mask=[False, False, False, False, False, False, False, False,\n",
       "                    False, False, False, False, False, False, False, False,\n",
       "                    False, False, False, False],\n",
       "        fill_value='?',\n",
       "             dtype=object),\n",
       " 'param_gamma': masked_array(data=[1e-06, 1e-05, 0.0001, 0.001, 0.01, 1e-06, 1e-05,\n",
       "                    0.0001, 0.001, 0.01, 1e-06, 1e-05, 0.0001, 0.001, 0.01,\n",
       "                    1e-06, 1e-05, 0.0001, 0.001, 0.01],\n",
       "              mask=[False, False, False, False, False, False, False, False,\n",
       "                    False, False, False, False, False, False, False, False,\n",
       "                    False, False, False, False],\n",
       "        fill_value='?',\n",
       "             dtype=object),\n",
       " 'params': [{'C': 1, 'gamma': 1e-06},\n",
       "  {'C': 1, 'gamma': 1e-05},\n",
       "  {'C': 1, 'gamma': 0.0001},\n",
       "  {'C': 1, 'gamma': 0.001},\n",
       "  {'C': 1, 'gamma': 0.01},\n",
       "  {'C': 10, 'gamma': 1e-06},\n",
       "  {'C': 10, 'gamma': 1e-05},\n",
       "  {'C': 10, 'gamma': 0.0001},\n",
       "  {'C': 10, 'gamma': 0.001},\n",
       "  {'C': 10, 'gamma': 0.01},\n",
       "  {'C': 100, 'gamma': 1e-06},\n",
       "  {'C': 100, 'gamma': 1e-05},\n",
       "  {'C': 100, 'gamma': 0.0001},\n",
       "  {'C': 100, 'gamma': 0.001},\n",
       "  {'C': 100, 'gamma': 0.01},\n",
       "  {'C': 1000, 'gamma': 1e-06},\n",
       "  {'C': 1000, 'gamma': 1e-05},\n",
       "  {'C': 1000, 'gamma': 0.0001},\n",
       "  {'C': 1000, 'gamma': 0.001},\n",
       "  {'C': 1000, 'gamma': 0.01}],\n",
       " 'split0_test_score': array([0.639, 0.639, 0.787, 1.   , 1.   , 0.639, 0.788, 1.   , 1.   ,\n",
       "        1.   , 0.788, 1.   , 1.   , 1.   , 1.   , 1.   , 1.   , 1.   ,\n",
       "        1.   , 1.   ]),\n",
       " 'split1_test_score': array([0.64 , 0.64 , 0.791, 1.   , 1.   , 0.64 , 0.79 , 1.   , 1.   ,\n",
       "        1.   , 0.79 , 1.   , 1.   , 1.   , 1.   , 1.   , 1.   , 1.   ,\n",
       "        1.   , 1.   ]),\n",
       " 'split2_test_score': array([0.64 , 0.64 , 0.8  , 1.   , 1.   , 0.64 , 0.799, 1.   , 1.   ,\n",
       "        1.   , 0.8  , 1.   , 1.   , 1.   , 1.   , 1.   , 1.   , 1.   ,\n",
       "        1.   , 1.   ]),\n",
       " 'split3_test_score': array([0.64 , 0.64 , 0.787, 1.   , 1.   , 0.64 , 0.786, 1.   , 1.   ,\n",
       "        1.   , 0.786, 1.   , 1.   , 1.   , 1.   , 1.   , 1.   , 1.   ,\n",
       "        1.   , 1.   ]),\n",
       " 'split4_test_score': array([0.64 , 0.64 , 0.795, 1.   , 1.   , 0.64 , 0.795, 1.   , 1.   ,\n",
       "        1.   , 0.794, 1.   , 1.   , 1.   , 1.   , 1.   , 1.   , 1.   ,\n",
       "        1.   , 1.   ]),\n",
       " 'mean_test_score': array([0.6398, 0.6398, 0.792 , 1.    , 1.    , 0.6398, 0.7916, 1.    ,\n",
       "        1.    , 1.    , 0.7916, 1.    , 1.    , 1.    , 1.    , 1.    ,\n",
       "        1.    , 1.    , 1.    , 1.    ]),\n",
       " 'std_test_score': array([0.0004    , 0.0004    , 0.00497996, 0.        , 0.        ,\n",
       "        0.0004    , 0.00475815, 0.        , 0.        , 0.        ,\n",
       "        0.00496387, 0.        , 0.        , 0.        , 0.        ,\n",
       "        0.        , 0.        , 0.        , 0.        , 0.        ]),\n",
       " 'rank_test_score': array([18, 18, 15,  1,  1, 18, 16,  1,  1,  1, 16,  1,  1,  1,  1,  1,  1,\n",
       "         1,  1,  1], dtype=int32)}"
      ]
     },
     "execution_count": 81,
     "metadata": {},
     "output_type": "execute_result"
    }
   ],
   "source": [
    "best_model.cv_results_"
   ]
  },
  {
   "cell_type": "code",
   "execution_count": 82,
   "id": "bottom-proposal",
   "metadata": {},
   "outputs": [
    {
     "data": {
      "image/png": "[encoded data removed]",
      "text/plain": [
       "<Figure size 432x288 with 2 Axes>"
      ]
     },
     "metadata": {
      "needs_background": "light"
     },
     "output_type": "display_data"
    }
   ],
   "source": [
    "results = pd.DataFrame( search_results.cv_results_['params'] )\n",
    "\n",
    "results['score'] = 1 - search_results.cv_results_['mean_test_score']\n",
    "\n",
    "results = results.pivot('C','gamma','score')\n",
    "\n",
    "sns.heatmap(results,annot=True, fmt='.3f') \n",
    "plt.title('Training error w.r.t $C$ and $\\gamma$')\n",
    "plt.show()"
   ]
  },
  {
   "cell_type": "code",
   "execution_count": 83,
   "id": "martial-board",
   "metadata": {},
   "outputs": [
    {
     "name": "stdout",
     "output_type": "stream",
     "text": [
      "Test set error for optimum classifier(C=1,gamma=0.001): 0.000\n"
     ]
    }
   ],
   "source": [
    "# extract the best estimator and its params\n",
    "opt_classifier = search_results.best_estimator_\n",
    "opt_C = search_results.best_params_['C']\n",
    "opt_gamma = search_results.best_params_['gamma']\n",
    "\n",
    "# just a copy/paste of test set evaluation from before\n",
    "opt_classifier.fit(X_train,Y_train)\n",
    "opt_test_score = 1 - opt_classifier.score(X_test,Y_test) # again turn accuracy into misclassification error\n",
    "print(f'Test set error for optimum classifier(C={opt_C},gamma={opt_gamma}): {opt_test_score:.3f}') "
   ]
  },
  {
   "cell_type": "code",
   "execution_count": 84,
   "id": "extended-hungarian",
   "metadata": {},
   "outputs": [],
   "source": [
    "# Gets another 5000 random samples\n",
    "X_train, X_test, Y_train, Y_test = train_test_split(X_e, Y_e, train_size = 5000, random_state = 2)"
   ]
  },
  {
   "cell_type": "code",
   "execution_count": 85,
   "id": "central-click",
   "metadata": {},
   "outputs": [],
   "source": [
    "classifier = svm.SVC(kernel= 'rbf')\n",
    "parameters = {'C': [1, 10, 100, 1000], 'gamma': [1e-6, 1e-5, 1e-4, 1e-3, 1e-2]}\n",
    "search_results =  GridSearchCV(classifier, parameters)\n",
    "\n",
    "best_model = search_results.fit(X_train,Y_train)"
   ]
  },
  {
   "cell_type": "code",
   "execution_count": 86,
   "id": "threatened-cartridge",
   "metadata": {},
   "outputs": [
    {
     "data": {
      "text/plain": [
       "100.0"
      ]
     },
     "execution_count": 86,
     "metadata": {},
     "output_type": "execute_result"
    }
   ],
   "source": [
    "# Predicts the output\n",
    "Y_pred = search_results.predict(X_test)\n",
    "\n",
    "# Displays the accuracy of the model\n",
    "accuracy = (accuracy_score(Y_test, Y_pred))*100\n",
    "accuracy"
   ]
  },
  {
   "cell_type": "code",
   "execution_count": 87,
   "id": "fitting-ghost",
   "metadata": {},
   "outputs": [
    {
     "name": "stdout",
     "output_type": "stream",
     "text": [
      "[[3194    0]\n",
      " [   0 1806]]\n",
      "              precision    recall  f1-score   support\n",
      "\n",
      "         0.0       1.00      1.00      1.00      3194\n",
      "         1.0       1.00      1.00      1.00      1806\n",
      "\n",
      "    accuracy                           1.00      5000\n",
      "   macro avg       1.00      1.00      1.00      5000\n",
      "weighted avg       1.00      1.00      1.00      5000\n",
      "\n"
     ]
    }
   ],
   "source": [
    "# Evaluating the algorithm\n",
    "print(confusion_matrix(Y_test, Y_pred))\n",
    "print(classification_report(Y_test, Y_pred))"
   ]
  },
  {
   "cell_type": "code",
   "execution_count": 88,
   "id": "earlier-payday",
   "metadata": {},
   "outputs": [
    {
     "data": {
      "text/plain": [
       "{'mean_fit_time': array([1.54069476, 1.88817086, 2.2397644 , 1.36551003, 0.56479449,\n",
       "        1.7769341 , 1.73817444, 1.612884  , 0.72800984, 0.06661148,\n",
       "        1.9479887 , 1.28209209, 0.68514695, 0.63034544, 0.06106229,\n",
       "        1.52793388, 1.27736826, 0.72729177, 0.09181252, 0.05731583]),\n",
       " 'std_fit_time': array([1.12850028, 1.04362369, 1.36166845, 1.10987779, 0.81348354,\n",
       "        1.49619083, 1.39348346, 1.39025688, 1.13897333, 0.00297117,\n",
       "        1.09336438, 1.55284203, 0.79287331, 1.08523073, 0.00336354,\n",
       "        1.21157814, 1.10606623, 0.96231565, 0.00872523, 0.00411086]),\n",
       " 'mean_score_time': array([0.16155167, 0.24463658, 0.16155009, 0.11021662, 0.02823052,\n",
       "        1.49813023, 0.15880613, 0.11010017, 0.01749043, 0.00914583,\n",
       "        0.16331577, 0.69720168, 0.01747732, 0.0445147 , 0.0078249 ,\n",
       "        0.10807838, 0.24791307, 0.00629749, 0.00580239, 0.00812321]),\n",
       " 'std_score_time': array([8.25620232e-03, 1.71268861e-01, 2.42961152e-02, 1.12871653e-02,\n",
       "        8.34623670e-04, 2.65507154e+00, 6.84631712e-03, 1.22978945e-02,\n",
       "        2.18578639e-03, 1.20456535e-03, 6.02531893e-03, 1.18467036e+00,\n",
       "        5.63340864e-04, 7.62010053e-02, 5.55637105e-04, 4.01400980e-03,\n",
       "        4.49379428e-01, 3.37270957e-04, 9.78623263e-04, 5.17127851e-04]),\n",
       " 'param_C': masked_array(data=[1, 1, 1, 1, 1, 10, 10, 10, 10, 10, 100, 100, 100, 100,\n",
       "                    100, 1000, 1000, 1000, 1000, 1000],\n",
       "              mask=[False, False, False, False, False, False, False, False,\n",
       "                    False, False, False, False, False, False, False, False,\n",
       "                    False, False, False, False],\n",
       "        fill_value='?',\n",
       "             dtype=object),\n",
       " 'param_gamma': masked_array(data=[1e-06, 1e-05, 0.0001, 0.001, 0.01, 1e-06, 1e-05,\n",
       "                    0.0001, 0.001, 0.01, 1e-06, 1e-05, 0.0001, 0.001, 0.01,\n",
       "                    1e-06, 1e-05, 0.0001, 0.001, 0.01],\n",
       "              mask=[False, False, False, False, False, False, False, False,\n",
       "                    False, False, False, False, False, False, False, False,\n",
       "                    False, False, False, False],\n",
       "        fill_value='?',\n",
       "             dtype=object),\n",
       " 'params': [{'C': 1, 'gamma': 1e-06},\n",
       "  {'C': 1, 'gamma': 1e-05},\n",
       "  {'C': 1, 'gamma': 0.0001},\n",
       "  {'C': 1, 'gamma': 0.001},\n",
       "  {'C': 1, 'gamma': 0.01},\n",
       "  {'C': 10, 'gamma': 1e-06},\n",
       "  {'C': 10, 'gamma': 1e-05},\n",
       "  {'C': 10, 'gamma': 0.0001},\n",
       "  {'C': 10, 'gamma': 0.001},\n",
       "  {'C': 10, 'gamma': 0.01},\n",
       "  {'C': 100, 'gamma': 1e-06},\n",
       "  {'C': 100, 'gamma': 1e-05},\n",
       "  {'C': 100, 'gamma': 0.0001},\n",
       "  {'C': 100, 'gamma': 0.001},\n",
       "  {'C': 100, 'gamma': 0.01},\n",
       "  {'C': 1000, 'gamma': 1e-06},\n",
       "  {'C': 1000, 'gamma': 1e-05},\n",
       "  {'C': 1000, 'gamma': 0.0001},\n",
       "  {'C': 1000, 'gamma': 0.001},\n",
       "  {'C': 1000, 'gamma': 0.01}],\n",
       " 'split0_test_score': array([0.638, 0.638, 0.793, 1.   , 1.   , 0.638, 0.793, 1.   , 1.   ,\n",
       "        1.   , 0.793, 1.   , 1.   , 1.   , 1.   , 1.   , 1.   , 1.   ,\n",
       "        1.   , 1.   ]),\n",
       " 'split1_test_score': array([0.637, 0.637, 0.796, 1.   , 1.   , 0.637, 0.796, 1.   , 1.   ,\n",
       "        1.   , 0.796, 1.   , 1.   , 1.   , 1.   , 1.   , 1.   , 1.   ,\n",
       "        1.   , 1.   ]),\n",
       " 'split2_test_score': array([0.637, 0.637, 0.78 , 1.   , 1.   , 0.637, 0.78 , 1.   , 1.   ,\n",
       "        1.   , 0.78 , 1.   , 1.   , 1.   , 1.   , 1.   , 1.   , 1.   ,\n",
       "        1.   , 1.   ]),\n",
       " 'split3_test_score': array([0.637, 0.637, 0.797, 1.   , 1.   , 0.637, 0.797, 1.   , 1.   ,\n",
       "        1.   , 0.797, 1.   , 1.   , 1.   , 1.   , 1.   , 1.   , 1.   ,\n",
       "        1.   , 1.   ]),\n",
       " 'split4_test_score': array([0.637, 0.637, 0.79 , 1.   , 1.   , 0.637, 0.789, 1.   , 1.   ,\n",
       "        1.   , 0.789, 1.   , 1.   , 1.   , 1.   , 1.   , 1.   , 1.   ,\n",
       "        1.   , 1.   ]),\n",
       " 'mean_test_score': array([0.6372, 0.6372, 0.7912, 1.    , 1.    , 0.6372, 0.791 , 1.    ,\n",
       "        1.    , 1.    , 0.791 , 1.    , 1.    , 1.    , 1.    , 1.    ,\n",
       "        1.    , 1.    , 1.    , 1.    ]),\n",
       " 'std_test_score': array([0.0004    , 0.0004    , 0.00611228, 0.        , 0.        ,\n",
       "        0.0004    , 0.00616441, 0.        , 0.        , 0.        ,\n",
       "        0.00616441, 0.        , 0.        , 0.        , 0.        ,\n",
       "        0.        , 0.        , 0.        , 0.        , 0.        ]),\n",
       " 'rank_test_score': array([18, 18, 15,  1,  1, 18, 16,  1,  1,  1, 16,  1,  1,  1,  1,  1,  1,\n",
       "         1,  1,  1], dtype=int32)}"
      ]
     },
     "execution_count": 88,
     "metadata": {},
     "output_type": "execute_result"
    }
   ],
   "source": [
    "best_model.cv_results_"
   ]
  },
  {
   "cell_type": "code",
   "execution_count": 89,
   "id": "corresponding-delay",
   "metadata": {},
   "outputs": [
    {
     "data": {
      "image/png": "[encoded data removed]",
      "text/plain": [
       "<Figure size 432x288 with 2 Axes>"
      ]
     },
     "metadata": {
      "needs_background": "light"
     },
     "output_type": "display_data"
    }
   ],
   "source": [
    "results = pd.DataFrame( search_results.cv_results_['params'] )\n",
    "\n",
    "results['score'] = 1 - search_results.cv_results_['mean_test_score']\n",
    "\n",
    "results = results.pivot('C','gamma','score')\n",
    "\n",
    "sns.heatmap(results,annot=True, fmt='.3f') \n",
    "plt.title('Training error w.r.t $C$ and $\\gamma$')\n",
    "plt.show()"
   ]
  },
  {
   "cell_type": "code",
   "execution_count": 90,
   "id": "colonial-bronze",
   "metadata": {},
   "outputs": [
    {
     "name": "stdout",
     "output_type": "stream",
     "text": [
      "Test set error for optimum classifier(C=1,gamma=0.001): 0.000\n"
     ]
    }
   ],
   "source": [
    "# extract the best estimator and its params\n",
    "opt_classifier = search_results.best_estimator_\n",
    "opt_C = search_results.best_params_['C']\n",
    "opt_gamma = search_results.best_params_['gamma']\n",
    "\n",
    "# just a copy/paste of test set evaluation from before\n",
    "opt_classifier.fit(X_train,Y_train)\n",
    "opt_test_score = 1 - opt_classifier.score(X_test,Y_test) # again turn accuracy into misclassification error\n",
    "print(f'Test set error for optimum classifier(C={opt_C},gamma={opt_gamma}): {opt_test_score:.3f}') "
   ]
  },
  {
   "cell_type": "code",
   "execution_count": 91,
   "id": "outside-appendix",
   "metadata": {},
   "outputs": [],
   "source": [
    "# Gets another 5000 random samples\n",
    "X_train, X_test, Y_train, Y_test = train_test_split(X_e, Y_e, train_size = 5000, random_state = 3)"
   ]
  },
  {
   "cell_type": "code",
   "execution_count": 92,
   "id": "round-response",
   "metadata": {},
   "outputs": [],
   "source": [
    "classifier = svm.SVC(kernel= 'rbf')\n",
    "parameters = {'C': [1, 10, 100, 1000], 'gamma': [1e-6, 1e-5, 1e-4, 1e-3, 1e-2]}\n",
    "search_results =  GridSearchCV(classifier, parameters)\n",
    "\n",
    "best_model = search_results.fit(X_train,Y_train)"
   ]
  },
  {
   "cell_type": "code",
   "execution_count": 93,
   "id": "decreased-melissa",
   "metadata": {},
   "outputs": [
    {
     "data": {
      "text/plain": [
       "100.0"
      ]
     },
     "execution_count": 93,
     "metadata": {},
     "output_type": "execute_result"
    }
   ],
   "source": [
    "# Predicts the output\n",
    "Y_pred = search_results.predict(X_test)\n",
    "\n",
    "# Displays the accuracy of the model\n",
    "accuracy = (accuracy_score(Y_test, Y_pred))*100\n",
    "accuracy"
   ]
  },
  {
   "cell_type": "code",
   "execution_count": 94,
   "id": "environmental-denver",
   "metadata": {},
   "outputs": [
    {
     "name": "stdout",
     "output_type": "stream",
     "text": [
      "[[3203    0]\n",
      " [   0 1797]]\n",
      "              precision    recall  f1-score   support\n",
      "\n",
      "         0.0       1.00      1.00      1.00      3203\n",
      "         1.0       1.00      1.00      1.00      1797\n",
      "\n",
      "    accuracy                           1.00      5000\n",
      "   macro avg       1.00      1.00      1.00      5000\n",
      "weighted avg       1.00      1.00      1.00      5000\n",
      "\n"
     ]
    }
   ],
   "source": [
    "# Evaluating the algorithm\n",
    "print(confusion_matrix(Y_test, Y_pred))\n",
    "print(classification_report(Y_test, Y_pred))"
   ]
  },
  {
   "cell_type": "code",
   "execution_count": 95,
   "id": "pacific-currency",
   "metadata": {},
   "outputs": [
    {
     "data": {
      "text/plain": [
       "{'mean_fit_time': array([3.24279122, 1.43265061, 1.63799953, 1.40878878, 0.15718279,\n",
       "        2.03745613, 1.69429631, 1.52454581, 0.67375875, 0.07292724,\n",
       "        1.89593272, 1.45083742, 0.74487486, 0.48370099, 0.0693325 ,\n",
       "        1.58240771, 1.91900797, 0.72764101, 0.11335034, 0.06219206]),\n",
       " 'std_fit_time': array([2.37112631, 1.02183727, 1.26209951, 1.14026873, 0.00459797,\n",
       "        1.1939014 , 1.3976386 , 1.3490972 , 1.06017856, 0.0035145 ,\n",
       "        1.06759093, 1.13848132, 0.87755494, 0.731791  , 0.0050479 ,\n",
       "        1.29801115, 2.10568098, 0.96162289, 0.02966856, 0.00248915]),\n",
       " 'mean_score_time': array([0.18501086, 0.65186057, 0.67908111, 0.14230719, 0.02892876,\n",
       "        0.16337709, 0.15626326, 0.1035008 , 0.01649857, 0.01057982,\n",
       "        0.15308475, 0.10679884, 0.01765199, 0.07615166, 0.00854216,\n",
       "        0.10721688, 0.02330508, 0.0286787 , 0.00510602, 0.00840287]),\n",
       " 'std_score_time': array([4.46778487e-02, 9.67564973e-01, 1.01808960e+00, 4.81833771e-02,\n",
       "        2.33766812e-03, 9.23637335e-03, 5.36033247e-03, 1.94318379e-03,\n",
       "        1.79482282e-03, 2.81488247e-03, 6.33420393e-03, 1.62248174e-03,\n",
       "        5.30163678e-04, 1.40305076e-01, 4.42473348e-04, 3.63187392e-03,\n",
       "        1.11654473e-03, 4.45129802e-02, 1.65383281e-04, 3.67819444e-04]),\n",
       " 'param_C': masked_array(data=[1, 1, 1, 1, 1, 10, 10, 10, 10, 10, 100, 100, 100, 100,\n",
       "                    100, 1000, 1000, 1000, 1000, 1000],\n",
       "              mask=[False, False, False, False, False, False, False, False,\n",
       "                    False, False, False, False, False, False, False, False,\n",
       "                    False, False, False, False],\n",
       "        fill_value='?',\n",
       "             dtype=object),\n",
       " 'param_gamma': masked_array(data=[1e-06, 1e-05, 0.0001, 0.001, 0.01, 1e-06, 1e-05,\n",
       "                    0.0001, 0.001, 0.01, 1e-06, 1e-05, 0.0001, 0.001, 0.01,\n",
       "                    1e-06, 1e-05, 0.0001, 0.001, 0.01],\n",
       "              mask=[False, False, False, False, False, False, False, False,\n",
       "                    False, False, False, False, False, False, False, False,\n",
       "                    False, False, False, False],\n",
       "        fill_value='?',\n",
       "             dtype=object),\n",
       " 'params': [{'C': 1, 'gamma': 1e-06},\n",
       "  {'C': 1, 'gamma': 1e-05},\n",
       "  {'C': 1, 'gamma': 0.0001},\n",
       "  {'C': 1, 'gamma': 0.001},\n",
       "  {'C': 1, 'gamma': 0.01},\n",
       "  {'C': 10, 'gamma': 1e-06},\n",
       "  {'C': 10, 'gamma': 1e-05},\n",
       "  {'C': 10, 'gamma': 0.0001},\n",
       "  {'C': 10, 'gamma': 0.001},\n",
       "  {'C': 10, 'gamma': 0.01},\n",
       "  {'C': 100, 'gamma': 1e-06},\n",
       "  {'C': 100, 'gamma': 1e-05},\n",
       "  {'C': 100, 'gamma': 0.0001},\n",
       "  {'C': 100, 'gamma': 0.001},\n",
       "  {'C': 100, 'gamma': 0.01},\n",
       "  {'C': 1000, 'gamma': 1e-06},\n",
       "  {'C': 1000, 'gamma': 1e-05},\n",
       "  {'C': 1000, 'gamma': 0.0001},\n",
       "  {'C': 1000, 'gamma': 0.001},\n",
       "  {'C': 1000, 'gamma': 0.01}],\n",
       " 'split0_test_score': array([0.636, 0.636, 0.796, 1.   , 1.   , 0.636, 0.797, 1.   , 1.   ,\n",
       "        1.   , 0.797, 1.   , 1.   , 1.   , 1.   , 1.   , 1.   , 1.   ,\n",
       "        1.   , 1.   ]),\n",
       " 'split1_test_score': array([0.636, 0.636, 0.772, 1.   , 1.   , 0.636, 0.772, 1.   , 1.   ,\n",
       "        1.   , 0.772, 1.   , 1.   , 1.   , 1.   , 1.   , 1.   , 1.   ,\n",
       "        1.   , 1.   ]),\n",
       " 'split2_test_score': array([0.635, 0.635, 0.778, 1.   , 1.   , 0.635, 0.78 , 1.   , 1.   ,\n",
       "        1.   , 0.779, 1.   , 1.   , 1.   , 1.   , 1.   , 1.   , 1.   ,\n",
       "        1.   , 1.   ]),\n",
       " 'split3_test_score': array([0.635, 0.635, 0.783, 1.   , 1.   , 0.635, 0.784, 1.   , 1.   ,\n",
       "        1.   , 0.784, 1.   , 1.   , 1.   , 1.   , 1.   , 1.   , 1.   ,\n",
       "        1.   , 1.   ]),\n",
       " 'split4_test_score': array([0.635, 0.635, 0.787, 1.   , 1.   , 0.635, 0.787, 1.   , 1.   ,\n",
       "        1.   , 0.787, 1.   , 1.   , 1.   , 1.   , 1.   , 1.   , 1.   ,\n",
       "        1.   , 1.   ]),\n",
       " 'mean_test_score': array([0.6354, 0.6354, 0.7832, 1.    , 1.    , 0.6354, 0.784 , 1.    ,\n",
       "        1.    , 1.    , 0.7838, 1.    , 1.    , 1.    , 1.    , 1.    ,\n",
       "        1.    , 1.    , 1.    , 1.    ]),\n",
       " 'std_test_score': array([0.0004899 , 0.0004899 , 0.00813388, 0.        , 0.        ,\n",
       "        0.0004899 , 0.00822192, 0.        , 0.        , 0.        ,\n",
       "        0.00832827, 0.        , 0.        , 0.        , 0.        ,\n",
       "        0.        , 0.        , 0.        , 0.        , 0.        ]),\n",
       " 'rank_test_score': array([18, 18, 17,  1,  1, 18, 15,  1,  1,  1, 16,  1,  1,  1,  1,  1,  1,\n",
       "         1,  1,  1], dtype=int32)}"
      ]
     },
     "execution_count": 95,
     "metadata": {},
     "output_type": "execute_result"
    }
   ],
   "source": [
    "best_model.cv_results_"
   ]
  },
  {
   "cell_type": "code",
   "execution_count": 96,
   "id": "initial-clearing",
   "metadata": {},
   "outputs": [
    {
     "data": {
      "image/png": "[encoded data removed]",
      "text/plain": [
       "<Figure size 432x288 with 2 Axes>"
      ]
     },
     "metadata": {
      "needs_background": "light"
     },
     "output_type": "display_data"
    }
   ],
   "source": [
    "results = pd.DataFrame( search_results.cv_results_['params'] )\n",
    "\n",
    "results['score'] = 1 - search_results.cv_results_['mean_test_score']\n",
    "\n",
    "results = results.pivot('C','gamma','score')\n",
    "\n",
    "sns.heatmap(results,annot=True, fmt='.3f') \n",
    "plt.title('Training error w.r.t $C$ and $\\gamma$')\n",
    "plt.show()"
   ]
  },
  {
   "cell_type": "code",
   "execution_count": 97,
   "id": "athletic-rogers",
   "metadata": {},
   "outputs": [
    {
     "name": "stdout",
     "output_type": "stream",
     "text": [
      "Test set error for optimum classifier(C=1,gamma=0.001): 0.000\n"
     ]
    }
   ],
   "source": [
    "# extract the best estimator and its params\n",
    "opt_classifier = search_results.best_estimator_\n",
    "opt_C = search_results.best_params_['C']\n",
    "opt_gamma = search_results.best_params_['gamma']\n",
    "\n",
    "# just a copy/paste of test set evaluation from before\n",
    "opt_classifier.fit(X_train,Y_train)\n",
    "opt_test_score = 1 - opt_classifier.score(X_test,Y_test) # again turn accuracy into misclassification error\n",
    "print(f'Test set error for optimum classifier(C={opt_C},gamma={opt_gamma}): {opt_test_score:.3f}') "
   ]
  },
  {
   "cell_type": "code",
   "execution_count": 98,
   "id": "quality-literature",
   "metadata": {},
   "outputs": [],
   "source": [
    "# Gets another 5000 random samples\n",
    "X_train, X_test, Y_train, Y_test = train_test_split(X_e, Y_e, train_size = 5000, random_state = 4)"
   ]
  },
  {
   "cell_type": "code",
   "execution_count": 99,
   "id": "maritime-petite",
   "metadata": {},
   "outputs": [],
   "source": [
    "classifier = svm.SVC(kernel= 'rbf')\n",
    "parameters = {'C': [1, 10, 100, 1000], 'gamma': [1e-6, 1e-5, 1e-4, 1e-3, 1e-2]}\n",
    "search_results =  GridSearchCV(classifier, parameters)\n",
    "\n",
    "best_model = search_results.fit(X_train,Y_train)"
   ]
  },
  {
   "cell_type": "code",
   "execution_count": 100,
   "id": "responsible-strand",
   "metadata": {},
   "outputs": [
    {
     "data": {
      "text/plain": [
       "100.0"
      ]
     },
     "execution_count": 100,
     "metadata": {},
     "output_type": "execute_result"
    }
   ],
   "source": [
    "# Predicts the output\n",
    "Y_pred = search_results.predict(X_test)\n",
    "\n",
    "# Displays the accuracy of the model\n",
    "accuracy = (accuracy_score(Y_test, Y_pred))*100\n",
    "accuracy"
   ]
  },
  {
   "cell_type": "code",
   "execution_count": 101,
   "id": "herbal-jonathan",
   "metadata": {},
   "outputs": [
    {
     "name": "stdout",
     "output_type": "stream",
     "text": [
      "[[3200    0]\n",
      " [   0 1800]]\n",
      "              precision    recall  f1-score   support\n",
      "\n",
      "         0.0       1.00      1.00      1.00      3200\n",
      "         1.0       1.00      1.00      1.00      1800\n",
      "\n",
      "    accuracy                           1.00      5000\n",
      "   macro avg       1.00      1.00      1.00      5000\n",
      "weighted avg       1.00      1.00      1.00      5000\n",
      "\n"
     ]
    }
   ],
   "source": [
    "# Evaluating the algorithm\n",
    "print(confusion_matrix(Y_test, Y_pred))\n",
    "print(classification_report(Y_test, Y_pred))"
   ]
  },
  {
   "cell_type": "code",
   "execution_count": 102,
   "id": "preliminary-chair",
   "metadata": {},
   "outputs": [
    {
     "data": {
      "text/plain": [
       "{'mean_fit_time': array([2.39165645, 1.7747416 , 1.7178328 , 1.60744328, 0.77939453,\n",
       "        1.62332435, 1.4891211 , 1.52272577, 0.64957013, 0.07085714,\n",
       "        1.69062099, 1.38929338, 0.83626199, 0.08973689, 0.06494069,\n",
       "        1.49547076, 0.84382424, 0.68214054, 0.10628386, 0.07189565]),\n",
       " 'std_fit_time': array([1.55036409, 1.35123137, 1.27835445, 1.41100927, 1.22674719,\n",
       "        1.19852001, 1.06837611, 1.27299879, 0.99356366, 0.00228458,\n",
       "        1.15866454, 1.13004384, 1.09006077, 0.00873365, 0.0027461 ,\n",
       "        1.20342572, 0.78954011, 0.89732274, 0.03068716, 0.00766193]),\n",
       " 'mean_score_time': array([0.17255964, 0.17936001, 0.80201607, 0.1078299 , 0.03024807,\n",
       "        0.76769991, 0.15422497, 0.11013618, 0.0199573 , 0.00909834,\n",
       "        0.66489725, 0.21327758, 0.0175683 , 0.00560117, 0.00834274,\n",
       "        0.10845962, 0.4789588 , 0.00624967, 0.00609455, 0.00903392]),\n",
       " 'std_score_time': array([2.68427497e-02, 3.06404789e-02, 1.28941991e+00, 4.16698452e-03,\n",
       "        4.12838206e-03, 1.20911301e+00, 3.71967468e-03, 9.26943015e-03,\n",
       "        4.88942592e-03, 2.23991249e-04, 7.11112208e-01, 2.09739779e-01,\n",
       "        5.33107257e-04, 4.94691837e-05, 3.12874985e-04, 1.06058286e-02,\n",
       "        9.09785828e-01, 4.00228490e-04, 6.92476141e-04, 4.74470776e-04]),\n",
       " 'param_C': masked_array(data=[1, 1, 1, 1, 1, 10, 10, 10, 10, 10, 100, 100, 100, 100,\n",
       "                    100, 1000, 1000, 1000, 1000, 1000],\n",
       "              mask=[False, False, False, False, False, False, False, False,\n",
       "                    False, False, False, False, False, False, False, False,\n",
       "                    False, False, False, False],\n",
       "        fill_value='?',\n",
       "             dtype=object),\n",
       " 'param_gamma': masked_array(data=[1e-06, 1e-05, 0.0001, 0.001, 0.01, 1e-06, 1e-05,\n",
       "                    0.0001, 0.001, 0.01, 1e-06, 1e-05, 0.0001, 0.001, 0.01,\n",
       "                    1e-06, 1e-05, 0.0001, 0.001, 0.01],\n",
       "              mask=[False, False, False, False, False, False, False, False,\n",
       "                    False, False, False, False, False, False, False, False,\n",
       "                    False, False, False, False],\n",
       "        fill_value='?',\n",
       "             dtype=object),\n",
       " 'params': [{'C': 1, 'gamma': 1e-06},\n",
       "  {'C': 1, 'gamma': 1e-05},\n",
       "  {'C': 1, 'gamma': 0.0001},\n",
       "  {'C': 1, 'gamma': 0.001},\n",
       "  {'C': 1, 'gamma': 0.01},\n",
       "  {'C': 10, 'gamma': 1e-06},\n",
       "  {'C': 10, 'gamma': 1e-05},\n",
       "  {'C': 10, 'gamma': 0.0001},\n",
       "  {'C': 10, 'gamma': 0.001},\n",
       "  {'C': 10, 'gamma': 0.01},\n",
       "  {'C': 100, 'gamma': 1e-06},\n",
       "  {'C': 100, 'gamma': 1e-05},\n",
       "  {'C': 100, 'gamma': 0.0001},\n",
       "  {'C': 100, 'gamma': 0.001},\n",
       "  {'C': 100, 'gamma': 0.01},\n",
       "  {'C': 1000, 'gamma': 1e-06},\n",
       "  {'C': 1000, 'gamma': 1e-05},\n",
       "  {'C': 1000, 'gamma': 0.0001},\n",
       "  {'C': 1000, 'gamma': 0.001},\n",
       "  {'C': 1000, 'gamma': 0.01}],\n",
       " 'split0_test_score': array([0.636, 0.636, 0.781, 1.   , 1.   , 0.636, 0.78 , 1.   , 1.   ,\n",
       "        1.   , 0.78 , 1.   , 1.   , 1.   , 1.   , 1.   , 1.   , 1.   ,\n",
       "        1.   , 1.   ]),\n",
       " 'split1_test_score': array([0.636, 0.636, 0.8  , 1.   , 1.   , 0.636, 0.8  , 1.   , 1.   ,\n",
       "        1.   , 0.8  , 1.   , 1.   , 1.   , 1.   , 1.   , 1.   , 1.   ,\n",
       "        1.   , 1.   ]),\n",
       " 'split2_test_score': array([0.636, 0.636, 0.794, 1.   , 1.   , 0.636, 0.795, 1.   , 1.   ,\n",
       "        1.   , 0.796, 1.   , 1.   , 1.   , 1.   , 1.   , 1.   , 1.   ,\n",
       "        1.   , 1.   ]),\n",
       " 'split3_test_score': array([0.636, 0.636, 0.785, 1.   , 1.   , 0.636, 0.785, 1.   , 1.   ,\n",
       "        1.   , 0.785, 1.   , 1.   , 1.   , 1.   , 1.   , 1.   , 1.   ,\n",
       "        1.   , 1.   ]),\n",
       " 'split4_test_score': array([0.636, 0.636, 0.789, 1.   , 1.   , 0.636, 0.788, 1.   , 1.   ,\n",
       "        1.   , 0.788, 1.   , 1.   , 1.   , 1.   , 1.   , 1.   , 1.   ,\n",
       "        1.   , 1.   ]),\n",
       " 'mean_test_score': array([0.636 , 0.636 , 0.7898, 1.    , 1.    , 0.636 , 0.7896, 1.    ,\n",
       "        1.    , 1.    , 0.7898, 1.    , 1.    , 1.    , 1.    , 1.    ,\n",
       "        1.    , 1.    , 1.    , 1.    ]),\n",
       " 'std_test_score': array([0.        , 0.        , 0.00667533, 0.        , 0.        ,\n",
       "        0.        , 0.00711618, 0.        , 0.        , 0.        ,\n",
       "        0.00727736, 0.        , 0.        , 0.        , 0.        ,\n",
       "        0.        , 0.        , 0.        , 0.        , 0.        ]),\n",
       " 'rank_test_score': array([18, 18, 16,  1,  1, 18, 17,  1,  1,  1, 15,  1,  1,  1,  1,  1,  1,\n",
       "         1,  1,  1], dtype=int32)}"
      ]
     },
     "execution_count": 102,
     "metadata": {},
     "output_type": "execute_result"
    }
   ],
   "source": [
    "best_model.cv_results_"
   ]
  },
  {
   "cell_type": "code",
   "execution_count": 103,
   "id": "prime-arctic",
   "metadata": {},
   "outputs": [
    {
     "data": {
      "image/png": "[encoded data removed]",
      "text/plain": [
       "<Figure size 432x288 with 2 Axes>"
      ]
     },
     "metadata": {
      "needs_background": "light"
     },
     "output_type": "display_data"
    }
   ],
   "source": [
    "results = pd.DataFrame( search_results.cv_results_['params'] )\n",
    "\n",
    "results['score'] = 1 - search_results.cv_results_['mean_test_score']\n",
    "\n",
    "results = results.pivot('C','gamma','score')\n",
    "\n",
    "sns.heatmap(results,annot=True, fmt='.3f') \n",
    "plt.title('Training error w.r.t $C$ and $\\gamma$')\n",
    "plt.show()"
   ]
  },
  {
   "cell_type": "code",
   "execution_count": 104,
   "id": "first-agreement",
   "metadata": {},
   "outputs": [
    {
     "name": "stdout",
     "output_type": "stream",
     "text": [
      "Test set error for optimum classifier(C=1,gamma=0.001): 0.000\n"
     ]
    }
   ],
   "source": [
    "# extract the best estimator and its params\n",
    "opt_classifier = search_results.best_estimator_\n",
    "opt_C = search_results.best_params_['C']\n",
    "opt_gamma = search_results.best_params_['gamma']\n",
    "\n",
    "# just a copy/paste of test set evaluation from before\n",
    "opt_classifier.fit(X_train,Y_train)\n",
    "opt_test_score = 1 - opt_classifier.score(X_test,Y_test) # again turn accuracy into misclassification error\n",
    "print(f'Test set error for optimum classifier(C={opt_C},gamma={opt_gamma}): {opt_test_score:.3f}') "
   ]
  },
  {
   "cell_type": "code",
   "execution_count": 105,
   "id": "informed-secret",
   "metadata": {},
   "outputs": [],
   "source": [
    "# Gets another 5000 random samples\n",
    "X_train, X_test, Y_train, Y_test = train_test_split(X_e, Y_e, train_size = 5000, random_state = 5)"
   ]
  },
  {
   "cell_type": "code",
   "execution_count": 106,
   "id": "mature-scheduling",
   "metadata": {},
   "outputs": [],
   "source": [
    "classifier = svm.SVC(kernel= 'rbf')\n",
    "parameters = {'C': [1, 10, 100, 1000], 'gamma': [1e-6, 1e-5, 1e-4, 1e-3, 1e-2]}\n",
    "search_results =  GridSearchCV(classifier, parameters)\n",
    "\n",
    "best_model = search_results.fit(X_train,Y_train)"
   ]
  },
  {
   "cell_type": "code",
   "execution_count": 107,
   "id": "wireless-speech",
   "metadata": {},
   "outputs": [
    {
     "data": {
      "text/plain": [
       "100.0"
      ]
     },
     "execution_count": 107,
     "metadata": {},
     "output_type": "execute_result"
    }
   ],
   "source": [
    "# Predicts the output\n",
    "Y_pred = search_results.predict(X_test)\n",
    "\n",
    "# Displays the accuracy of the model\n",
    "accuracy = (accuracy_score(Y_test, Y_pred))*100\n",
    "accuracy"
   ]
  },
  {
   "cell_type": "code",
   "execution_count": 108,
   "id": "suspected-cathedral",
   "metadata": {},
   "outputs": [
    {
     "name": "stdout",
     "output_type": "stream",
     "text": [
      "[[3207    0]\n",
      " [   0 1793]]\n",
      "              precision    recall  f1-score   support\n",
      "\n",
      "         0.0       1.00      1.00      1.00      3207\n",
      "         1.0       1.00      1.00      1.00      1793\n",
      "\n",
      "    accuracy                           1.00      5000\n",
      "   macro avg       1.00      1.00      1.00      5000\n",
      "weighted avg       1.00      1.00      1.00      5000\n",
      "\n"
     ]
    }
   ],
   "source": [
    "# Evaluating the algorithm\n",
    "print(confusion_matrix(Y_test, Y_pred))\n",
    "print(classification_report(Y_test, Y_pred))"
   ]
  },
  {
   "cell_type": "code",
   "execution_count": 109,
   "id": "applied-gregory",
   "metadata": {},
   "outputs": [
    {
     "data": {
      "text/plain": [
       "{'mean_fit_time': array([1.63573303, 1.07252355, 1.1344439 , 1.13400607, 0.18851986,\n",
       "        0.62921343, 1.53836546, 1.35001993, 0.15026879, 0.06597538,\n",
       "        1.69975214, 1.24109201, 0.72821307, 0.49687452, 0.06541777,\n",
       "        1.69766264, 0.94451842, 0.74354405, 0.58987031, 0.06925559]),\n",
       " 'std_fit_time': array([1.25866115, 0.9098482 , 1.04945401, 1.33006431, 0.04379863,\n",
       "        0.01394646, 1.13367268, 1.0627755 , 0.01597224, 0.00255294,\n",
       "        1.34762237, 0.93280685, 0.77965971, 0.8259976 , 0.00359189,\n",
       "        1.33813665, 1.05366062, 0.97572467, 1.00151761, 0.00464472]),\n",
       " 'mean_score_time': array([0.17461324, 1.11850595, 1.07359538, 0.10801988, 0.47828383,\n",
       "        1.68024535, 0.1576479 , 0.11050711, 0.43432975, 0.00876513,\n",
       "        0.17377172, 0.12775888, 0.01897664, 0.00505552, 0.00859394,\n",
       "        0.12103877, 0.02390194, 0.00629311, 0.00532022, 0.00836148]),\n",
       " 'std_score_time': array([2.41933662e-02, 1.19129694e+00, 1.13559551e+00, 3.87745925e-03,\n",
       "        8.98396989e-01, 1.24273668e+00, 5.89698680e-03, 3.50436530e-03,\n",
       "        8.37622200e-01, 2.95591758e-04, 2.91415212e-02, 5.07628670e-02,\n",
       "        1.33902631e-03, 9.72230624e-05, 1.99199920e-04, 3.06427885e-02,\n",
       "        3.91519046e-03, 2.67718200e-04, 2.40071272e-04, 2.14048350e-04]),\n",
       " 'param_C': masked_array(data=[1, 1, 1, 1, 1, 10, 10, 10, 10, 10, 100, 100, 100, 100,\n",
       "                    100, 1000, 1000, 1000, 1000, 1000],\n",
       "              mask=[False, False, False, False, False, False, False, False,\n",
       "                    False, False, False, False, False, False, False, False,\n",
       "                    False, False, False, False],\n",
       "        fill_value='?',\n",
       "             dtype=object),\n",
       " 'param_gamma': masked_array(data=[1e-06, 1e-05, 0.0001, 0.001, 0.01, 1e-06, 1e-05,\n",
       "                    0.0001, 0.001, 0.01, 1e-06, 1e-05, 0.0001, 0.001, 0.01,\n",
       "                    1e-06, 1e-05, 0.0001, 0.001, 0.01],\n",
       "              mask=[False, False, False, False, False, False, False, False,\n",
       "                    False, False, False, False, False, False, False, False,\n",
       "                    False, False, False, False],\n",
       "        fill_value='?',\n",
       "             dtype=object),\n",
       " 'params': [{'C': 1, 'gamma': 1e-06},\n",
       "  {'C': 1, 'gamma': 1e-05},\n",
       "  {'C': 1, 'gamma': 0.0001},\n",
       "  {'C': 1, 'gamma': 0.001},\n",
       "  {'C': 1, 'gamma': 0.01},\n",
       "  {'C': 10, 'gamma': 1e-06},\n",
       "  {'C': 10, 'gamma': 1e-05},\n",
       "  {'C': 10, 'gamma': 0.0001},\n",
       "  {'C': 10, 'gamma': 0.001},\n",
       "  {'C': 10, 'gamma': 0.01},\n",
       "  {'C': 100, 'gamma': 1e-06},\n",
       "  {'C': 100, 'gamma': 1e-05},\n",
       "  {'C': 100, 'gamma': 0.0001},\n",
       "  {'C': 100, 'gamma': 0.001},\n",
       "  {'C': 100, 'gamma': 0.01},\n",
       "  {'C': 1000, 'gamma': 1e-06},\n",
       "  {'C': 1000, 'gamma': 1e-05},\n",
       "  {'C': 1000, 'gamma': 0.0001},\n",
       "  {'C': 1000, 'gamma': 0.001},\n",
       "  {'C': 1000, 'gamma': 0.01}],\n",
       " 'split0_test_score': array([0.635, 0.635, 0.803, 1.   , 1.   , 0.635, 0.803, 1.   , 1.   ,\n",
       "        1.   , 0.803, 1.   , 1.   , 1.   , 1.   , 1.   , 1.   , 1.   ,\n",
       "        1.   , 1.   ]),\n",
       " 'split1_test_score': array([0.635, 0.635, 0.79 , 1.   , 1.   , 0.635, 0.788, 1.   , 1.   ,\n",
       "        1.   , 0.788, 1.   , 1.   , 1.   , 1.   , 1.   , 1.   , 1.   ,\n",
       "        1.   , 1.   ]),\n",
       " 'split2_test_score': array([0.635, 0.635, 0.788, 1.   , 1.   , 0.635, 0.787, 1.   , 1.   ,\n",
       "        1.   , 0.787, 1.   , 1.   , 1.   , 1.   , 1.   , 1.   , 1.   ,\n",
       "        1.   , 1.   ]),\n",
       " 'split3_test_score': array([0.634, 0.634, 0.8  , 1.   , 1.   , 0.634, 0.802, 1.   , 1.   ,\n",
       "        1.   , 0.802, 1.   , 1.   , 1.   , 1.   , 1.   , 1.   , 1.   ,\n",
       "        1.   , 1.   ]),\n",
       " 'split4_test_score': array([0.634, 0.634, 0.799, 1.   , 1.   , 0.634, 0.799, 1.   , 1.   ,\n",
       "        1.   , 0.799, 1.   , 1.   , 1.   , 1.   , 1.   , 1.   , 1.   ,\n",
       "        1.   , 1.   ]),\n",
       " 'mean_test_score': array([0.6346, 0.6346, 0.796 , 1.    , 1.    , 0.6346, 0.7958, 1.    ,\n",
       "        1.    , 1.    , 0.7958, 1.    , 1.    , 1.    , 1.    , 1.    ,\n",
       "        1.    , 1.    , 1.    , 1.    ]),\n",
       " 'std_test_score': array([0.0004899 , 0.0004899 , 0.00589915, 0.        , 0.        ,\n",
       "        0.0004899 , 0.00691086, 0.        , 0.        , 0.        ,\n",
       "        0.00691086, 0.        , 0.        , 0.        , 0.        ,\n",
       "        0.        , 0.        , 0.        , 0.        , 0.        ]),\n",
       " 'rank_test_score': array([18, 18, 15,  1,  1, 18, 16,  1,  1,  1, 16,  1,  1,  1,  1,  1,  1,\n",
       "         1,  1,  1], dtype=int32)}"
      ]
     },
     "execution_count": 109,
     "metadata": {},
     "output_type": "execute_result"
    }
   ],
   "source": [
    "best_model.cv_results_"
   ]
  },
  {
   "cell_type": "code",
   "execution_count": 110,
   "id": "coated-aspect",
   "metadata": {},
   "outputs": [
    {
     "data": {
      "image/png": "[encoded data removed]",
      "text/plain": [
       "<Figure size 432x288 with 2 Axes>"
      ]
     },
     "metadata": {
      "needs_background": "light"
     },
     "output_type": "display_data"
    }
   ],
   "source": [
    "results = pd.DataFrame( search_results.cv_results_['params'] )\n",
    "\n",
    "results['score'] = 1 - search_results.cv_results_['mean_test_score']\n",
    "\n",
    "results = results.pivot('C','gamma','score')\n",
    "\n",
    "sns.heatmap(results,annot=True, fmt='.3f') \n",
    "plt.title('Training error w.r.t $C$ and $\\gamma$')\n",
    "plt.show()"
   ]
  },
  {
   "cell_type": "code",
   "execution_count": 111,
   "id": "bearing-patent",
   "metadata": {},
   "outputs": [
    {
     "name": "stdout",
     "output_type": "stream",
     "text": [
      "Test set error for optimum classifier(C=1,gamma=0.001): 0.000\n"
     ]
    }
   ],
   "source": [
    "# extract the best estimator and its params\n",
    "opt_classifier = search_results.best_estimator_\n",
    "opt_C = search_results.best_params_['C']\n",
    "opt_gamma = search_results.best_params_['gamma']\n",
    "\n",
    "# just a copy/paste of test set evaluation from before\n",
    "opt_classifier.fit(X_train,Y_train)\n",
    "opt_test_score = 1 - opt_classifier.score(X_test,Y_test) # again turn accuracy into misclassification error\n",
    "print(f'Test set error for optimum classifier(C={opt_C},gamma={opt_gamma}): {opt_test_score:.3f}') "
   ]
  },
  {
   "cell_type": "markdown",
   "id": "medium-baseline",
   "metadata": {},
   "source": [
    "## Chess Dataset"
   ]
  },
  {
   "cell_type": "code",
   "execution_count": 112,
   "id": "wrapped-composition",
   "metadata": {},
   "outputs": [
    {
     "data": {
      "text/html": [
       "<div>\n",
       "<style scoped>\n",
       "    .dataframe tbody tr th:only-of-type {\n",
       "        vertical-align: middle;\n",
       "    }\n",
       "\n",
       "    .dataframe tbody tr th {\n",
       "        vertical-align: top;\n",
       "    }\n",
       "\n",
       "    .dataframe thead th {\n",
       "        text-align: right;\n",
       "    }\n",
       "</style>\n",
       "<table border=\"1\" class=\"dataframe\">\n",
       "  <thead>\n",
       "    <tr style=\"text-align: right;\">\n",
       "      <th></th>\n",
       "      <th>1</th>\n",
       "      <th>3</th>\n",
       "      <th>2</th>\n",
       "      <th>draw</th>\n",
       "      <th>eight</th>\n",
       "      <th>eleven</th>\n",
       "      <th>fifteen</th>\n",
       "      <th>five</th>\n",
       "      <th>four</th>\n",
       "      <th>fourteen</th>\n",
       "      <th>...</th>\n",
       "      <th>one</th>\n",
       "      <th>seven</th>\n",
       "      <th>six</th>\n",
       "      <th>sixteen</th>\n",
       "      <th>ten</th>\n",
       "      <th>thirteen</th>\n",
       "      <th>three</th>\n",
       "      <th>twelve</th>\n",
       "      <th>two</th>\n",
       "      <th>zero</th>\n",
       "    </tr>\n",
       "  </thead>\n",
       "  <tbody>\n",
       "    <tr>\n",
       "      <th>0</th>\n",
       "      <td>1</td>\n",
       "      <td>1</td>\n",
       "      <td>2</td>\n",
       "      <td>1.0</td>\n",
       "      <td>0.0</td>\n",
       "      <td>0.0</td>\n",
       "      <td>0.0</td>\n",
       "      <td>0.0</td>\n",
       "      <td>0.0</td>\n",
       "      <td>0.0</td>\n",
       "      <td>...</td>\n",
       "      <td>0.0</td>\n",
       "      <td>0.0</td>\n",
       "      <td>0.0</td>\n",
       "      <td>0.0</td>\n",
       "      <td>0.0</td>\n",
       "      <td>0.0</td>\n",
       "      <td>0.0</td>\n",
       "      <td>0.0</td>\n",
       "      <td>0.0</td>\n",
       "      <td>0.0</td>\n",
       "    </tr>\n",
       "    <tr>\n",
       "      <th>1</th>\n",
       "      <td>1</td>\n",
       "      <td>1</td>\n",
       "      <td>1</td>\n",
       "      <td>1.0</td>\n",
       "      <td>0.0</td>\n",
       "      <td>0.0</td>\n",
       "      <td>0.0</td>\n",
       "      <td>0.0</td>\n",
       "      <td>0.0</td>\n",
       "      <td>0.0</td>\n",
       "      <td>...</td>\n",
       "      <td>0.0</td>\n",
       "      <td>0.0</td>\n",
       "      <td>0.0</td>\n",
       "      <td>0.0</td>\n",
       "      <td>0.0</td>\n",
       "      <td>0.0</td>\n",
       "      <td>0.0</td>\n",
       "      <td>0.0</td>\n",
       "      <td>0.0</td>\n",
       "      <td>0.0</td>\n",
       "    </tr>\n",
       "    <tr>\n",
       "      <th>2</th>\n",
       "      <td>1</td>\n",
       "      <td>1</td>\n",
       "      <td>2</td>\n",
       "      <td>1.0</td>\n",
       "      <td>0.0</td>\n",
       "      <td>0.0</td>\n",
       "      <td>0.0</td>\n",
       "      <td>0.0</td>\n",
       "      <td>0.0</td>\n",
       "      <td>0.0</td>\n",
       "      <td>...</td>\n",
       "      <td>0.0</td>\n",
       "      <td>0.0</td>\n",
       "      <td>0.0</td>\n",
       "      <td>0.0</td>\n",
       "      <td>0.0</td>\n",
       "      <td>0.0</td>\n",
       "      <td>0.0</td>\n",
       "      <td>0.0</td>\n",
       "      <td>0.0</td>\n",
       "      <td>0.0</td>\n",
       "    </tr>\n",
       "    <tr>\n",
       "      <th>3</th>\n",
       "      <td>1</td>\n",
       "      <td>2</td>\n",
       "      <td>1</td>\n",
       "      <td>1.0</td>\n",
       "      <td>0.0</td>\n",
       "      <td>0.0</td>\n",
       "      <td>0.0</td>\n",
       "      <td>0.0</td>\n",
       "      <td>0.0</td>\n",
       "      <td>0.0</td>\n",
       "      <td>...</td>\n",
       "      <td>0.0</td>\n",
       "      <td>0.0</td>\n",
       "      <td>0.0</td>\n",
       "      <td>0.0</td>\n",
       "      <td>0.0</td>\n",
       "      <td>0.0</td>\n",
       "      <td>0.0</td>\n",
       "      <td>0.0</td>\n",
       "      <td>0.0</td>\n",
       "      <td>0.0</td>\n",
       "    </tr>\n",
       "    <tr>\n",
       "      <th>4</th>\n",
       "      <td>1</td>\n",
       "      <td>2</td>\n",
       "      <td>3</td>\n",
       "      <td>1.0</td>\n",
       "      <td>0.0</td>\n",
       "      <td>0.0</td>\n",
       "      <td>0.0</td>\n",
       "      <td>0.0</td>\n",
       "      <td>0.0</td>\n",
       "      <td>0.0</td>\n",
       "      <td>...</td>\n",
       "      <td>0.0</td>\n",
       "      <td>0.0</td>\n",
       "      <td>0.0</td>\n",
       "      <td>0.0</td>\n",
       "      <td>0.0</td>\n",
       "      <td>0.0</td>\n",
       "      <td>0.0</td>\n",
       "      <td>0.0</td>\n",
       "      <td>0.0</td>\n",
       "      <td>0.0</td>\n",
       "    </tr>\n",
       "    <tr>\n",
       "      <th>...</th>\n",
       "      <td>...</td>\n",
       "      <td>...</td>\n",
       "      <td>...</td>\n",
       "      <td>...</td>\n",
       "      <td>...</td>\n",
       "      <td>...</td>\n",
       "      <td>...</td>\n",
       "      <td>...</td>\n",
       "      <td>...</td>\n",
       "      <td>...</td>\n",
       "      <td>...</td>\n",
       "      <td>...</td>\n",
       "      <td>...</td>\n",
       "      <td>...</td>\n",
       "      <td>...</td>\n",
       "      <td>...</td>\n",
       "      <td>...</td>\n",
       "      <td>...</td>\n",
       "      <td>...</td>\n",
       "      <td>...</td>\n",
       "      <td>...</td>\n",
       "    </tr>\n",
       "    <tr>\n",
       "      <th>28050</th>\n",
       "      <td>1</td>\n",
       "      <td>7</td>\n",
       "      <td>5</td>\n",
       "      <td>0.0</td>\n",
       "      <td>0.0</td>\n",
       "      <td>0.0</td>\n",
       "      <td>0.0</td>\n",
       "      <td>0.0</td>\n",
       "      <td>0.0</td>\n",
       "      <td>0.0</td>\n",
       "      <td>...</td>\n",
       "      <td>0.0</td>\n",
       "      <td>0.0</td>\n",
       "      <td>0.0</td>\n",
       "      <td>1.0</td>\n",
       "      <td>0.0</td>\n",
       "      <td>0.0</td>\n",
       "      <td>0.0</td>\n",
       "      <td>0.0</td>\n",
       "      <td>0.0</td>\n",
       "      <td>0.0</td>\n",
       "    </tr>\n",
       "    <tr>\n",
       "      <th>28051</th>\n",
       "      <td>1</td>\n",
       "      <td>7</td>\n",
       "      <td>6</td>\n",
       "      <td>0.0</td>\n",
       "      <td>0.0</td>\n",
       "      <td>0.0</td>\n",
       "      <td>0.0</td>\n",
       "      <td>0.0</td>\n",
       "      <td>0.0</td>\n",
       "      <td>0.0</td>\n",
       "      <td>...</td>\n",
       "      <td>0.0</td>\n",
       "      <td>0.0</td>\n",
       "      <td>0.0</td>\n",
       "      <td>1.0</td>\n",
       "      <td>0.0</td>\n",
       "      <td>0.0</td>\n",
       "      <td>0.0</td>\n",
       "      <td>0.0</td>\n",
       "      <td>0.0</td>\n",
       "      <td>0.0</td>\n",
       "    </tr>\n",
       "    <tr>\n",
       "      <th>28052</th>\n",
       "      <td>1</td>\n",
       "      <td>7</td>\n",
       "      <td>7</td>\n",
       "      <td>0.0</td>\n",
       "      <td>0.0</td>\n",
       "      <td>0.0</td>\n",
       "      <td>0.0</td>\n",
       "      <td>0.0</td>\n",
       "      <td>0.0</td>\n",
       "      <td>0.0</td>\n",
       "      <td>...</td>\n",
       "      <td>0.0</td>\n",
       "      <td>0.0</td>\n",
       "      <td>0.0</td>\n",
       "      <td>1.0</td>\n",
       "      <td>0.0</td>\n",
       "      <td>0.0</td>\n",
       "      <td>0.0</td>\n",
       "      <td>0.0</td>\n",
       "      <td>0.0</td>\n",
       "      <td>0.0</td>\n",
       "    </tr>\n",
       "    <tr>\n",
       "      <th>28053</th>\n",
       "      <td>1</td>\n",
       "      <td>7</td>\n",
       "      <td>5</td>\n",
       "      <td>0.0</td>\n",
       "      <td>0.0</td>\n",
       "      <td>0.0</td>\n",
       "      <td>0.0</td>\n",
       "      <td>0.0</td>\n",
       "      <td>0.0</td>\n",
       "      <td>0.0</td>\n",
       "      <td>...</td>\n",
       "      <td>0.0</td>\n",
       "      <td>0.0</td>\n",
       "      <td>0.0</td>\n",
       "      <td>1.0</td>\n",
       "      <td>0.0</td>\n",
       "      <td>0.0</td>\n",
       "      <td>0.0</td>\n",
       "      <td>0.0</td>\n",
       "      <td>0.0</td>\n",
       "      <td>0.0</td>\n",
       "    </tr>\n",
       "    <tr>\n",
       "      <th>28054</th>\n",
       "      <td>1</td>\n",
       "      <td>7</td>\n",
       "      <td>5</td>\n",
       "      <td>0.0</td>\n",
       "      <td>0.0</td>\n",
       "      <td>0.0</td>\n",
       "      <td>0.0</td>\n",
       "      <td>0.0</td>\n",
       "      <td>0.0</td>\n",
       "      <td>0.0</td>\n",
       "      <td>...</td>\n",
       "      <td>0.0</td>\n",
       "      <td>0.0</td>\n",
       "      <td>0.0</td>\n",
       "      <td>1.0</td>\n",
       "      <td>0.0</td>\n",
       "      <td>0.0</td>\n",
       "      <td>0.0</td>\n",
       "      <td>0.0</td>\n",
       "      <td>0.0</td>\n",
       "      <td>0.0</td>\n",
       "    </tr>\n",
       "  </tbody>\n",
       "</table>\n",
       "<p>28055 rows × 21 columns</p>\n",
       "</div>"
      ],
      "text/plain": [
       "       1  3  2  draw  eight  eleven  fifteen  five  four  fourteen  ...  one  \\\n",
       "0      1  1  2   1.0    0.0     0.0      0.0   0.0   0.0       0.0  ...  0.0   \n",
       "1      1  1  1   1.0    0.0     0.0      0.0   0.0   0.0       0.0  ...  0.0   \n",
       "2      1  1  2   1.0    0.0     0.0      0.0   0.0   0.0       0.0  ...  0.0   \n",
       "3      1  2  1   1.0    0.0     0.0      0.0   0.0   0.0       0.0  ...  0.0   \n",
       "4      1  2  3   1.0    0.0     0.0      0.0   0.0   0.0       0.0  ...  0.0   \n",
       "...   .. .. ..   ...    ...     ...      ...   ...   ...       ...  ...  ...   \n",
       "28050  1  7  5   0.0    0.0     0.0      0.0   0.0   0.0       0.0  ...  0.0   \n",
       "28051  1  7  6   0.0    0.0     0.0      0.0   0.0   0.0       0.0  ...  0.0   \n",
       "28052  1  7  7   0.0    0.0     0.0      0.0   0.0   0.0       0.0  ...  0.0   \n",
       "28053  1  7  5   0.0    0.0     0.0      0.0   0.0   0.0       0.0  ...  0.0   \n",
       "28054  1  7  5   0.0    0.0     0.0      0.0   0.0   0.0       0.0  ...  0.0   \n",
       "\n",
       "       seven  six  sixteen  ten  thirteen  three  twelve  two  zero  \n",
       "0        0.0  0.0      0.0  0.0       0.0    0.0     0.0  0.0   0.0  \n",
       "1        0.0  0.0      0.0  0.0       0.0    0.0     0.0  0.0   0.0  \n",
       "2        0.0  0.0      0.0  0.0       0.0    0.0     0.0  0.0   0.0  \n",
       "3        0.0  0.0      0.0  0.0       0.0    0.0     0.0  0.0   0.0  \n",
       "4        0.0  0.0      0.0  0.0       0.0    0.0     0.0  0.0   0.0  \n",
       "...      ...  ...      ...  ...       ...    ...     ...  ...   ...  \n",
       "28050    0.0  0.0      1.0  0.0       0.0    0.0     0.0  0.0   0.0  \n",
       "28051    0.0  0.0      1.0  0.0       0.0    0.0     0.0  0.0   0.0  \n",
       "28052    0.0  0.0      1.0  0.0       0.0    0.0     0.0  0.0   0.0  \n",
       "28053    0.0  0.0      1.0  0.0       0.0    0.0     0.0  0.0   0.0  \n",
       "28054    0.0  0.0      1.0  0.0       0.0    0.0     0.0  0.0   0.0  \n",
       "\n",
       "[28055 rows x 21 columns]"
      ]
     },
     "execution_count": 112,
     "metadata": {},
     "output_type": "execute_result"
    }
   ],
   "source": [
    "# Chess dataset\n",
    "chess = pd.read_csv('https://archive.ics.uci.edu/ml/machine-learning-databases/chess/king-rook-vs-king/krkopt.data')\n",
    "\n",
    "# One hot encoding categorical features\n",
    "encoder = OneHotEncoder().fit(chess[['draw']])\n",
    "encoder.categories_\n",
    "\n",
    "transformed = encoder.transform(chess[['draw']] ).toarray() \n",
    "transformed\n",
    "\n",
    "for index, category in enumerate( np.concatenate(encoder.categories_) ):\n",
    "    chess[category] = transformed[:,index]\n",
    "\n",
    "# Drops strings and NaN so works in Grid Search\n",
    "chess = chess.drop(columns = ['a', 'b', 'c'])\n",
    "chess"
   ]
  },
  {
   "cell_type": "code",
   "execution_count": 113,
   "id": "comprehensive-machinery",
   "metadata": {},
   "outputs": [],
   "source": [
    "# Stores all columns except draw in X and draw in Y\n",
    "X_c = chess.drop(['draw'], axis=1)\n",
    "Y_c = chess['draw']\n",
    "\n",
    "# Gets 5000 random samples\n",
    "X_train, X_test, Y_train, Y_test = train_test_split(X_c, Y_c, train_size = 5000, random_state = 1)"
   ]
  },
  {
   "cell_type": "code",
   "execution_count": 114,
   "id": "charming-timber",
   "metadata": {},
   "outputs": [],
   "source": [
    "classifier = svm.SVC(kernel= 'rbf')\n",
    "parameters = {'C': [1, 10, 100, 1000], 'gamma': [1e-6, 1e-5, 1e-4, 1e-3, 1e-2]}\n",
    "search_results =  GridSearchCV(classifier, parameters)\n",
    "\n",
    "best_model = search_results.fit(X_train,Y_train)"
   ]
  },
  {
   "cell_type": "code",
   "execution_count": 115,
   "id": "thrown-aquatic",
   "metadata": {},
   "outputs": [
    {
     "data": {
      "text/plain": [
       "100.0"
      ]
     },
     "execution_count": 115,
     "metadata": {},
     "output_type": "execute_result"
    }
   ],
   "source": [
    "# Predicts the output\n",
    "Y_pred = search_results.predict(X_test)\n",
    "\n",
    "# Displays the accuracy of the model\n",
    "accuracy = (accuracy_score(Y_test, Y_pred))*100\n",
    "accuracy"
   ]
  },
  {
   "cell_type": "code",
   "execution_count": 116,
   "id": "retired-telephone",
   "metadata": {},
   "outputs": [
    {
     "name": "stdout",
     "output_type": "stream",
     "text": [
      "[[20752     0]\n",
      " [    0  2303]]\n",
      "              precision    recall  f1-score   support\n",
      "\n",
      "         0.0       1.00      1.00      1.00     20752\n",
      "         1.0       1.00      1.00      1.00      2303\n",
      "\n",
      "    accuracy                           1.00     23055\n",
      "   macro avg       1.00      1.00      1.00     23055\n",
      "weighted avg       1.00      1.00      1.00     23055\n",
      "\n"
     ]
    }
   ],
   "source": [
    "# Evaluating the algorithm\n",
    "print(confusion_matrix(Y_test, Y_pred))\n",
    "print(classification_report(Y_test, Y_pred))"
   ]
  },
  {
   "cell_type": "code",
   "execution_count": 117,
   "id": "representative-letters",
   "metadata": {},
   "outputs": [
    {
     "data": {
      "text/plain": [
       "{'mean_fit_time': array([0.11709399, 1.18495994, 0.12966075, 0.16621857, 0.16423211,\n",
       "        0.59095392, 0.11594763, 0.85478315, 0.65480719, 0.09683514,\n",
       "        0.11548839, 0.57827191, 0.66343813, 0.60447683, 0.05790701,\n",
       "        0.5818512 , 0.84023352, 1.10388145, 0.11989985, 0.05552354]),\n",
       " 'std_fit_time': array([0.01702489, 2.14431904, 0.00265709, 0.03690681, 0.04519288,\n",
       "        0.94532214, 0.00515411, 1.12963894, 1.0026605 , 0.00822084,\n",
       "        0.00345752, 0.75662638, 0.82362891, 0.88286224, 0.00237416,\n",
       "        0.81525429, 1.05539836, 1.53909009, 0.00984913, 0.00420052]),\n",
       " 'mean_score_time': array([0.03676023, 0.05712867, 0.03851242, 0.5168282 , 0.03771176,\n",
       "        0.03575592, 0.0357286 , 0.04164071, 0.03855276, 0.0188992 ,\n",
       "        0.118927  , 0.0425477 , 0.04343863, 0.0182601 , 0.00702353,\n",
       "        0.03781056, 0.03732581, 0.01881914, 0.00748906, 0.00641212]),\n",
       " 'std_score_time': array([1.50889100e-03, 3.74315763e-02, 7.85720651e-04, 9.58546964e-01,\n",
       "        8.16218930e-04, 5.45286661e-04, 5.71698772e-04, 3.37243776e-03,\n",
       "        2.79034715e-03, 3.48155688e-04, 1.64724575e-01, 2.53665820e-03,\n",
       "        5.34015202e-03, 6.98471105e-04, 3.48381105e-04, 1.16546731e-03,\n",
       "        7.63666662e-04, 2.10359208e-04, 3.49630993e-04, 3.36115122e-04]),\n",
       " 'param_C': masked_array(data=[1, 1, 1, 1, 1, 10, 10, 10, 10, 10, 100, 100, 100, 100,\n",
       "                    100, 1000, 1000, 1000, 1000, 1000],\n",
       "              mask=[False, False, False, False, False, False, False, False,\n",
       "                    False, False, False, False, False, False, False, False,\n",
       "                    False, False, False, False],\n",
       "        fill_value='?',\n",
       "             dtype=object),\n",
       " 'param_gamma': masked_array(data=[1e-06, 1e-05, 0.0001, 0.001, 0.01, 1e-06, 1e-05,\n",
       "                    0.0001, 0.001, 0.01, 1e-06, 1e-05, 0.0001, 0.001, 0.01,\n",
       "                    1e-06, 1e-05, 0.0001, 0.001, 0.01],\n",
       "              mask=[False, False, False, False, False, False, False, False,\n",
       "                    False, False, False, False, False, False, False, False,\n",
       "                    False, False, False, False],\n",
       "        fill_value='?',\n",
       "             dtype=object),\n",
       " 'params': [{'C': 1, 'gamma': 1e-06},\n",
       "  {'C': 1, 'gamma': 1e-05},\n",
       "  {'C': 1, 'gamma': 0.0001},\n",
       "  {'C': 1, 'gamma': 0.001},\n",
       "  {'C': 1, 'gamma': 0.01},\n",
       "  {'C': 10, 'gamma': 1e-06},\n",
       "  {'C': 10, 'gamma': 1e-05},\n",
       "  {'C': 10, 'gamma': 0.0001},\n",
       "  {'C': 10, 'gamma': 0.001},\n",
       "  {'C': 10, 'gamma': 0.01},\n",
       "  {'C': 100, 'gamma': 1e-06},\n",
       "  {'C': 100, 'gamma': 1e-05},\n",
       "  {'C': 100, 'gamma': 0.0001},\n",
       "  {'C': 100, 'gamma': 0.001},\n",
       "  {'C': 100, 'gamma': 0.01},\n",
       "  {'C': 1000, 'gamma': 1e-06},\n",
       "  {'C': 1000, 'gamma': 1e-05},\n",
       "  {'C': 1000, 'gamma': 0.0001},\n",
       "  {'C': 1000, 'gamma': 0.001},\n",
       "  {'C': 1000, 'gamma': 0.01}],\n",
       " 'split0_test_score': array([0.902, 0.902, 0.902, 0.902, 0.902, 0.902, 0.902, 0.902, 0.902,\n",
       "        1.   , 0.902, 0.902, 0.902, 1.   , 1.   , 0.902, 0.902, 1.   ,\n",
       "        1.   , 1.   ]),\n",
       " 'split1_test_score': array([0.902, 0.902, 0.902, 0.902, 0.902, 0.902, 0.902, 0.902, 0.902,\n",
       "        0.998, 0.902, 0.902, 0.902, 0.998, 1.   , 0.902, 0.902, 0.998,\n",
       "        1.   , 1.   ]),\n",
       " 'split2_test_score': array([0.902, 0.902, 0.902, 0.902, 0.902, 0.902, 0.902, 0.902, 0.902,\n",
       "        1.   , 0.902, 0.902, 0.902, 1.   , 1.   , 0.902, 0.902, 1.   ,\n",
       "        1.   , 1.   ]),\n",
       " 'split3_test_score': array([0.901, 0.901, 0.901, 0.901, 0.901, 0.901, 0.901, 0.901, 0.901,\n",
       "        0.999, 0.901, 0.901, 0.901, 0.999, 1.   , 0.901, 0.901, 0.999,\n",
       "        1.   , 1.   ]),\n",
       " 'split4_test_score': array([0.901, 0.901, 0.901, 0.901, 0.901, 0.901, 0.901, 0.901, 0.901,\n",
       "        1.   , 0.901, 0.901, 0.901, 1.   , 1.   , 0.901, 0.901, 1.   ,\n",
       "        1.   , 1.   ]),\n",
       " 'mean_test_score': array([0.9016, 0.9016, 0.9016, 0.9016, 0.9016, 0.9016, 0.9016, 0.9016,\n",
       "        0.9016, 0.9994, 0.9016, 0.9016, 0.9016, 0.9994, 1.    , 0.9016,\n",
       "        0.9016, 0.9994, 1.    , 1.    ]),\n",
       " 'std_test_score': array([0.0004899, 0.0004899, 0.0004899, 0.0004899, 0.0004899, 0.0004899,\n",
       "        0.0004899, 0.0004899, 0.0004899, 0.0008   , 0.0004899, 0.0004899,\n",
       "        0.0004899, 0.0008   , 0.       , 0.0004899, 0.0004899, 0.0008   ,\n",
       "        0.       , 0.       ]),\n",
       " 'rank_test_score': array([7, 7, 7, 7, 7, 7, 7, 7, 7, 4, 7, 7, 7, 4, 1, 7, 7, 4, 1, 1],\n",
       "       dtype=int32)}"
      ]
     },
     "execution_count": 117,
     "metadata": {},
     "output_type": "execute_result"
    }
   ],
   "source": [
    "best_model.cv_results_"
   ]
  },
  {
   "cell_type": "code",
   "execution_count": 118,
   "id": "bright-blade",
   "metadata": {},
   "outputs": [
    {
     "data": {
      "image/png": "[encoded data removed]",
      "text/plain": [
       "<Figure size 432x288 with 2 Axes>"
      ]
     },
     "metadata": {
      "needs_background": "light"
     },
     "output_type": "display_data"
    }
   ],
   "source": [
    "results = pd.DataFrame( search_results.cv_results_['params'] )\n",
    "\n",
    "results['score'] = 1 - search_results.cv_results_['mean_test_score']\n",
    "\n",
    "results = results.pivot('C','gamma','score')\n",
    "\n",
    "sns.heatmap(results,annot=True, fmt='.3f') \n",
    "plt.title('Training error w.r.t $C$ and $\\gamma$')\n",
    "plt.show()"
   ]
  },
  {
   "cell_type": "code",
   "execution_count": 119,
   "id": "certain-pharmacy",
   "metadata": {},
   "outputs": [
    {
     "name": "stdout",
     "output_type": "stream",
     "text": [
      "Test set error for optimum classifier(C=100,gamma=0.01): 0.000\n"
     ]
    }
   ],
   "source": [
    "# extract the best estimator and its params\n",
    "opt_classifier = search_results.best_estimator_\n",
    "opt_C = search_results.best_params_['C']\n",
    "opt_gamma = search_results.best_params_['gamma']\n",
    "\n",
    "# just a copy/paste of test set evaluation from before\n",
    "opt_classifier.fit(X_train,Y_train)\n",
    "opt_test_score = 1 - opt_classifier.score(X_test,Y_test) # again turn accuracy into misclassification error\n",
    "print(f'Test set error for optimum classifier(C={opt_C},gamma={opt_gamma}): {opt_test_score:.3f}') "
   ]
  },
  {
   "cell_type": "code",
   "execution_count": 120,
   "id": "center-tribe",
   "metadata": {},
   "outputs": [],
   "source": [
    "# Gets another 5000 random samples\n",
    "X_train, X_test, Y_train, Y_test = train_test_split(X_c, Y_c, train_size = 5000, random_state = 2)"
   ]
  },
  {
   "cell_type": "code",
   "execution_count": 121,
   "id": "curious-school",
   "metadata": {},
   "outputs": [],
   "source": [
    "classifier = svm.SVC(kernel= 'rbf')\n",
    "parameters = {'C': [1, 10, 100, 1000], 'gamma': [1e-6, 1e-5, 1e-4, 1e-3, 1e-2]}\n",
    "search_results =  GridSearchCV(classifier, parameters)\n",
    "\n",
    "best_model = search_results.fit(X_train,Y_train)"
   ]
  },
  {
   "cell_type": "code",
   "execution_count": 122,
   "id": "tamil-rough",
   "metadata": {},
   "outputs": [
    {
     "data": {
      "text/plain": [
       "100.0"
      ]
     },
     "execution_count": 122,
     "metadata": {},
     "output_type": "execute_result"
    }
   ],
   "source": [
    "# Predicts the output\n",
    "Y_pred = search_results.predict(X_test)\n",
    "\n",
    "# Displays the accuracy of the model\n",
    "accuracy = (accuracy_score(Y_test, Y_pred))*100\n",
    "accuracy"
   ]
  },
  {
   "cell_type": "code",
   "execution_count": 123,
   "id": "scientific-facial",
   "metadata": {},
   "outputs": [
    {
     "name": "stdout",
     "output_type": "stream",
     "text": [
      "[[20704     0]\n",
      " [    0  2351]]\n",
      "              precision    recall  f1-score   support\n",
      "\n",
      "         0.0       1.00      1.00      1.00     20704\n",
      "         1.0       1.00      1.00      1.00      2351\n",
      "\n",
      "    accuracy                           1.00     23055\n",
      "   macro avg       1.00      1.00      1.00     23055\n",
      "weighted avg       1.00      1.00      1.00     23055\n",
      "\n"
     ]
    }
   ],
   "source": [
    "# Evaluating the algorithm\n",
    "print(confusion_matrix(Y_test, Y_pred))\n",
    "print(classification_report(Y_test, Y_pred))"
   ]
  },
  {
   "cell_type": "code",
   "execution_count": 124,
   "id": "pleasant-consent",
   "metadata": {},
   "outputs": [
    {
     "data": {
      "text/plain": [
       "{'mean_fit_time': array([0.1072227 , 0.11067381, 0.10878215, 0.72992821, 0.13121238,\n",
       "        0.09881873, 0.09748158, 0.52237034, 0.13442588, 0.99052958,\n",
       "        0.1040555 , 0.8228158 , 0.19374986, 0.92476478, 0.05549288,\n",
       "        0.24269967, 0.61165128, 0.84549026, 0.15375514, 0.05300941]),\n",
       " 'std_fit_time': array([0.01042081, 0.01528397, 0.00494118, 1.169898  , 0.01165663,\n",
       "        0.00267375, 0.00325224, 0.73270137, 0.00282824, 1.80085008,\n",
       "        0.00727281, 1.30539943, 0.00836418, 1.54998727, 0.00406215,\n",
       "        0.19070118, 0.69246188, 0.96022147, 0.03333378, 0.00369476]),\n",
       " 'mean_score_time': array([0.03398309, 0.40974894, 0.03514643, 0.03750567, 0.03571677,\n",
       "        0.45725126, 0.03305478, 0.03582358, 0.03290763, 0.01795039,\n",
       "        0.0331377 , 0.03707614, 0.0335659 , 0.01853099, 0.00680766,\n",
       "        0.0368576 , 0.03467031, 0.42461967, 0.00748014, 0.00628128]),\n",
       " 'std_score_time': array([2.00141053e-03, 7.50026898e-01, 1.27876343e-03, 5.17605012e-03,\n",
       "        4.10983168e-03, 8.45680577e-01, 2.20706401e-03, 8.17473623e-04,\n",
       "        1.81138669e-04, 2.00855086e-04, 3.14601770e-04, 1.08885648e-03,\n",
       "        7.35488611e-04, 4.24318592e-04, 8.16633717e-05, 3.35604787e-03,\n",
       "        7.96477128e-04, 7.99834283e-01, 1.73575996e-04, 3.34485907e-04]),\n",
       " 'param_C': masked_array(data=[1, 1, 1, 1, 1, 10, 10, 10, 10, 10, 100, 100, 100, 100,\n",
       "                    100, 1000, 1000, 1000, 1000, 1000],\n",
       "              mask=[False, False, False, False, False, False, False, False,\n",
       "                    False, False, False, False, False, False, False, False,\n",
       "                    False, False, False, False],\n",
       "        fill_value='?',\n",
       "             dtype=object),\n",
       " 'param_gamma': masked_array(data=[1e-06, 1e-05, 0.0001, 0.001, 0.01, 1e-06, 1e-05,\n",
       "                    0.0001, 0.001, 0.01, 1e-06, 1e-05, 0.0001, 0.001, 0.01,\n",
       "                    1e-06, 1e-05, 0.0001, 0.001, 0.01],\n",
       "              mask=[False, False, False, False, False, False, False, False,\n",
       "                    False, False, False, False, False, False, False, False,\n",
       "                    False, False, False, False],\n",
       "        fill_value='?',\n",
       "             dtype=object),\n",
       " 'params': [{'C': 1, 'gamma': 1e-06},\n",
       "  {'C': 1, 'gamma': 1e-05},\n",
       "  {'C': 1, 'gamma': 0.0001},\n",
       "  {'C': 1, 'gamma': 0.001},\n",
       "  {'C': 1, 'gamma': 0.01},\n",
       "  {'C': 10, 'gamma': 1e-06},\n",
       "  {'C': 10, 'gamma': 1e-05},\n",
       "  {'C': 10, 'gamma': 0.0001},\n",
       "  {'C': 10, 'gamma': 0.001},\n",
       "  {'C': 10, 'gamma': 0.01},\n",
       "  {'C': 100, 'gamma': 1e-06},\n",
       "  {'C': 100, 'gamma': 1e-05},\n",
       "  {'C': 100, 'gamma': 0.0001},\n",
       "  {'C': 100, 'gamma': 0.001},\n",
       "  {'C': 100, 'gamma': 0.01},\n",
       "  {'C': 1000, 'gamma': 1e-06},\n",
       "  {'C': 1000, 'gamma': 1e-05},\n",
       "  {'C': 1000, 'gamma': 0.0001},\n",
       "  {'C': 1000, 'gamma': 0.001},\n",
       "  {'C': 1000, 'gamma': 0.01}],\n",
       " 'split0_test_score': array([0.912, 0.912, 0.912, 0.912, 0.912, 0.912, 0.912, 0.912, 0.912,\n",
       "        1.   , 0.912, 0.912, 0.912, 1.   , 1.   , 0.912, 0.912, 1.   ,\n",
       "        1.   , 1.   ]),\n",
       " 'split1_test_score': array([0.911, 0.911, 0.911, 0.911, 0.911, 0.911, 0.911, 0.911, 0.911,\n",
       "        0.999, 0.911, 0.911, 0.911, 0.999, 1.   , 0.911, 0.911, 0.998,\n",
       "        1.   , 1.   ]),\n",
       " 'split2_test_score': array([0.911, 0.911, 0.911, 0.911, 0.911, 0.911, 0.911, 0.911, 0.911,\n",
       "        1.   , 0.911, 0.911, 0.911, 1.   , 1.   , 0.911, 0.911, 0.999,\n",
       "        1.   , 1.   ]),\n",
       " 'split3_test_score': array([0.911, 0.911, 0.911, 0.911, 0.911, 0.911, 0.911, 0.911, 0.911,\n",
       "        0.998, 0.911, 0.911, 0.911, 0.998, 1.   , 0.911, 0.911, 0.998,\n",
       "        1.   , 1.   ]),\n",
       " 'split4_test_score': array([0.911, 0.911, 0.911, 0.911, 0.911, 0.911, 0.911, 0.911, 0.911,\n",
       "        1.   , 0.911, 0.911, 0.911, 1.   , 1.   , 0.911, 0.911, 1.   ,\n",
       "        1.   , 1.   ]),\n",
       " 'mean_test_score': array([0.9112, 0.9112, 0.9112, 0.9112, 0.9112, 0.9112, 0.9112, 0.9112,\n",
       "        0.9112, 0.9994, 0.9112, 0.9112, 0.9112, 0.9994, 1.    , 0.9112,\n",
       "        0.9112, 0.999 , 1.    , 1.    ]),\n",
       " 'std_test_score': array([0.0004    , 0.0004    , 0.0004    , 0.0004    , 0.0004    ,\n",
       "        0.0004    , 0.0004    , 0.0004    , 0.0004    , 0.0008    ,\n",
       "        0.0004    , 0.0004    , 0.0004    , 0.0008    , 0.        ,\n",
       "        0.0004    , 0.0004    , 0.00089443, 0.        , 0.        ]),\n",
       " 'rank_test_score': array([7, 7, 7, 7, 7, 7, 7, 7, 7, 4, 7, 7, 7, 4, 1, 7, 7, 6, 1, 1],\n",
       "       dtype=int32)}"
      ]
     },
     "execution_count": 124,
     "metadata": {},
     "output_type": "execute_result"
    }
   ],
   "source": [
    "best_model.cv_results_"
   ]
  },
  {
   "cell_type": "code",
   "execution_count": 125,
   "id": "formal-satisfaction",
   "metadata": {},
   "outputs": [
    {
     "data": {
      "image/png": "[encoded data removed]",
      "text/plain": [
       "<Figure size 432x288 with 2 Axes>"
      ]
     },
     "metadata": {
      "needs_background": "light"
     },
     "output_type": "display_data"
    }
   ],
   "source": [
    "results = pd.DataFrame( search_results.cv_results_['params'] )\n",
    "\n",
    "results['score'] = 1 - search_results.cv_results_['mean_test_score']\n",
    "\n",
    "results = results.pivot('C','gamma','score')\n",
    "\n",
    "sns.heatmap(results,annot=True, fmt='.3f') \n",
    "plt.title('Training error w.r.t $C$ and $\\gamma$')\n",
    "plt.show()"
   ]
  },
  {
   "cell_type": "code",
   "execution_count": 126,
   "id": "appreciated-religious",
   "metadata": {},
   "outputs": [
    {
     "name": "stdout",
     "output_type": "stream",
     "text": [
      "Test set error for optimum classifier(C=100,gamma=0.01): 0.000\n"
     ]
    }
   ],
   "source": [
    "# extract the best estimator and its params\n",
    "opt_classifier = search_results.best_estimator_\n",
    "opt_C = search_results.best_params_['C']\n",
    "opt_gamma = search_results.best_params_['gamma']\n",
    "\n",
    "# just a copy/paste of test set evaluation from before\n",
    "opt_classifier.fit(X_train,Y_train)\n",
    "opt_test_score = 1 - opt_classifier.score(X_test,Y_test) # again turn accuracy into misclassification error\n",
    "print(f'Test set error for optimum classifier(C={opt_C},gamma={opt_gamma}): {opt_test_score:.3f}') "
   ]
  },
  {
   "cell_type": "code",
   "execution_count": 127,
   "id": "fabulous-hawaiian",
   "metadata": {},
   "outputs": [],
   "source": [
    "# Gets another 5000 random samples\n",
    "X_train, X_test, Y_train, Y_test = train_test_split(X_c, Y_c, train_size = 5000, random_state = 3)"
   ]
  },
  {
   "cell_type": "code",
   "execution_count": 128,
   "id": "ultimate-insured",
   "metadata": {},
   "outputs": [],
   "source": [
    "classifier = svm.SVC(kernel= 'rbf')\n",
    "parameters = {'C': [1, 10, 100, 1000], 'gamma': [1e-6, 1e-5, 1e-4, 1e-3, 1e-2]}\n",
    "search_results =  GridSearchCV(classifier, parameters)\n",
    "\n",
    "best_model = search_results.fit(X_train,Y_train)"
   ]
  },
  {
   "cell_type": "code",
   "execution_count": 129,
   "id": "limiting-blogger",
   "metadata": {},
   "outputs": [
    {
     "data": {
      "text/plain": [
       "100.0"
      ]
     },
     "execution_count": 129,
     "metadata": {},
     "output_type": "execute_result"
    }
   ],
   "source": [
    "# Predicts the output\n",
    "Y_pred = search_results.predict(X_test)\n",
    "\n",
    "# Displays the accuracy of the model\n",
    "accuracy = (accuracy_score(Y_test, Y_pred))*100\n",
    "accuracy"
   ]
  },
  {
   "cell_type": "code",
   "execution_count": 130,
   "id": "earlier-highland",
   "metadata": {},
   "outputs": [
    {
     "name": "stdout",
     "output_type": "stream",
     "text": [
      "[[20740     0]\n",
      " [    0  2315]]\n",
      "              precision    recall  f1-score   support\n",
      "\n",
      "         0.0       1.00      1.00      1.00     20740\n",
      "         1.0       1.00      1.00      1.00      2315\n",
      "\n",
      "    accuracy                           1.00     23055\n",
      "   macro avg       1.00      1.00      1.00     23055\n",
      "weighted avg       1.00      1.00      1.00     23055\n",
      "\n"
     ]
    }
   ],
   "source": [
    "# Evaluating the algorithm\n",
    "print(confusion_matrix(Y_test, Y_pred))\n",
    "print(classification_report(Y_test, Y_pred))"
   ]
  },
  {
   "cell_type": "code",
   "execution_count": 131,
   "id": "dominican-pathology",
   "metadata": {},
   "outputs": [
    {
     "data": {
      "text/plain": [
       "{'mean_fit_time': array([0.10791225, 0.70632472, 0.12249823, 0.18643808, 0.13359103,\n",
       "        0.5677052 , 0.14824228, 0.71416407, 0.15409284, 0.57906895,\n",
       "        0.11045256, 0.7768815 , 0.62329583, 0.13956718, 0.05445681,\n",
       "        0.72738066, 0.79147429, 0.76689758, 0.56721864, 0.05471444]),\n",
       " 'std_fit_time': array([0.00717583, 1.2015678 , 0.00678462, 0.08525431, 0.00266864,\n",
       "        0.93000718, 0.0295584 , 1.06517552, 0.00468975, 0.94708079,\n",
       "        0.00504401, 1.189572  , 0.80056955, 0.00466819, 0.00337642,\n",
       "        1.11267448, 0.96871054, 0.88451947, 0.86919067, 0.00476305]),\n",
       " 'mean_score_time': array([0.0350955 , 0.03531237, 0.03740478, 0.49956632, 0.03646832,\n",
       "        0.03521471, 0.04227509, 0.04843898, 0.03616595, 0.02373028,\n",
       "        0.03776207, 0.04083233, 0.03949385, 0.01801653, 0.00671816,\n",
       "        0.03743391, 0.03672848, 0.04971175, 0.00729623, 0.00664043]),\n",
       " 'std_score_time': array([9.96126626e-04, 2.28753581e-03, 1.36946329e-03, 9.24829301e-01,\n",
       "        3.28332956e-04, 1.18271874e-03, 1.33600687e-02, 1.66154589e-02,\n",
       "        7.64478889e-04, 9.56451790e-03, 3.76627039e-03, 1.76010405e-03,\n",
       "        2.89793099e-03, 5.73517216e-04, 2.78078128e-04, 1.32858763e-03,\n",
       "        6.10945134e-04, 6.16357400e-02, 2.37884046e-04, 6.85275469e-04]),\n",
       " 'param_C': masked_array(data=[1, 1, 1, 1, 1, 10, 10, 10, 10, 10, 100, 100, 100, 100,\n",
       "                    100, 1000, 1000, 1000, 1000, 1000],\n",
       "              mask=[False, False, False, False, False, False, False, False,\n",
       "                    False, False, False, False, False, False, False, False,\n",
       "                    False, False, False, False],\n",
       "        fill_value='?',\n",
       "             dtype=object),\n",
       " 'param_gamma': masked_array(data=[1e-06, 1e-05, 0.0001, 0.001, 0.01, 1e-06, 1e-05,\n",
       "                    0.0001, 0.001, 0.01, 1e-06, 1e-05, 0.0001, 0.001, 0.01,\n",
       "                    1e-06, 1e-05, 0.0001, 0.001, 0.01],\n",
       "              mask=[False, False, False, False, False, False, False, False,\n",
       "                    False, False, False, False, False, False, False, False,\n",
       "                    False, False, False, False],\n",
       "        fill_value='?',\n",
       "             dtype=object),\n",
       " 'params': [{'C': 1, 'gamma': 1e-06},\n",
       "  {'C': 1, 'gamma': 1e-05},\n",
       "  {'C': 1, 'gamma': 0.0001},\n",
       "  {'C': 1, 'gamma': 0.001},\n",
       "  {'C': 1, 'gamma': 0.01},\n",
       "  {'C': 10, 'gamma': 1e-06},\n",
       "  {'C': 10, 'gamma': 1e-05},\n",
       "  {'C': 10, 'gamma': 0.0001},\n",
       "  {'C': 10, 'gamma': 0.001},\n",
       "  {'C': 10, 'gamma': 0.01},\n",
       "  {'C': 100, 'gamma': 1e-06},\n",
       "  {'C': 100, 'gamma': 1e-05},\n",
       "  {'C': 100, 'gamma': 0.0001},\n",
       "  {'C': 100, 'gamma': 0.001},\n",
       "  {'C': 100, 'gamma': 0.01},\n",
       "  {'C': 1000, 'gamma': 1e-06},\n",
       "  {'C': 1000, 'gamma': 1e-05},\n",
       "  {'C': 1000, 'gamma': 0.0001},\n",
       "  {'C': 1000, 'gamma': 0.001},\n",
       "  {'C': 1000, 'gamma': 0.01}],\n",
       " 'split0_test_score': array([0.904, 0.904, 0.904, 0.904, 0.904, 0.904, 0.904, 0.904, 0.904,\n",
       "        0.998, 0.904, 0.904, 0.904, 0.999, 1.   , 0.904, 0.904, 0.999,\n",
       "        1.   , 1.   ]),\n",
       " 'split1_test_score': array([0.904, 0.904, 0.904, 0.904, 0.904, 0.904, 0.904, 0.904, 0.904,\n",
       "        0.999, 0.904, 0.904, 0.904, 0.999, 1.   , 0.904, 0.904, 0.999,\n",
       "        1.   , 1.   ]),\n",
       " 'split2_test_score': array([0.904, 0.904, 0.904, 0.904, 0.904, 0.904, 0.904, 0.904, 0.904,\n",
       "        0.999, 0.904, 0.904, 0.904, 0.997, 1.   , 0.904, 0.904, 0.995,\n",
       "        1.   , 1.   ]),\n",
       " 'split3_test_score': array([0.904, 0.904, 0.904, 0.904, 0.904, 0.904, 0.904, 0.904, 0.904,\n",
       "        0.999, 0.904, 0.904, 0.904, 1.   , 1.   , 0.904, 0.904, 0.999,\n",
       "        1.   , 1.   ]),\n",
       " 'split4_test_score': array([0.904, 0.904, 0.904, 0.904, 0.904, 0.904, 0.904, 0.904, 0.904,\n",
       "        1.   , 0.904, 0.904, 0.904, 1.   , 1.   , 0.904, 0.904, 1.   ,\n",
       "        1.   , 1.   ]),\n",
       " 'mean_test_score': array([0.904 , 0.904 , 0.904 , 0.904 , 0.904 , 0.904 , 0.904 , 0.904 ,\n",
       "        0.904 , 0.999 , 0.904 , 0.904 , 0.904 , 0.999 , 1.    , 0.904 ,\n",
       "        0.904 , 0.9984, 1.    , 1.    ]),\n",
       " 'std_test_score': array([1.11022302e-16, 1.11022302e-16, 1.11022302e-16, 1.11022302e-16,\n",
       "        1.11022302e-16, 1.11022302e-16, 1.11022302e-16, 1.11022302e-16,\n",
       "        1.11022302e-16, 6.32455532e-04, 1.11022302e-16, 1.11022302e-16,\n",
       "        1.11022302e-16, 1.09544512e-03, 0.00000000e+00, 1.11022302e-16,\n",
       "        1.11022302e-16, 1.74355958e-03, 0.00000000e+00, 0.00000000e+00]),\n",
       " 'rank_test_score': array([7, 7, 7, 7, 7, 7, 7, 7, 7, 4, 7, 7, 7, 4, 1, 7, 7, 6, 1, 1],\n",
       "       dtype=int32)}"
      ]
     },
     "execution_count": 131,
     "metadata": {},
     "output_type": "execute_result"
    }
   ],
   "source": [
    "best_model.cv_results_"
   ]
  },
  {
   "cell_type": "code",
   "execution_count": 132,
   "id": "caring-emerald",
   "metadata": {},
   "outputs": [
    {
     "data": {
      "image/png": "[encoded data removed]",
      "text/plain": [
       "<Figure size 432x288 with 2 Axes>"
      ]
     },
     "metadata": {
      "needs_background": "light"
     },
     "output_type": "display_data"
    }
   ],
   "source": [
    "results = pd.DataFrame( search_results.cv_results_['params'] )\n",
    "\n",
    "results['score'] = 1 - search_results.cv_results_['mean_test_score']\n",
    "\n",
    "results = results.pivot('C','gamma','score')\n",
    "\n",
    "sns.heatmap(results,annot=True, fmt='.3f') \n",
    "plt.title('Training error w.r.t $C$ and $\\gamma$')\n",
    "plt.show()"
   ]
  },
  {
   "cell_type": "code",
   "execution_count": 133,
   "id": "personalized-scope",
   "metadata": {},
   "outputs": [
    {
     "name": "stdout",
     "output_type": "stream",
     "text": [
      "Test set error for optimum classifier(C=100,gamma=0.01): 0.000\n"
     ]
    }
   ],
   "source": [
    "# extract the best estimator and its params\n",
    "opt_classifier = search_results.best_estimator_\n",
    "opt_C = search_results.best_params_['C']\n",
    "opt_gamma = search_results.best_params_['gamma']\n",
    "\n",
    "# just a copy/paste of test set evaluation from before\n",
    "opt_classifier.fit(X_train,Y_train)\n",
    "opt_test_score = 1 - opt_classifier.score(X_test,Y_test) # again turn accuracy into misclassification error\n",
    "print(f'Test set error for optimum classifier(C={opt_C},gamma={opt_gamma}): {opt_test_score:.3f}') "
   ]
  },
  {
   "cell_type": "code",
   "execution_count": 134,
   "id": "differential-chase",
   "metadata": {},
   "outputs": [],
   "source": [
    "# Gets another 5000 random samples\n",
    "X_train, X_test, Y_train, Y_test = train_test_split(X_c, Y_c, train_size = 5000, random_state = 4)"
   ]
  },
  {
   "cell_type": "code",
   "execution_count": 135,
   "id": "numerical-vacation",
   "metadata": {},
   "outputs": [],
   "source": [
    "classifier = svm.SVC(kernel= 'rbf')\n",
    "parameters = {'C': [1, 10, 100, 1000], 'gamma': [1e-6, 1e-5, 1e-4, 1e-3, 1e-2]}\n",
    "search_results =  GridSearchCV(classifier, parameters)\n",
    "\n",
    "best_model = search_results.fit(X_train,Y_train)"
   ]
  },
  {
   "cell_type": "code",
   "execution_count": 136,
   "id": "israeli-coverage",
   "metadata": {},
   "outputs": [
    {
     "data": {
      "text/plain": [
       "100.0"
      ]
     },
     "execution_count": 136,
     "metadata": {},
     "output_type": "execute_result"
    }
   ],
   "source": [
    "# Predicts the output\n",
    "Y_pred = search_results.predict(X_test)\n",
    "\n",
    "# Displays the accuracy of the model\n",
    "accuracy = (accuracy_score(Y_test, Y_pred))*100\n",
    "accuracy"
   ]
  },
  {
   "cell_type": "code",
   "execution_count": 137,
   "id": "floating-digest",
   "metadata": {},
   "outputs": [
    {
     "name": "stdout",
     "output_type": "stream",
     "text": [
      "[[20739     0]\n",
      " [    0  2316]]\n",
      "              precision    recall  f1-score   support\n",
      "\n",
      "         0.0       1.00      1.00      1.00     20739\n",
      "         1.0       1.00      1.00      1.00      2316\n",
      "\n",
      "    accuracy                           1.00     23055\n",
      "   macro avg       1.00      1.00      1.00     23055\n",
      "weighted avg       1.00      1.00      1.00     23055\n",
      "\n"
     ]
    }
   ],
   "source": [
    "# Evaluating the algorithm\n",
    "print(confusion_matrix(Y_test, Y_pred))\n",
    "print(classification_report(Y_test, Y_pred))"
   ]
  },
  {
   "cell_type": "code",
   "execution_count": 138,
   "id": "demanding-sound",
   "metadata": {},
   "outputs": [
    {
     "data": {
      "text/plain": [
       "{'mean_fit_time': array([0.71274934, 0.10700932, 0.58663983, 0.13553839, 0.71197772,\n",
       "        0.11185141, 0.50872293, 0.1649837 , 0.15143695, 0.5148572 ,\n",
       "        0.10957856, 0.18466458, 0.59626508, 0.14768767, 0.0553896 ,\n",
       "        0.17022209, 0.81353798, 0.75985446, 0.68011303, 0.05426354]),\n",
       " 'std_fit_time': array([1.20735677, 0.00424747, 0.93882525, 0.00462916, 1.15914879,\n",
       "        0.00951301, 0.79998289, 0.00500534, 0.00853962, 0.81237462,\n",
       "        0.00248952, 0.009651  , 0.72877796, 0.00556269, 0.00170923,\n",
       "        0.00703247, 1.08956474, 0.91110944, 1.06767273, 0.00302692]),\n",
       " 'mean_score_time': array([0.03977857, 0.03485842, 0.03684287, 0.03681226, 0.03764377,\n",
       "        0.04375992, 0.04073339, 0.54280663, 0.0357614 , 0.06370196,\n",
       "        0.03662114, 0.53776569, 0.04363818, 0.0187397 , 0.00795569,\n",
       "        0.55071721, 0.03969822, 0.01915722, 0.00858846, 0.00637217]),\n",
       " 'std_score_time': array([8.25716949e-03, 6.20711393e-04, 1.42191642e-03, 8.55302485e-04,\n",
       "        3.04377096e-03, 1.38606685e-02, 1.00875851e-02, 1.00416398e+00,\n",
       "        3.62317503e-04, 8.77769636e-02, 1.85046030e-03, 9.93751744e-01,\n",
       "        1.11335272e-02, 4.74912766e-04, 2.17032653e-03, 1.03057749e+00,\n",
       "        2.60515448e-03, 1.82944925e-04, 1.81950182e-03, 2.84813897e-04]),\n",
       " 'param_C': masked_array(data=[1, 1, 1, 1, 1, 10, 10, 10, 10, 10, 100, 100, 100, 100,\n",
       "                    100, 1000, 1000, 1000, 1000, 1000],\n",
       "              mask=[False, False, False, False, False, False, False, False,\n",
       "                    False, False, False, False, False, False, False, False,\n",
       "                    False, False, False, False],\n",
       "        fill_value='?',\n",
       "             dtype=object),\n",
       " 'param_gamma': masked_array(data=[1e-06, 1e-05, 0.0001, 0.001, 0.01, 1e-06, 1e-05,\n",
       "                    0.0001, 0.001, 0.01, 1e-06, 1e-05, 0.0001, 0.001, 0.01,\n",
       "                    1e-06, 1e-05, 0.0001, 0.001, 0.01],\n",
       "              mask=[False, False, False, False, False, False, False, False,\n",
       "                    False, False, False, False, False, False, False, False,\n",
       "                    False, False, False, False],\n",
       "        fill_value='?',\n",
       "             dtype=object),\n",
       " 'params': [{'C': 1, 'gamma': 1e-06},\n",
       "  {'C': 1, 'gamma': 1e-05},\n",
       "  {'C': 1, 'gamma': 0.0001},\n",
       "  {'C': 1, 'gamma': 0.001},\n",
       "  {'C': 1, 'gamma': 0.01},\n",
       "  {'C': 10, 'gamma': 1e-06},\n",
       "  {'C': 10, 'gamma': 1e-05},\n",
       "  {'C': 10, 'gamma': 0.0001},\n",
       "  {'C': 10, 'gamma': 0.001},\n",
       "  {'C': 10, 'gamma': 0.01},\n",
       "  {'C': 100, 'gamma': 1e-06},\n",
       "  {'C': 100, 'gamma': 1e-05},\n",
       "  {'C': 100, 'gamma': 0.0001},\n",
       "  {'C': 100, 'gamma': 0.001},\n",
       "  {'C': 100, 'gamma': 0.01},\n",
       "  {'C': 1000, 'gamma': 1e-06},\n",
       "  {'C': 1000, 'gamma': 1e-05},\n",
       "  {'C': 1000, 'gamma': 0.0001},\n",
       "  {'C': 1000, 'gamma': 0.001},\n",
       "  {'C': 1000, 'gamma': 0.01}],\n",
       " 'split0_test_score': array([0.905, 0.905, 0.905, 0.905, 0.905, 0.905, 0.905, 0.905, 0.905,\n",
       "        0.999, 0.905, 0.905, 0.905, 0.997, 1.   , 0.905, 0.905, 0.997,\n",
       "        1.   , 1.   ]),\n",
       " 'split1_test_score': array([0.904, 0.904, 0.904, 0.904, 0.904, 0.904, 0.904, 0.904, 0.904,\n",
       "        1.   , 0.904, 0.904, 0.904, 1.   , 1.   , 0.904, 0.904, 1.   ,\n",
       "        1.   , 1.   ]),\n",
       " 'split2_test_score': array([0.904, 0.904, 0.904, 0.904, 0.904, 0.904, 0.904, 0.904, 0.904,\n",
       "        0.998, 0.904, 0.904, 0.904, 0.998, 1.   , 0.904, 0.904, 0.998,\n",
       "        1.   , 1.   ]),\n",
       " 'split3_test_score': array([0.904, 0.904, 0.904, 0.904, 0.904, 0.904, 0.904, 0.904, 0.904,\n",
       "        1.   , 0.904, 0.904, 0.904, 1.   , 1.   , 0.904, 0.904, 1.   ,\n",
       "        1.   , 1.   ]),\n",
       " 'split4_test_score': array([0.904, 0.904, 0.904, 0.904, 0.904, 0.904, 0.904, 0.904, 0.904,\n",
       "        1.   , 0.904, 0.904, 0.904, 1.   , 1.   , 0.904, 0.904, 1.   ,\n",
       "        1.   , 1.   ]),\n",
       " 'mean_test_score': array([0.9042, 0.9042, 0.9042, 0.9042, 0.9042, 0.9042, 0.9042, 0.9042,\n",
       "        0.9042, 0.9994, 0.9042, 0.9042, 0.9042, 0.999 , 1.    , 0.9042,\n",
       "        0.9042, 0.999 , 1.    , 1.    ]),\n",
       " 'std_test_score': array([0.0004    , 0.0004    , 0.0004    , 0.0004    , 0.0004    ,\n",
       "        0.0004    , 0.0004    , 0.0004    , 0.0004    , 0.0008    ,\n",
       "        0.0004    , 0.0004    , 0.0004    , 0.00126491, 0.        ,\n",
       "        0.0004    , 0.0004    , 0.00126491, 0.        , 0.        ]),\n",
       " 'rank_test_score': array([7, 7, 7, 7, 7, 7, 7, 7, 7, 4, 7, 7, 7, 5, 1, 7, 7, 5, 1, 1],\n",
       "       dtype=int32)}"
      ]
     },
     "execution_count": 138,
     "metadata": {},
     "output_type": "execute_result"
    }
   ],
   "source": [
    "best_model.cv_results_"
   ]
  },
  {
   "cell_type": "code",
   "execution_count": 139,
   "id": "destroyed-punishment",
   "metadata": {},
   "outputs": [
    {
     "data": {
      "image/png": "[encoded data removed]",
      "text/plain": [
       "<Figure size 432x288 with 2 Axes>"
      ]
     },
     "metadata": {
      "needs_background": "light"
     },
     "output_type": "display_data"
    }
   ],
   "source": [
    "results = pd.DataFrame( search_results.cv_results_['params'] )\n",
    "\n",
    "results['score'] = 1 - search_results.cv_results_['mean_test_score']\n",
    "\n",
    "results = results.pivot('C','gamma','score')\n",
    "\n",
    "sns.heatmap(results,annot=True, fmt='.3f') \n",
    "plt.title('Training error w.r.t $C$ and $\\gamma$')\n",
    "plt.show()"
   ]
  },
  {
   "cell_type": "code",
   "execution_count": 140,
   "id": "fundamental-shock",
   "metadata": {},
   "outputs": [
    {
     "name": "stdout",
     "output_type": "stream",
     "text": [
      "Test set error for optimum classifier(C=100,gamma=0.01): 0.000\n"
     ]
    }
   ],
   "source": [
    "# extract the best estimator and its params\n",
    "opt_classifier = search_results.best_estimator_\n",
    "opt_C = search_results.best_params_['C']\n",
    "opt_gamma = search_results.best_params_['gamma']\n",
    "\n",
    "# just a copy/paste of test set evaluation from before\n",
    "opt_classifier.fit(X_train,Y_train)\n",
    "opt_test_score = 1 - opt_classifier.score(X_test,Y_test) # again turn accuracy into misclassification error\n",
    "print(f'Test set error for optimum classifier(C={opt_C},gamma={opt_gamma}): {opt_test_score:.3f}') "
   ]
  },
  {
   "cell_type": "code",
   "execution_count": 141,
   "id": "surgical-characteristic",
   "metadata": {},
   "outputs": [],
   "source": [
    "# Gets another 5000 random samples\n",
    "X_train, X_test, Y_train, Y_test = train_test_split(X_c, Y_c, train_size = 5000, random_state = 5)"
   ]
  },
  {
   "cell_type": "code",
   "execution_count": 142,
   "id": "supposed-laugh",
   "metadata": {},
   "outputs": [],
   "source": [
    "classifier = svm.SVC(kernel= 'rbf')\n",
    "parameters = {'C': [1, 10, 100, 1000], 'gamma': [1e-6, 1e-5, 1e-4, 1e-3, 1e-2]}\n",
    "search_results =  GridSearchCV(classifier, parameters)\n",
    "\n",
    "best_model = search_results.fit(X_train,Y_train)"
   ]
  },
  {
   "cell_type": "code",
   "execution_count": 143,
   "id": "ordered-stevens",
   "metadata": {},
   "outputs": [
    {
     "data": {
      "text/plain": [
       "100.0"
      ]
     },
     "execution_count": 143,
     "metadata": {},
     "output_type": "execute_result"
    }
   ],
   "source": [
    "# Predicts the output\n",
    "Y_pred = search_results.predict(X_test)\n",
    "\n",
    "# Displays the accuracy of the model\n",
    "accuracy = (accuracy_score(Y_test, Y_pred))*100\n",
    "accuracy"
   ]
  },
  {
   "cell_type": "code",
   "execution_count": 144,
   "id": "answering-blast",
   "metadata": {},
   "outputs": [
    {
     "name": "stdout",
     "output_type": "stream",
     "text": [
      "[[20751     0]\n",
      " [    0  2304]]\n",
      "              precision    recall  f1-score   support\n",
      "\n",
      "         0.0       1.00      1.00      1.00     20751\n",
      "         1.0       1.00      1.00      1.00      2304\n",
      "\n",
      "    accuracy                           1.00     23055\n",
      "   macro avg       1.00      1.00      1.00     23055\n",
      "weighted avg       1.00      1.00      1.00     23055\n",
      "\n"
     ]
    }
   ],
   "source": [
    "# Evaluating the algorithm\n",
    "print(confusion_matrix(Y_test, Y_pred))\n",
    "print(classification_report(Y_test, Y_pred))"
   ]
  },
  {
   "cell_type": "code",
   "execution_count": 145,
   "id": "alone-offset",
   "metadata": {},
   "outputs": [
    {
     "data": {
      "text/plain": [
       "{'mean_fit_time': array([0.55074449, 0.10552816, 0.7292665 , 0.14114614, 0.14902806,\n",
       "        0.10774794, 0.65155892, 0.1762403 , 0.61197462, 0.09446883,\n",
       "        0.47030873, 0.18023863, 0.68082466, 0.5743197 , 0.05275984,\n",
       "        0.66160097, 0.28946905, 1.4262547 , 0.16742935, 0.06278424]),\n",
       " 'std_fit_time': array([8.79983422e-01, 9.57047581e-04, 1.21858883e+00, 3.99380260e-03,\n",
       "        2.30897522e-02, 1.89316235e-03, 1.09057835e+00, 1.06673004e-02,\n",
       "        9.28551222e-01, 4.12379530e-03, 7.21636153e-01, 6.87315455e-03,\n",
       "        9.00039636e-01, 8.47383760e-01, 4.75938695e-03, 9.56796843e-01,\n",
       "        8.20092813e-03, 1.35612463e+00, 4.31611080e-02, 3.39147828e-03]),\n",
       " 'mean_score_time': array([0.0357636 , 0.03543997, 0.05490088, 0.03705745, 0.54247212,\n",
       "        0.03637748, 0.03586884, 0.04398041, 0.03815346, 0.01859665,\n",
       "        0.04093113, 0.03940539, 0.04046841, 0.0319025 , 0.00669169,\n",
       "        0.03776054, 0.03742876, 0.02036314, 0.00881286, 0.00667825]),\n",
       " 'std_score_time': array([1.18584211e-03, 1.76020095e-04, 3.30308028e-02, 5.94381169e-04,\n",
       "        1.00533620e+00, 1.62225195e-03, 1.25749650e-03, 6.22719883e-03,\n",
       "        2.41334974e-03, 1.80624002e-04, 1.01612627e-02, 4.32916709e-04,\n",
       "        4.17192790e-03, 2.58074659e-02, 1.60023524e-04, 3.88254230e-03,\n",
       "        3.66732808e-04, 2.15184537e-03, 1.84300036e-03, 2.41971560e-04]),\n",
       " 'param_C': masked_array(data=[1, 1, 1, 1, 1, 10, 10, 10, 10, 10, 100, 100, 100, 100,\n",
       "                    100, 1000, 1000, 1000, 1000, 1000],\n",
       "              mask=[False, False, False, False, False, False, False, False,\n",
       "                    False, False, False, False, False, False, False, False,\n",
       "                    False, False, False, False],\n",
       "        fill_value='?',\n",
       "             dtype=object),\n",
       " 'param_gamma': masked_array(data=[1e-06, 1e-05, 0.0001, 0.001, 0.01, 1e-06, 1e-05,\n",
       "                    0.0001, 0.001, 0.01, 1e-06, 1e-05, 0.0001, 0.001, 0.01,\n",
       "                    1e-06, 1e-05, 0.0001, 0.001, 0.01],\n",
       "              mask=[False, False, False, False, False, False, False, False,\n",
       "                    False, False, False, False, False, False, False, False,\n",
       "                    False, False, False, False],\n",
       "        fill_value='?',\n",
       "             dtype=object),\n",
       " 'params': [{'C': 1, 'gamma': 1e-06},\n",
       "  {'C': 1, 'gamma': 1e-05},\n",
       "  {'C': 1, 'gamma': 0.0001},\n",
       "  {'C': 1, 'gamma': 0.001},\n",
       "  {'C': 1, 'gamma': 0.01},\n",
       "  {'C': 10, 'gamma': 1e-06},\n",
       "  {'C': 10, 'gamma': 1e-05},\n",
       "  {'C': 10, 'gamma': 0.0001},\n",
       "  {'C': 10, 'gamma': 0.001},\n",
       "  {'C': 10, 'gamma': 0.01},\n",
       "  {'C': 100, 'gamma': 1e-06},\n",
       "  {'C': 100, 'gamma': 1e-05},\n",
       "  {'C': 100, 'gamma': 0.0001},\n",
       "  {'C': 100, 'gamma': 0.001},\n",
       "  {'C': 100, 'gamma': 0.01},\n",
       "  {'C': 1000, 'gamma': 1e-06},\n",
       "  {'C': 1000, 'gamma': 1e-05},\n",
       "  {'C': 1000, 'gamma': 0.0001},\n",
       "  {'C': 1000, 'gamma': 0.001},\n",
       "  {'C': 1000, 'gamma': 0.01}],\n",
       " 'split0_test_score': array([0.902, 0.902, 0.902, 0.902, 0.902, 0.902, 0.902, 0.902, 0.902,\n",
       "        1.   , 0.902, 0.902, 0.902, 0.999, 1.   , 0.902, 0.902, 0.999,\n",
       "        1.   , 1.   ]),\n",
       " 'split1_test_score': array([0.902, 0.902, 0.902, 0.902, 0.902, 0.902, 0.902, 0.902, 0.902,\n",
       "        0.999, 0.902, 0.902, 0.902, 0.998, 1.   , 0.902, 0.902, 0.998,\n",
       "        1.   , 1.   ]),\n",
       " 'split2_test_score': array([0.902, 0.902, 0.902, 0.902, 0.902, 0.902, 0.902, 0.902, 0.902,\n",
       "        1.   , 0.902, 0.902, 0.902, 1.   , 1.   , 0.902, 0.902, 1.   ,\n",
       "        1.   , 1.   ]),\n",
       " 'split3_test_score': array([0.902, 0.902, 0.902, 0.902, 0.902, 0.902, 0.902, 0.902, 0.902,\n",
       "        0.998, 0.902, 0.902, 0.902, 0.999, 1.   , 0.902, 0.902, 0.999,\n",
       "        1.   , 1.   ]),\n",
       " 'split4_test_score': array([0.901, 0.901, 0.901, 0.901, 0.901, 0.901, 0.901, 0.901, 0.901,\n",
       "        1.   , 0.901, 0.901, 0.901, 1.   , 1.   , 0.901, 0.901, 1.   ,\n",
       "        1.   , 1.   ]),\n",
       " 'mean_test_score': array([0.9018, 0.9018, 0.9018, 0.9018, 0.9018, 0.9018, 0.9018, 0.9018,\n",
       "        0.9018, 0.9994, 0.9018, 0.9018, 0.9018, 0.9992, 1.    , 0.9018,\n",
       "        0.9018, 0.9992, 1.    , 1.    ]),\n",
       " 'std_test_score': array([0.0004    , 0.0004    , 0.0004    , 0.0004    , 0.0004    ,\n",
       "        0.0004    , 0.0004    , 0.0004    , 0.0004    , 0.0008    ,\n",
       "        0.0004    , 0.0004    , 0.0004    , 0.00074833, 0.        ,\n",
       "        0.0004    , 0.0004    , 0.00074833, 0.        , 0.        ]),\n",
       " 'rank_test_score': array([7, 7, 7, 7, 7, 7, 7, 7, 7, 4, 7, 7, 7, 5, 1, 7, 7, 5, 1, 1],\n",
       "       dtype=int32)}"
      ]
     },
     "execution_count": 145,
     "metadata": {},
     "output_type": "execute_result"
    }
   ],
   "source": [
    "best_model.cv_results_"
   ]
  },
  {
   "cell_type": "code",
   "execution_count": 146,
   "id": "charged-satisfaction",
   "metadata": {},
   "outputs": [
    {
     "data": {
      "image/png": "[encoded data removed]",
      "text/plain": [
       "<Figure size 432x288 with 2 Axes>"
      ]
     },
     "metadata": {
      "needs_background": "light"
     },
     "output_type": "display_data"
    }
   ],
   "source": [
    "results = pd.DataFrame( search_results.cv_results_['params'] )\n",
    "\n",
    "results['score'] = 1 - search_results.cv_results_['mean_test_score']\n",
    "\n",
    "results = results.pivot('C','gamma','score')\n",
    "\n",
    "sns.heatmap(results,annot=True, fmt='.3f') \n",
    "plt.title('Training error w.r.t $C$ and $\\gamma$')\n",
    "plt.show()"
   ]
  },
  {
   "cell_type": "code",
   "execution_count": 147,
   "id": "posted-evening",
   "metadata": {},
   "outputs": [
    {
     "name": "stdout",
     "output_type": "stream",
     "text": [
      "Test set error for optimum classifier(C=100,gamma=0.01): 0.000\n"
     ]
    }
   ],
   "source": [
    "# extract the best estimator and its params\n",
    "opt_classifier = search_results.best_estimator_\n",
    "opt_C = search_results.best_params_['C']\n",
    "opt_gamma = search_results.best_params_['gamma']\n",
    "\n",
    "# just a copy/paste of test set evaluation from before\n",
    "opt_classifier.fit(X_train,Y_train)\n",
    "opt_test_score = 1 - opt_classifier.score(X_test,Y_test) # again turn accuracy into misclassification error\n",
    "print(f'Test set error for optimum classifier(C={opt_C},gamma={opt_gamma}): {opt_test_score:.3f}') "
   ]
  }
 ],
 "metadata": {
  "kernelspec": {
   "display_name": "Python 3 (ipykernel)",
   "language": "python",
   "name": "python3"
  },
  "language_info": {
   "codemirror_mode": {
    "name": "ipython",
    "version": 3
   },
   "file_extension": ".py",
   "mimetype": "text/x-python",
   "name": "python",
   "nbconvert_exporter": "python",
   "pygments_lexer": "ipython3",
   "version": "3.9.5"
  }
 },
 "nbformat": 4,
 "nbformat_minor": 5
}
